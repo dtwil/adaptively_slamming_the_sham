{
 "cells": [
  {
   "cell_type": "code",
   "execution_count": null,
   "metadata": {},
   "outputs": [],
   "source": [
    "import pandas as pd\n",
    "import numpy as np\n",
    "import matplotlib.pyplot as plt\n",
    "import math\n",
    "\n",
    "from cmdstanpy import CmdStanModel"
   ]
  },
  {
   "cell_type": "markdown",
   "metadata": {},
   "source": [
    "Below we repeat the analysis that was done in the original simulation."
   ]
  },
  {
   "cell_type": "code",
   "execution_count": null,
   "metadata": {},
   "outputs": [
    {
     "data": {
      "text/html": [
       "<div>\n",
       "<style scoped>\n",
       "    .dataframe tbody tr th:only-of-type {\n",
       "        vertical-align: middle;\n",
       "    }\n",
       "\n",
       "    .dataframe tbody tr th {\n",
       "        vertical-align: top;\n",
       "    }\n",
       "\n",
       "    .dataframe thead th {\n",
       "        text-align: right;\n",
       "    }\n",
       "</style>\n",
       "<table border=\"1\" class=\"dataframe\">\n",
       "  <thead>\n",
       "    <tr style=\"text-align: right;\">\n",
       "      <th></th>\n",
       "      <th>freq</th>\n",
       "      <th>sham_n</th>\n",
       "      <th>sham_est</th>\n",
       "      <th>sham_se</th>\n",
       "      <th>exposed_n</th>\n",
       "      <th>exposed_est</th>\n",
       "      <th>exposed_se</th>\n",
       "    </tr>\n",
       "  </thead>\n",
       "  <tbody>\n",
       "    <tr>\n",
       "      <th>0</th>\n",
       "      <td>1</td>\n",
       "      <td>32</td>\n",
       "      <td>0.995</td>\n",
       "      <td>0.041</td>\n",
       "      <td>32</td>\n",
       "      <td>1.036</td>\n",
       "      <td>0.041</td>\n",
       "    </tr>\n",
       "    <tr>\n",
       "      <th>1</th>\n",
       "      <td>15</td>\n",
       "      <td>32</td>\n",
       "      <td>1.013</td>\n",
       "      <td>0.042</td>\n",
       "      <td>36</td>\n",
       "      <td>1.173</td>\n",
       "      <td>0.034</td>\n",
       "    </tr>\n",
       "    <tr>\n",
       "      <th>2</th>\n",
       "      <td>30</td>\n",
       "      <td>32</td>\n",
       "      <td>1.033</td>\n",
       "      <td>0.032</td>\n",
       "      <td>32</td>\n",
       "      <td>1.107</td>\n",
       "      <td>0.035</td>\n",
       "    </tr>\n",
       "    <tr>\n",
       "      <th>3</th>\n",
       "      <td>45</td>\n",
       "      <td>32</td>\n",
       "      <td>0.990</td>\n",
       "      <td>0.032</td>\n",
       "      <td>32</td>\n",
       "      <td>1.181</td>\n",
       "      <td>0.052</td>\n",
       "    </tr>\n",
       "    <tr>\n",
       "      <th>4</th>\n",
       "      <td>60</td>\n",
       "      <td>32</td>\n",
       "      <td>0.998</td>\n",
       "      <td>0.040</td>\n",
       "      <td>32</td>\n",
       "      <td>1.136</td>\n",
       "      <td>0.044</td>\n",
       "    </tr>\n",
       "  </tbody>\n",
       "</table>\n",
       "</div>"
      ],
      "text/plain": [
       "   freq  sham_n  sham_est  sham_se  exposed_n  exposed_est  exposed_se\n",
       "0     1      32     0.995    0.041         32        1.036       0.041\n",
       "1    15      32     1.013    0.042         36        1.173       0.034\n",
       "2    30      32     1.033    0.032         32        1.107       0.035\n",
       "3    45      32     0.990    0.032         32        1.181       0.052\n",
       "4    60      32     0.998    0.040         32        1.136       0.044"
      ]
     },
     "execution_count": 38,
     "metadata": {},
     "output_type": "execute_result"
    }
   ],
   "source": [
    "chicks = pd.read_table(\"chickens.dat\", sep=\"\\\\s+\")\n",
    "chicks.head()"
   ]
  },
  {
   "cell_type": "code",
   "execution_count": null,
   "metadata": {},
   "outputs": [
    {
     "name": "stderr",
     "output_type": "stream",
     "text": [
      "17:29:23 - cmdstanpy - INFO - CmdStan start processing\n"
     ]
    },
    {
     "data": {
      "application/vnd.jupyter.widget-view+json": {
       "model_id": "27e1da2cabd249f5af0044e9b5ddb018",
       "version_major": 2,
       "version_minor": 0
      },
      "text/plain": [
       "chain 1 |          | 00:00 Status"
      ]
     },
     "metadata": {},
     "output_type": "display_data"
    },
    {
     "data": {
      "application/vnd.jupyter.widget-view+json": {
       "model_id": "84fe0dabdc5b417195853775ea880d6d",
       "version_major": 2,
       "version_minor": 0
      },
      "text/plain": [
       "chain 2 |          | 00:00 Status"
      ]
     },
     "metadata": {},
     "output_type": "display_data"
    },
    {
     "data": {
      "application/vnd.jupyter.widget-view+json": {
       "model_id": "797f65a96bd740c284123e3e6683e0bb",
       "version_major": 2,
       "version_minor": 0
      },
      "text/plain": [
       "chain 3 |          | 00:00 Status"
      ]
     },
     "metadata": {},
     "output_type": "display_data"
    },
    {
     "data": {
      "application/vnd.jupyter.widget-view+json": {
       "model_id": "b286cac05fa446b89984102ba2230563",
       "version_major": 2,
       "version_minor": 0
      },
      "text/plain": [
       "chain 4 |          | 00:00 Status"
      ]
     },
     "metadata": {},
     "output_type": "display_data"
    },
    {
     "name": "stdout",
     "output_type": "stream",
     "text": [
      "                                                                                                                                                                                                                                                                                                                                "
     ]
    },
    {
     "name": "stderr",
     "output_type": "stream",
     "text": [
      "17:29:24 - cmdstanpy - INFO - CmdStan done processing.\n"
     ]
    },
    {
     "name": "stdout",
     "output_type": "stream",
     "text": [
      "\n"
     ]
    }
   ],
   "source": [
    "chick_model = CmdStanModel(stan_file=\"dynamic_hier.stan\")\n",
    "chick_data = {\n",
    "    \"num_expts\": len(chicks),\n",
    "    \"avg_treated_response\": chicks[\"exposed_est\"] - 1,\n",
    "    \"avg_control_response\": chicks[\"sham_est\"] - 1,\n",
    "    \"treated_se\": chicks[\"exposed_se\"],\n",
    "    \"control_se\": chicks[\"sham_se\"],\n",
    "    \"expt_id\": list(range(1, len(chicks) + 1)),\n",
    "}\n",
    "chick_fit = chick_model.sample(data=chick_data, adapt_delta=0.9)"
   ]
  },
  {
   "cell_type": "markdown",
   "metadata": {},
   "source": [
    "The function below simulates a dataset for `num_experiments` experiments, all assumed to have the same proportion `prop_treatment` allocated to the treatment group. Here one complication is that the original simulation assumes all experiments have the same number of subjects in the control and treatment groups.\n",
    "\n",
    "The original assumptions are:\n",
    "\n",
    "$$\n",
    "\\begin{align*}\n",
    "    y_{j1} \\mid \\theta_j, b_j &\\sim N(\\theta_j + b_j, s_{j1}) \\\\\n",
    "    y_{j0} \\mid b_j &\\sim N(b_j, s_{j0}) \\\\\n",
    "    \\theta_j &\\sim N(\\mu_\\theta, \\sigma_\\theta) \\\\\n",
    "    b_j &\\sim N(\\mu_b, \\sigma_b)\n",
    "\\end{align*}\n",
    "$$\n",
    "\n",
    "These assumptions mostly still work here since $s_{j1}$ and $s_{j0}$ need not be the same for all experiments $j$. However, in the original simulation, it was assumed that $s_{j1} = s_{j0} = 0.04$ for all $j$. This is reasonable if the treatment and control groups have the same size and if we expect the treatment/sham effects to have similar spread, which was empirically shown for the chicken dataset. \n",
    "\n",
    "However, if the groups have unequal numbers of subjects, then we expect the group with fewer subjects to have higher variance. We let $Y_{j0}^{(i)}$ and $Y_{j1}^{(k)}$ be the outcomes for the $i$-th and $k$-th individuals in the control and treatment groups respectively for experiment $j$. Let the $j$-th experiment have $N_{j0}$ and $N_{j1}$ subjects in control and treatment groups respectively. If the number of subjects in each group is at least 30, then assuming the individual outcomes are iid, the CLT gives\n",
    "\n",
    "$$ y_{j1} = \\frac{1}{N_{j1}} \\sum_{k=1}^{N_{j1}} Y_{j1}^{(k)} \\rightarrow N(\\mu_{j1}, \\sigma_{j1}) $$\n",
    "\n",
    "where $\\sigma_{j1} = \\sqrt{\\frac{\\text{var}(Y_{j1})}{N_{j1}}}$ and similarly for $y_{j0}$. We identify $\\mu_{j1}$ with $\\theta_j + b_j$ and $\\sigma_{j1}$ with $s_{j1}$. Since $s_{j1} = 0.04$ in the original simulation, we use $\\text{var}(Y_{j1}) = 32 \\times (0.04)^2$ for all experiments $j$; likewise for $\\text{var}(Y_{j0})$.\n",
    "\n",
    "*Thought: What if the sample sizes are too small for the CLT? Maybe bootstrap or make distributional assumptions on $Y_{j1}^{(k)}$?*"
   ]
  },
  {
   "cell_type": "code",
   "execution_count": 52,
   "metadata": {},
   "outputs": [],
   "source": [
    "def fake_expts_with_prop(\n",
    "    num_subjects_per_expt,\n",
    "    prop_treatment,\n",
    "    mu_b,\n",
    "    mu_theta,\n",
    "    sigma_b,\n",
    "    sigma_theta,\n",
    "    sigma_treatment,\n",
    "    sigma_control,\n",
    "):\n",
    "    \"\"\"\n",
    "    Generate synthetic data with a specified proportion of treated subjects.\n",
    "\n",
    "    Args:\n",
    "    num_subjects_per_expt: A list of integers, the number of subjects in each\n",
    "        experiment.\n",
    "    prop_treatment: A float, the proportion of subjects that are treated.\n",
    "    mu_b: A float, the true (mean) of the control group response.\n",
    "    mu_theta: A float, the true (mean) treatment effect.\n",
    "    sigma_b: A float, the standard deviation of b_j.\n",
    "    sigma_theta: A float, the standard deviation of theta_j.\n",
    "    sigma_treatment: A float, the standard deviation of the treated group\n",
    "        response.\n",
    "    sigma_control: A float, the standard deviation of the control group\n",
    "        response.\n",
    "    \"\"\"\n",
    "    assert len(num_subjects_per_expt) == len(prop_treatment)\n",
    "    assert sigma_theta >= 0 and sigma_b >= 0\n",
    "    assert sigma_treatment >= 0 and sigma_control >= 0\n",
    "\n",
    "    num_expts = len(num_subjects_per_expt)\n",
    "    num_treated = np.floor(prop_treatment * num_subjects_per_expt).astype(int)\n",
    "    num_control = num_subjects_per_expt - num_treated\n",
    "\n",
    "    sigma_y1 = sigma_treatment / np.sqrt(num_treated)\n",
    "    sigma_y0 = sigma_control / np.sqrt(num_control)\n",
    "\n",
    "    theta = np.random.normal(mu_theta, sigma_theta, num_expts)\n",
    "    b = np.random.normal(mu_b, sigma_b, num_expts)\n",
    "\n",
    "    return {\n",
    "        \"num_expts\": len(num_subjects_per_expt),\n",
    "        \"avg_treated_response\": np.random.normal(theta + b, sigma_y1),\n",
    "        \"avg_control_response\": np.random.normal(b, sigma_y0),\n",
    "        \"treated_se\": sigma_treatment / np.sqrt(num_treated),\n",
    "        \"control_se\": sigma_control / np.sqrt(num_control),\n",
    "        \"expt_id\": list(range(1, num_expts + 1)),\n",
    "    }"
   ]
  },
  {
   "cell_type": "code",
   "execution_count": 55,
   "metadata": {},
   "outputs": [
    {
     "name": "stdout",
     "output_type": "stream",
     "text": [
      "{'num_expts': 5, 'avg_treated_response': array([ 3.18610929,  0.0279549 ,  1.77932519, -1.35866756,  1.37670522]), 'avg_control_response': array([ 0.85754649,  0.02449063,  0.23535277, -1.37313463,  0.95365174]), 'treated_se': array([0.05842374, 0.05842374, 0.05842374, 0.07542472, 0.09237604]), 'control_se': array([0.05842374, 0.05842374, 0.05842374, 0.04937707, 0.04618802]), 'expt_id': [1, 2, 3, 4, 5]}\n"
     ]
    }
   ],
   "source": [
    "proportions = np.array([0.5, 0.5, 0.5, 0.3, 0.2])\n",
    "num_subjects_per_expt = np.array([30, 30, 30, 30, 30])\n",
    "sigma_y1 = (32 ** 0.5) * 0.04 # see above for explanation\n",
    "sigma_y0 = (32 ** 0.5) * 0.04\n",
    "synthetic_data = fake_expts_with_prop(\n",
    "    num_subjects_per_expt,\n",
    "    proportions,\n",
    "    mu_b=0,\n",
    "    mu_theta=1,\n",
    "    sigma_b=1,\n",
    "    sigma_theta=1,\n",
    "    sigma_treatment=sigma_y1,\n",
    "    sigma_control=sigma_y0,\n",
    ")\n",
    "\n",
    "print(synthetic_data)"
   ]
  }
 ],
 "metadata": {
  "kernelspec": {
   "display_name": "sham",
   "language": "python",
   "name": "python3"
  },
  "language_info": {
   "codemirror_mode": {
    "name": "ipython",
    "version": 3
   },
   "file_extension": ".py",
   "mimetype": "text/x-python",
   "name": "python",
   "nbconvert_exporter": "python",
   "pygments_lexer": "ipython3",
   "version": "3.13.2"
  }
 },
 "nbformat": 4,
 "nbformat_minor": 2
}
