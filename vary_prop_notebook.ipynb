{
 "cells": [
  {
   "cell_type": "code",
   "execution_count": 1,
   "metadata": {},
   "outputs": [],
   "source": [
    "import simulation_tools as st\n",
    "\n",
    "import time\n",
    "\n",
    "from scipy import stats\n",
    "import pandas as pd\n",
    "import numpy as np\n",
    "import matplotlib.pyplot as plt\n",
    "\n",
    "from cmdstanpy import CmdStanModel\n",
    "\n",
    "from plotnine import ggplot, aes, geom_line, geom_point, labs, theme_minimal\n",
    "from IPython.display import display"
   ]
  },
  {
   "cell_type": "code",
   "execution_count": 2,
   "metadata": {},
   "outputs": [],
   "source": [
    "# Remove cmdstanpy logs\n",
    "import logging\n",
    "logger = logging.getLogger('cmdstanpy')\n",
    "logger.addHandler(logging.NullHandler())\n",
    "logger.propagate = False\n",
    "logger.setLevel(logging.CRITICAL)"
   ]
  },
  {
   "cell_type": "code",
   "execution_count": 3,
   "metadata": {},
   "outputs": [],
   "source": [
    "def simulate_across_sigma_b(\n",
    "    model,\n",
    "    num_repetitions,\n",
    "    num_subjects_per_expt,\n",
    "    prop_treatment,\n",
    "    mu_b,\n",
    "    mu_theta,\n",
    "    sigma_b_grid,\n",
    "    sigma_theta,\n",
    "    sigma_treatment,\n",
    "    sigma_control,\n",
    "    show_progress=False\n",
    "):\n",
    "    begin_time = time.time()\n",
    "\n",
    "    summary_stats = {}\n",
    "    for i, sigma_b in enumerate(sigma_b_grid):\n",
    "        if show_progress:\n",
    "            print(f\"Sigma b: {sigma_b}. Run: {i + 1}/{len(sigma_b_grid)}\")\n",
    "\n",
    "        summary_stats[sigma_b] = st.repeat_inferences(\n",
    "            model=model,\n",
    "            num_repetitions=num_repetitions,\n",
    "            num_subjects_per_expt=num_subjects_per_expt,\n",
    "            prop_treatment=prop_treatment,\n",
    "            mu_b=mu_b,\n",
    "            mu_theta=mu_theta,\n",
    "            sigma_b=sigma_b,\n",
    "            sigma_theta=sigma_theta,\n",
    "            sigma_treatment=sigma_treatment,\n",
    "            sigma_control=sigma_control,\n",
    "        )\n",
    "\n",
    "    if show_progress:\n",
    "        print(f\"Took {time.time() - begin_time:.2f} seconds.\")\n",
    "\n",
    "    return summary_stats"
   ]
  },
  {
   "cell_type": "code",
   "execution_count": 4,
   "metadata": {},
   "outputs": [],
   "source": [
    "def summary_stats_dict_to_df(summary_stats_dict):\n",
    "    sigma_b_grid = list(summary_stats_dict.keys())\n",
    "    estimators = list(summary_stats_dict[sigma_b_grid[0]].keys())\n",
    "    statistics = list(summary_stats_dict[sigma_b_grid[0]][estimators[0]].keys())\n",
    "\n",
    "    df = pd.DataFrame({\n",
    "        \"sigma_b\": np.tile(sigma_b_grid, len(estimators)),\n",
    "        \"estimator\": np.repeat(estimators, len(sigma_b_grid))\n",
    "    })\n",
    "\n",
    "    for statistic in statistics:\n",
    "        df[statistic] = [\n",
    "            np.array(summary_stats_dict[s][e][statistic]).mean()\n",
    "            for s, e in zip(df[\"sigma_b\"], df[\"estimator\"])\n",
    "        ]\n",
    "        \n",
    "    return df"
   ]
  },
  {
   "cell_type": "code",
   "execution_count": 5,
   "metadata": {},
   "outputs": [],
   "source": [
    "def simulate_across_sigma_b_df(\n",
    "    model,\n",
    "    num_repetitions,\n",
    "    num_subjects_per_expt,\n",
    "    prop_treatment,\n",
    "    mu_b,\n",
    "    mu_theta,\n",
    "    sigma_b_grid,\n",
    "    sigma_theta,\n",
    "    sigma_treatment,\n",
    "    sigma_control,\n",
    "    show_progress=False\n",
    "):\n",
    "    summary_stats = simulate_across_sigma_b(\n",
    "        model=model,\n",
    "        num_repetitions=num_repetitions,\n",
    "        num_subjects_per_expt=num_subjects_per_expt,\n",
    "        prop_treatment=prop_treatment,\n",
    "        mu_b=mu_b,\n",
    "        mu_theta=mu_theta,\n",
    "        sigma_b_grid=sigma_b_grid,\n",
    "        sigma_theta=sigma_theta,\n",
    "        sigma_treatment=sigma_treatment,\n",
    "        sigma_control=sigma_control,\n",
    "        show_progress=show_progress\n",
    "    )\n",
    "    \n",
    "    return summary_stats_dict_to_df(summary_stats)"
   ]
  },
  {
   "cell_type": "code",
   "execution_count": 6,
   "metadata": {},
   "outputs": [
    {
     "name": "stdout",
     "output_type": "stream",
     "text": [
      "Sigma b: 0.0. Run: 1/11\n",
      "Sigma b: 0.01. Run: 2/11\n",
      "Sigma b: 0.02. Run: 3/11\n",
      "Sigma b: 0.03. Run: 4/11\n",
      "Sigma b: 0.04. Run: 5/11\n",
      "Sigma b: 0.05. Run: 6/11\n",
      "Sigma b: 0.06. Run: 7/11\n",
      "Sigma b: 0.07. Run: 8/11\n",
      "Sigma b: 0.08. Run: 9/11\n",
      "Sigma b: 0.09. Run: 10/11\n",
      "Sigma b: 0.1. Run: 11/11\n",
      "Took 115.26 seconds.\n"
     ]
    }
   ],
   "source": [
    "df_const_p = simulate_across_sigma_b_df(\n",
    "    model=CmdStanModel(stan_file=\"dynamic_hier.stan\"),\n",
    "    num_repetitions=20,\n",
    "    num_subjects_per_expt=np.repeat(\n",
    "            st.CHICK_NUM_SUBJECTS_PER_EXPT, st.CHICK_NUM_EXPTS\n",
    "        ),\n",
    "    prop_treatment=np.full(38, 0.5),\n",
    "    mu_b=0,\n",
    "    mu_theta=st.CHICK_MU_THETA,\n",
    "    sigma_b_grid=st.CHICK_SIGMA_B_GRID,\n",
    "    sigma_theta=st.CHICK_SIGMA_THETA,\n",
    "    sigma_treatment=st.CHICK_SIGMA_TREATMENT,\n",
    "    sigma_control=st.CHICK_SIGMA_CONTROL,\n",
    "    show_progress=True,\n",
    ")"
   ]
  },
  {
   "cell_type": "code",
   "execution_count": 7,
   "metadata": {},
   "outputs": [
    {
     "name": "stdout",
     "output_type": "stream",
     "text": [
      "Sigma b: 0.0. Run: 1/11\n",
      "Sigma b: 0.01. Run: 2/11\n",
      "Sigma b: 0.02. Run: 3/11\n",
      "Sigma b: 0.03. Run: 4/11\n",
      "Sigma b: 0.04. Run: 5/11\n",
      "Sigma b: 0.05. Run: 6/11\n",
      "Sigma b: 0.06. Run: 7/11\n",
      "Sigma b: 0.07. Run: 8/11\n",
      "Sigma b: 0.08. Run: 9/11\n",
      "Sigma b: 0.09. Run: 10/11\n",
      "Sigma b: 0.1. Run: 11/11\n",
      "Took 123.11 seconds.\n"
     ]
    }
   ],
   "source": [
    "# First 5 experiments use p=0.5\n",
    "# the rest increase linearly from p=0.5 to p=0.95\n",
    "\n",
    "prop_treatment_varying = np.concatenate(\n",
    "    (np.full(5, 0.5), np.linspace(0.5, 0.95, st.CHICK_NUM_EXPTS - 5))\n",
    ")\n",
    "df_vary_p = simulate_across_sigma_b_df(\n",
    "    model=CmdStanModel(stan_file=\"dynamic_hier.stan\"),\n",
    "    num_repetitions=20,\n",
    "    num_subjects_per_expt=np.repeat(\n",
    "            st.CHICK_NUM_SUBJECTS_PER_EXPT, st.CHICK_NUM_EXPTS\n",
    "        ),\n",
    "    prop_treatment=prop_treatment_varying,\n",
    "    mu_b=0,\n",
    "    mu_theta=st.CHICK_MU_THETA,\n",
    "    sigma_b_grid=st.CHICK_SIGMA_B_GRID,\n",
    "    sigma_theta=st.CHICK_SIGMA_THETA,\n",
    "    sigma_treatment=st.CHICK_SIGMA_TREATMENT,\n",
    "    sigma_control=st.CHICK_SIGMA_CONTROL,\n",
    "    show_progress=True,\n",
    ")"
   ]
  },
  {
   "cell_type": "code",
   "execution_count": 62,
   "metadata": {},
   "outputs": [],
   "source": [
    "plot_df_varying = df_vary_p[[\"sigma_b\", \"estimator\", \"mse\"]]"
   ]
  },
  {
   "cell_type": "code",
   "execution_count": 11,
   "metadata": {},
   "outputs": [
    {
     "data": {
      "application/vnd.plotly.v1+json": {
       "config": {
        "plotlyServerURL": "https://plot.ly"
       },
       "data": [
        {
         "hovertemplate": "estimator=exposed_only<br>LineStyle=Constant p<br>sigma_b=%{x}<br>Mean Squared Error=%{y}<extra></extra>",
         "legendgroup": "exposed_only, Constant p",
         "line": {
          "color": "#636efa",
          "dash": "solid"
         },
         "marker": {
          "symbol": "circle"
         },
         "mode": "lines+markers",
         "name": "exposed_only, Constant p",
         "orientation": "v",
         "showlegend": true,
         "type": "scatter",
         "x": {
          "bdata": "AAAAAAAAAAB7FK5H4XqEP3sUrkfhepQ/uB6F61G4nj97FK5H4XqkP5qZmZmZmak/uB6F61G4rj/sUbgeheuxP3sUrkfherQ/CtejcD0Ktz+amZmZmZm5Pw==",
          "dtype": "f8"
         },
         "xaxis": "x",
         "y": {
          "bdata": "XaV5C/0PWz/FEvo2+hFaP15iwoO4fGA/OyqWrUwwZT8z7KT7sQdrP8LTtt7xc3A/YU17lHXMcz/WF6Fe/Kt6P6QZlpMtB4E/uAZSciRKhT8tMZytx8GGPw==",
          "dtype": "f8"
         },
         "yaxis": "y"
        },
        {
         "hovertemplate": "estimator=exposed_only<br>LineStyle=Varying p<br>sigma_b=%{x}<br>Mean Squared Error=%{y}<extra></extra>",
         "legendgroup": "exposed_only, Varying p",
         "line": {
          "color": "#636efa",
          "dash": "dot"
         },
         "marker": {
          "symbol": "circle"
         },
         "mode": "lines+markers",
         "name": "exposed_only, Varying p",
         "orientation": "v",
         "showlegend": true,
         "type": "scatter",
         "x": {
          "bdata": "AAAAAAAAAAB7FK5H4XqEP3sUrkfhepQ/uB6F61G4nj97FK5H4XqkP5qZmZmZmak/uB6F61G4rj/sUbgeheuxP3sUrkfherQ/CtejcD0Ktz+amZmZmZm5Pw==",
          "dtype": "f8"
         },
         "xaxis": "x",
         "y": {
          "bdata": "8Y0lJFJxVD9TSCur4UFVP+akdRxMKV0/mfboiDV7Yz+MWJ+GG+lmPwWCMWQzEXA/Xm+0un73dD+/IrtGC+t4PwZ8ShnS3X8/WI/SlmOUhD9uiZ3ofbOHPw==",
          "dtype": "f8"
         },
         "yaxis": "y"
        },
        {
         "hovertemplate": "estimator=difference<br>LineStyle=Constant p<br>sigma_b=%{x}<br>Mean Squared Error=%{y}<extra></extra>",
         "legendgroup": "difference, Constant p",
         "line": {
          "color": "#EF553B",
          "dash": "solid"
         },
         "marker": {
          "symbol": "circle"
         },
         "mode": "lines+markers",
         "name": "difference, Constant p",
         "orientation": "v",
         "showlegend": true,
         "type": "scatter",
         "x": {
          "bdata": "AAAAAAAAAAB7FK5H4XqEP3sUrkfhepQ/uB6F61G4nj97FK5H4XqkP5qZmZmZmak/uB6F61G4rj/sUbgeheuxP3sUrkfherQ/CtejcD0Ktz+amZmZmZm5Pw==",
          "dtype": "f8"
         },
         "xaxis": "x",
         "y": {
          "bdata": "3YZM0Hr0aT+I537JfhloP3auDXuzb2k/ZVsp+qxzaT/tkQ3zKQ5tP0AYAmjivGk/GWmx7+FfaD/GugrijjtoP4ug5NTYFms/SGGMdE+saT84Rsv0m+FpPw==",
          "dtype": "f8"
         },
         "yaxis": "y"
        },
        {
         "hovertemplate": "estimator=difference<br>LineStyle=Varying p<br>sigma_b=%{x}<br>Mean Squared Error=%{y}<extra></extra>",
         "legendgroup": "difference, Varying p",
         "line": {
          "color": "#EF553B",
          "dash": "dot"
         },
         "marker": {
          "symbol": "circle"
         },
         "mode": "lines+markers",
         "name": "difference, Varying p",
         "orientation": "v",
         "showlegend": true,
         "type": "scatter",
         "x": {
          "bdata": "AAAAAAAAAAB7FK5H4XqEP3sUrkfhepQ/uB6F61G4nj97FK5H4XqkP5qZmZmZmak/uB6F61G4rj/sUbgeheuxP3sUrkfherQ/CtejcD0Ktz+amZmZmZm5Pw==",
          "dtype": "f8"
         },
         "xaxis": "x",
         "y": {
          "bdata": "TEm2Ce/Gcz/OjJZu9gZ0P+2mILTM8XM/pBPMdzN0cz+fWroVvD10P8I6Y8vgeXQ/2nmhFDXNdD8FZikw6CpzP4x2JMwbJHI/+JLzdTtGcz9jCHQ96Zx0Pw==",
          "dtype": "f8"
         },
         "yaxis": "y"
        },
        {
         "hovertemplate": "estimator=posterior<br>LineStyle=Constant p<br>sigma_b=%{x}<br>Mean Squared Error=%{y}<extra></extra>",
         "legendgroup": "posterior, Constant p",
         "line": {
          "color": "#00cc96",
          "dash": "solid"
         },
         "marker": {
          "symbol": "circle"
         },
         "mode": "lines+markers",
         "name": "posterior, Constant p",
         "orientation": "v",
         "showlegend": true,
         "type": "scatter",
         "x": {
          "bdata": "AAAAAAAAAAB7FK5H4XqEP3sUrkfhepQ/uB6F61G4nj97FK5H4XqkP5qZmZmZmak/uB6F61G4rj/sUbgeheuxP3sUrkfherQ/CtejcD0Ktz+amZmZmZm5Pw==",
          "dtype": "f8"
         },
         "xaxis": "x",
         "y": {
          "bdata": "0BBzxw8/UT9l8pG63VFRP/cHo58JClY/6ira0a4yVj/a/PWk/+BbPwUT7csNoFo/EkhFet6aWT8dn2dAXLBYP3LTuTCFDFw/ou6UeBoQWj9SfqU8RZRZPw==",
          "dtype": "f8"
         },
         "yaxis": "y"
        },
        {
         "hovertemplate": "estimator=posterior<br>LineStyle=Varying p<br>sigma_b=%{x}<br>Mean Squared Error=%{y}<extra></extra>",
         "legendgroup": "posterior, Varying p",
         "line": {
          "color": "#00cc96",
          "dash": "dot"
         },
         "marker": {
          "symbol": "circle"
         },
         "mode": "lines+markers",
         "name": "posterior, Varying p",
         "orientation": "v",
         "showlegend": true,
         "type": "scatter",
         "x": {
          "bdata": "AAAAAAAAAAB7FK5H4XqEP3sUrkfhepQ/uB6F61G4nj97FK5H4XqkP5qZmZmZmak/uB6F61G4rj/sUbgeheuxP3sUrkfherQ/CtejcD0Ktz+amZmZmZm5Pw==",
          "dtype": "f8"
         },
         "xaxis": "x",
         "y": {
          "bdata": "SjddyEMDUj/alwAhgDpRPyY9CRV3jFM/Tvwp7bunWD/WeykYGhRZP3NowSdS+1g/bWgvc3cuXD9IUBvgL+haPzXdCFtdnFw/q8mWN6ciYD+Gtgo4uAVdPw==",
          "dtype": "f8"
         },
         "yaxis": "y"
        }
       ],
       "layout": {
        "legend": {
         "title": {
          "text": "Estimator"
         },
         "tracegroupgap": 0
        },
        "template": {
         "data": {
          "bar": [
           {
            "error_x": {
             "color": "#2a3f5f"
            },
            "error_y": {
             "color": "#2a3f5f"
            },
            "marker": {
             "line": {
              "color": "#E5ECF6",
              "width": 0.5
             },
             "pattern": {
              "fillmode": "overlay",
              "size": 10,
              "solidity": 0.2
             }
            },
            "type": "bar"
           }
          ],
          "barpolar": [
           {
            "marker": {
             "line": {
              "color": "#E5ECF6",
              "width": 0.5
             },
             "pattern": {
              "fillmode": "overlay",
              "size": 10,
              "solidity": 0.2
             }
            },
            "type": "barpolar"
           }
          ],
          "carpet": [
           {
            "aaxis": {
             "endlinecolor": "#2a3f5f",
             "gridcolor": "white",
             "linecolor": "white",
             "minorgridcolor": "white",
             "startlinecolor": "#2a3f5f"
            },
            "baxis": {
             "endlinecolor": "#2a3f5f",
             "gridcolor": "white",
             "linecolor": "white",
             "minorgridcolor": "white",
             "startlinecolor": "#2a3f5f"
            },
            "type": "carpet"
           }
          ],
          "choropleth": [
           {
            "colorbar": {
             "outlinewidth": 0,
             "ticks": ""
            },
            "type": "choropleth"
           }
          ],
          "contour": [
           {
            "colorbar": {
             "outlinewidth": 0,
             "ticks": ""
            },
            "colorscale": [
             [
              0,
              "#0d0887"
             ],
             [
              0.1111111111111111,
              "#46039f"
             ],
             [
              0.2222222222222222,
              "#7201a8"
             ],
             [
              0.3333333333333333,
              "#9c179e"
             ],
             [
              0.4444444444444444,
              "#bd3786"
             ],
             [
              0.5555555555555556,
              "#d8576b"
             ],
             [
              0.6666666666666666,
              "#ed7953"
             ],
             [
              0.7777777777777778,
              "#fb9f3a"
             ],
             [
              0.8888888888888888,
              "#fdca26"
             ],
             [
              1,
              "#f0f921"
             ]
            ],
            "type": "contour"
           }
          ],
          "contourcarpet": [
           {
            "colorbar": {
             "outlinewidth": 0,
             "ticks": ""
            },
            "type": "contourcarpet"
           }
          ],
          "heatmap": [
           {
            "colorbar": {
             "outlinewidth": 0,
             "ticks": ""
            },
            "colorscale": [
             [
              0,
              "#0d0887"
             ],
             [
              0.1111111111111111,
              "#46039f"
             ],
             [
              0.2222222222222222,
              "#7201a8"
             ],
             [
              0.3333333333333333,
              "#9c179e"
             ],
             [
              0.4444444444444444,
              "#bd3786"
             ],
             [
              0.5555555555555556,
              "#d8576b"
             ],
             [
              0.6666666666666666,
              "#ed7953"
             ],
             [
              0.7777777777777778,
              "#fb9f3a"
             ],
             [
              0.8888888888888888,
              "#fdca26"
             ],
             [
              1,
              "#f0f921"
             ]
            ],
            "type": "heatmap"
           }
          ],
          "histogram": [
           {
            "marker": {
             "pattern": {
              "fillmode": "overlay",
              "size": 10,
              "solidity": 0.2
             }
            },
            "type": "histogram"
           }
          ],
          "histogram2d": [
           {
            "colorbar": {
             "outlinewidth": 0,
             "ticks": ""
            },
            "colorscale": [
             [
              0,
              "#0d0887"
             ],
             [
              0.1111111111111111,
              "#46039f"
             ],
             [
              0.2222222222222222,
              "#7201a8"
             ],
             [
              0.3333333333333333,
              "#9c179e"
             ],
             [
              0.4444444444444444,
              "#bd3786"
             ],
             [
              0.5555555555555556,
              "#d8576b"
             ],
             [
              0.6666666666666666,
              "#ed7953"
             ],
             [
              0.7777777777777778,
              "#fb9f3a"
             ],
             [
              0.8888888888888888,
              "#fdca26"
             ],
             [
              1,
              "#f0f921"
             ]
            ],
            "type": "histogram2d"
           }
          ],
          "histogram2dcontour": [
           {
            "colorbar": {
             "outlinewidth": 0,
             "ticks": ""
            },
            "colorscale": [
             [
              0,
              "#0d0887"
             ],
             [
              0.1111111111111111,
              "#46039f"
             ],
             [
              0.2222222222222222,
              "#7201a8"
             ],
             [
              0.3333333333333333,
              "#9c179e"
             ],
             [
              0.4444444444444444,
              "#bd3786"
             ],
             [
              0.5555555555555556,
              "#d8576b"
             ],
             [
              0.6666666666666666,
              "#ed7953"
             ],
             [
              0.7777777777777778,
              "#fb9f3a"
             ],
             [
              0.8888888888888888,
              "#fdca26"
             ],
             [
              1,
              "#f0f921"
             ]
            ],
            "type": "histogram2dcontour"
           }
          ],
          "mesh3d": [
           {
            "colorbar": {
             "outlinewidth": 0,
             "ticks": ""
            },
            "type": "mesh3d"
           }
          ],
          "parcoords": [
           {
            "line": {
             "colorbar": {
              "outlinewidth": 0,
              "ticks": ""
             }
            },
            "type": "parcoords"
           }
          ],
          "pie": [
           {
            "automargin": true,
            "type": "pie"
           }
          ],
          "scatter": [
           {
            "fillpattern": {
             "fillmode": "overlay",
             "size": 10,
             "solidity": 0.2
            },
            "type": "scatter"
           }
          ],
          "scatter3d": [
           {
            "line": {
             "colorbar": {
              "outlinewidth": 0,
              "ticks": ""
             }
            },
            "marker": {
             "colorbar": {
              "outlinewidth": 0,
              "ticks": ""
             }
            },
            "type": "scatter3d"
           }
          ],
          "scattercarpet": [
           {
            "marker": {
             "colorbar": {
              "outlinewidth": 0,
              "ticks": ""
             }
            },
            "type": "scattercarpet"
           }
          ],
          "scattergeo": [
           {
            "marker": {
             "colorbar": {
              "outlinewidth": 0,
              "ticks": ""
             }
            },
            "type": "scattergeo"
           }
          ],
          "scattergl": [
           {
            "marker": {
             "colorbar": {
              "outlinewidth": 0,
              "ticks": ""
             }
            },
            "type": "scattergl"
           }
          ],
          "scattermap": [
           {
            "marker": {
             "colorbar": {
              "outlinewidth": 0,
              "ticks": ""
             }
            },
            "type": "scattermap"
           }
          ],
          "scattermapbox": [
           {
            "marker": {
             "colorbar": {
              "outlinewidth": 0,
              "ticks": ""
             }
            },
            "type": "scattermapbox"
           }
          ],
          "scatterpolar": [
           {
            "marker": {
             "colorbar": {
              "outlinewidth": 0,
              "ticks": ""
             }
            },
            "type": "scatterpolar"
           }
          ],
          "scatterpolargl": [
           {
            "marker": {
             "colorbar": {
              "outlinewidth": 0,
              "ticks": ""
             }
            },
            "type": "scatterpolargl"
           }
          ],
          "scatterternary": [
           {
            "marker": {
             "colorbar": {
              "outlinewidth": 0,
              "ticks": ""
             }
            },
            "type": "scatterternary"
           }
          ],
          "surface": [
           {
            "colorbar": {
             "outlinewidth": 0,
             "ticks": ""
            },
            "colorscale": [
             [
              0,
              "#0d0887"
             ],
             [
              0.1111111111111111,
              "#46039f"
             ],
             [
              0.2222222222222222,
              "#7201a8"
             ],
             [
              0.3333333333333333,
              "#9c179e"
             ],
             [
              0.4444444444444444,
              "#bd3786"
             ],
             [
              0.5555555555555556,
              "#d8576b"
             ],
             [
              0.6666666666666666,
              "#ed7953"
             ],
             [
              0.7777777777777778,
              "#fb9f3a"
             ],
             [
              0.8888888888888888,
              "#fdca26"
             ],
             [
              1,
              "#f0f921"
             ]
            ],
            "type": "surface"
           }
          ],
          "table": [
           {
            "cells": {
             "fill": {
              "color": "#EBF0F8"
             },
             "line": {
              "color": "white"
             }
            },
            "header": {
             "fill": {
              "color": "#C8D4E3"
             },
             "line": {
              "color": "white"
             }
            },
            "type": "table"
           }
          ]
         },
         "layout": {
          "annotationdefaults": {
           "arrowcolor": "#2a3f5f",
           "arrowhead": 0,
           "arrowwidth": 1
          },
          "autotypenumbers": "strict",
          "coloraxis": {
           "colorbar": {
            "outlinewidth": 0,
            "ticks": ""
           }
          },
          "colorscale": {
           "diverging": [
            [
             0,
             "#8e0152"
            ],
            [
             0.1,
             "#c51b7d"
            ],
            [
             0.2,
             "#de77ae"
            ],
            [
             0.3,
             "#f1b6da"
            ],
            [
             0.4,
             "#fde0ef"
            ],
            [
             0.5,
             "#f7f7f7"
            ],
            [
             0.6,
             "#e6f5d0"
            ],
            [
             0.7,
             "#b8e186"
            ],
            [
             0.8,
             "#7fbc41"
            ],
            [
             0.9,
             "#4d9221"
            ],
            [
             1,
             "#276419"
            ]
           ],
           "sequential": [
            [
             0,
             "#0d0887"
            ],
            [
             0.1111111111111111,
             "#46039f"
            ],
            [
             0.2222222222222222,
             "#7201a8"
            ],
            [
             0.3333333333333333,
             "#9c179e"
            ],
            [
             0.4444444444444444,
             "#bd3786"
            ],
            [
             0.5555555555555556,
             "#d8576b"
            ],
            [
             0.6666666666666666,
             "#ed7953"
            ],
            [
             0.7777777777777778,
             "#fb9f3a"
            ],
            [
             0.8888888888888888,
             "#fdca26"
            ],
            [
             1,
             "#f0f921"
            ]
           ],
           "sequentialminus": [
            [
             0,
             "#0d0887"
            ],
            [
             0.1111111111111111,
             "#46039f"
            ],
            [
             0.2222222222222222,
             "#7201a8"
            ],
            [
             0.3333333333333333,
             "#9c179e"
            ],
            [
             0.4444444444444444,
             "#bd3786"
            ],
            [
             0.5555555555555556,
             "#d8576b"
            ],
            [
             0.6666666666666666,
             "#ed7953"
            ],
            [
             0.7777777777777778,
             "#fb9f3a"
            ],
            [
             0.8888888888888888,
             "#fdca26"
            ],
            [
             1,
             "#f0f921"
            ]
           ]
          },
          "colorway": [
           "#636efa",
           "#EF553B",
           "#00cc96",
           "#ab63fa",
           "#FFA15A",
           "#19d3f3",
           "#FF6692",
           "#B6E880",
           "#FF97FF",
           "#FECB52"
          ],
          "font": {
           "color": "#2a3f5f"
          },
          "geo": {
           "bgcolor": "white",
           "lakecolor": "white",
           "landcolor": "#E5ECF6",
           "showlakes": true,
           "showland": true,
           "subunitcolor": "white"
          },
          "hoverlabel": {
           "align": "left"
          },
          "hovermode": "closest",
          "mapbox": {
           "style": "light"
          },
          "paper_bgcolor": "white",
          "plot_bgcolor": "#E5ECF6",
          "polar": {
           "angularaxis": {
            "gridcolor": "white",
            "linecolor": "white",
            "ticks": ""
           },
           "bgcolor": "#E5ECF6",
           "radialaxis": {
            "gridcolor": "white",
            "linecolor": "white",
            "ticks": ""
           }
          },
          "scene": {
           "xaxis": {
            "backgroundcolor": "#E5ECF6",
            "gridcolor": "white",
            "gridwidth": 2,
            "linecolor": "white",
            "showbackground": true,
            "ticks": "",
            "zerolinecolor": "white"
           },
           "yaxis": {
            "backgroundcolor": "#E5ECF6",
            "gridcolor": "white",
            "gridwidth": 2,
            "linecolor": "white",
            "showbackground": true,
            "ticks": "",
            "zerolinecolor": "white"
           },
           "zaxis": {
            "backgroundcolor": "#E5ECF6",
            "gridcolor": "white",
            "gridwidth": 2,
            "linecolor": "white",
            "showbackground": true,
            "ticks": "",
            "zerolinecolor": "white"
           }
          },
          "shapedefaults": {
           "line": {
            "color": "#2a3f5f"
           }
          },
          "ternary": {
           "aaxis": {
            "gridcolor": "white",
            "linecolor": "white",
            "ticks": ""
           },
           "baxis": {
            "gridcolor": "white",
            "linecolor": "white",
            "ticks": ""
           },
           "bgcolor": "#E5ECF6",
           "caxis": {
            "gridcolor": "white",
            "linecolor": "white",
            "ticks": ""
           }
          },
          "title": {
           "x": 0.05
          },
          "xaxis": {
           "automargin": true,
           "gridcolor": "white",
           "linecolor": "white",
           "ticks": "",
           "title": {
            "standoff": 15
           },
           "zerolinecolor": "white",
           "zerolinewidth": 2
          },
          "yaxis": {
           "automargin": true,
           "gridcolor": "white",
           "linecolor": "white",
           "ticks": "",
           "title": {
            "standoff": 15
           },
           "zerolinecolor": "white",
           "zerolinewidth": 2
          }
         }
        },
        "title": {
         "text": "MSE for Different Estimators vs. sigma_b"
        },
        "xaxis": {
         "anchor": "y",
         "domain": [
          0,
          1
         ],
         "title": {
          "text": "sigma_b"
         }
        },
        "yaxis": {
         "anchor": "x",
         "domain": [
          0,
          1
         ],
         "title": {
          "text": "Mean Squared Error"
         }
        }
       }
      }
     },
     "metadata": {},
     "output_type": "display_data"
    }
   ],
   "source": [
    "import plotly.express as px\n",
    "\n",
    "# Create the plot using Plotly\n",
    "fig = px.line(\n",
    "    pd.concat(\n",
    "        [\n",
    "            df_const_p.assign(LineStyle=\"Constant p\"),\n",
    "            df_vary_p.assign(LineStyle=\"Varying p\"),\n",
    "        ]\n",
    "    ),\n",
    "    x=\"sigma_b\",\n",
    "    y=\"mse\",\n",
    "    color=\"estimator\",\n",
    "    line_dash=\"LineStyle\",\n",
    "    markers=True,\n",
    "    title=\"MSE for Different Estimators vs. sigma_b\",\n",
    "    labels={\"sigma_b\": \"sigma_b\", \"mse\": \"Mean Squared Error\"},\n",
    ")\n",
    "\n",
    "# Update the legend to remove linestyle\n",
    "fig.update_layout(legend_title_text=\"Estimator\")\n",
    "\n",
    "fig.show()"
   ]
  },
  {
   "cell_type": "code",
   "execution_count": 14,
   "metadata": {},
   "outputs": [
    {
     "name": "stdout",
     "output_type": "stream",
     "text": [
      "0.0015230922624490189\n",
      "0.0014609168723589089\n"
     ]
    }
   ],
   "source": [
    "print(df_vary_p[df_vary_p[\"estimator\"] == \"posterior\"][\"mse\"].mean())\n",
    "print(df_const_p[df_const_p[\"estimator\"] == \"posterior\"][\"mse\"].mean())"
   ]
  }
 ],
 "metadata": {
  "kernelspec": {
   "display_name": "sham",
   "language": "python",
   "name": "python3"
  },
  "language_info": {
   "codemirror_mode": {
    "name": "ipython",
    "version": 3
   },
   "file_extension": ".py",
   "mimetype": "text/x-python",
   "name": "python",
   "nbconvert_exporter": "python",
   "pygments_lexer": "ipython3",
   "version": "3.13.2"
  }
 },
 "nbformat": 4,
 "nbformat_minor": 2
}
