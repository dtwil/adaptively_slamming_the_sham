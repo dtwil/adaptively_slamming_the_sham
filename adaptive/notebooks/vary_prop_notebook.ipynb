{
 "cells": [
  {
   "cell_type": "code",
   "execution_count": 12,
   "metadata": {},
   "outputs": [],
   "source": [
    "sys.path.append(\"../\")\n",
    "adaptive_root = os.path.abspath(os.path.join(os.getcwd(), \"..\"))\n",
    "if adaptive_root not in sys.path:\n",
    "    sys.path.append(adaptive_root)\n",
    "\n",
    "import logging\n",
    "import os\n",
    "import sys\n",
    "from copy import deepcopy\n",
    "\n",
    "import numpy as np\n",
    "from cmdstanpy import CmdStanModel\n",
    "from IPython.display import display\n",
    "from simulation import aggregator, estimators, fitters, results, simulators, utils\n",
    "\n",
    "logger = logging.getLogger(\"cmdstanpy\")\n",
    "logger.addHandler(logging.NullHandler())\n",
    "logger.propagate = False\n",
    "logger.setLevel(logging.CRITICAL)"
   ]
  },
  {
   "cell_type": "code",
   "execution_count": 13,
   "metadata": {},
   "outputs": [],
   "source": [
    "exposed_only = estimators.ExposedOnlyEstimator()\n",
    "difference = estimators.DifferenceEstimator()\n",
    "\n",
    "model = CmdStanModel(stan_file=\"../basic_mlm.stan\")\n",
    "posterior_mean_fitter = fitters.StanFitterBasic(model)\n",
    "\n",
    "posterior_mean = estimators.PosteriorMeanEstimator(posterior_mean_fitter)"
   ]
  },
  {
   "cell_type": "code",
   "execution_count": 14,
   "metadata": {},
   "outputs": [],
   "source": [
    "simulator1 = deepcopy(utils.CHICK_SIMULATOR)\n",
    "simulator1.identifier = {\"p\": \"p = constant 0.5\"}\n",
    "simulator1.mu_b = 0\n",
    "\n",
    "simulator2 = deepcopy(utils.CHICK_SIMULATOR)\n",
    "simulator2.identifier = {\"p\": \"p = 0.5 to 0.95\"}\n",
    "simulator2.p = np.linspace(0.5, 0.95, utils.CHICK_J)\n",
    "simulator2.mu_b = 0"
   ]
  },
  {
   "cell_type": "code",
   "execution_count": 15,
   "metadata": {},
   "outputs": [],
   "source": [
    "sims = []\n",
    "for simulator in [simulator1, simulator2]:\n",
    "    for sigma_b in utils.CHICK_SIGMA_B_GRID:\n",
    "        new_sim = deepcopy(simulator)\n",
    "        new_sim.sigma_b = sigma_b\n",
    "        new_sim.identifier = new_sim.identifier | {\"sigma_b\": sigma_b}\n",
    "        sims.append(new_sim)"
   ]
  },
  {
   "cell_type": "code",
   "execution_count": null,
   "metadata": {},
   "outputs": [
    {
     "data": {
      "application/vnd.jupyter.widget-view+json": {
       "model_id": "981b1d399560467fabc86fb281c37681",
       "version_major": 2,
       "version_minor": 0
      },
      "text/plain": [
       "Simulators:   0%|          | 0/22 [00:00<?, ?it/s]"
      ]
     },
     "metadata": {},
     "output_type": "display_data"
    },
    {
     "data": {
      "application/vnd.jupyter.widget-view+json": {
       "model_id": "b06b4c68fef54ea7aab2dac1b9182be4",
       "version_major": 2,
       "version_minor": 0
      },
      "text/plain": [
       "Estimators:   0%|          | 0/3 [00:00<?, ?it/s]"
      ]
     },
     "metadata": {},
     "output_type": "display_data"
    },
    {
     "data": {
      "application/vnd.jupyter.widget-view+json": {
       "model_id": "d62895f0c0a24579b44d1872c9db6184",
       "version_major": 2,
       "version_minor": 0
      },
      "text/plain": [
       "Repetition:   0%|          | 0/100 [00:00<?, ?it/s]"
      ]
     },
     "metadata": {},
     "output_type": "display_data"
    },
    {
     "data": {
      "application/vnd.jupyter.widget-view+json": {
       "model_id": "fe5c8973b8cd4e87a187dacc205e9a15",
       "version_major": 2,
       "version_minor": 0
      },
      "text/plain": [
       "Repetition:   0%|          | 0/100 [00:00<?, ?it/s]"
      ]
     },
     "metadata": {},
     "output_type": "display_data"
    },
    {
     "data": {
      "application/vnd.jupyter.widget-view+json": {
       "model_id": "61e138d00f73476dbc078185d7052172",
       "version_major": 2,
       "version_minor": 0
      },
      "text/plain": [
       "Repetition:   0%|          | 0/100 [00:00<?, ?it/s]"
      ]
     },
     "metadata": {},
     "output_type": "display_data"
    }
   ],
   "source": [
    "aggregator = aggregator.SimulationAggregator(sims)\n",
    "result = aggregator.simulate(\n",
    "    estimators=[exposed_only, difference, posterior_mean],\n",
    "    num_reps=100,\n",
    "    alpha=0.05,\n",
    "    show_progress=False,\n",
    ")"
   ]
  },
  {
   "cell_type": "code",
   "execution_count": null,
   "metadata": {},
   "outputs": [
    {
     "data": {
      "application/vnd.microsoft.datawrangler.viewer.v0+json": {
       "columns": [
        {
         "name": "index",
         "rawType": "int64",
         "type": "integer"
        },
        {
         "name": "p",
         "rawType": "object",
         "type": "string"
        },
        {
         "name": "sigma_b",
         "rawType": "float64",
         "type": "float"
        },
        {
         "name": "estimator",
         "rawType": "object",
         "type": "string"
        },
        {
         "name": "prop_signif",
         "rawType": "float64",
         "type": "float"
        },
        {
         "name": "sample_rmse",
         "rawType": "float64",
         "type": "float"
        },
        {
         "name": "pop_rmse",
         "rawType": "float64",
         "type": "float"
        },
        {
         "name": "type_s_rate",
         "rawType": "float64",
         "type": "float"
        },
        {
         "name": "rank_corr",
         "rawType": "float64",
         "type": "float"
        }
       ],
       "conversionMethod": "pd.DataFrame",
       "ref": "adea72b5-0a9a-4948-adbc-4035a0eef7be",
       "rows": [
        [
         "0",
         "p = 0.5 to 0.95",
         "0.0",
         "Difference",
         "0.35964912280701755",
         "0.06609018097780067",
         "0.07299216624557305",
         "0.0",
         "0.46923441660283766"
        ],
        [
         "1",
         "p = 0.5 to 0.95",
         "0.0",
         "Exposed Only",
         "0.6842105263157895",
         "0.030947126438599388",
         "0.06736328871552087",
         "0.0",
         "0.860451544662071"
        ],
        [
         "2",
         "p = 0.5 to 0.95",
         "0.0",
         "Posterior Mean",
         "0.7192982456140351",
         "0.029937467422354386",
         "0.04427055510158753",
         "0.0",
         "0.8129627603311814"
        ],
        [
         "3",
         "p = 0.5 to 0.95",
         "0.01",
         "Difference",
         "0.4385964912280702",
         "0.06198474784748905",
         "0.08494522405608618",
         "0.0",
         "0.6773534668271511"
        ],
        [
         "4",
         "p = 0.5 to 0.95",
         "0.01",
         "Exposed Only",
         "0.7105263157894738",
         "0.03608500488625776",
         "0.06785805517076014",
         "0.008771929824561403",
         "0.8083670715249663"
        ],
        [
         "5",
         "p = 0.5 to 0.95",
         "0.01",
         "Posterior Mean",
         "0.7807017543859649",
         "0.03331086873229395",
         "0.03965686356949706",
         "0.0",
         "0.8003428529744318"
        ],
        [
         "6",
         "p = 0.5 to 0.95",
         "0.02",
         "Difference",
         "0.2807017543859649",
         "0.07489909791952365",
         "0.08240573547356085",
         "0.0",
         "0.4413684940000729"
        ],
        [
         "7",
         "p = 0.5 to 0.95",
         "0.02",
         "Exposed Only",
         "0.6491228070175439",
         "0.04426489196156407",
         "0.07396133064693777",
         "0.0",
         "0.7486231170441696"
        ],
        [
         "8",
         "p = 0.5 to 0.95",
         "0.02",
         "Posterior Mean",
         "0.7017543859649124",
         "0.03509702440421037",
         "0.04571914463764477",
         "0.0",
         "0.8395885764306817"
        ],
        [
         "9",
         "p = 0.5 to 0.95",
         "0.03",
         "Difference",
         "0.30701754385964913",
         "0.08102742267519589",
         "0.10391328161631701",
         "0.008771929824561403",
         "0.6035306561622351"
        ],
        [
         "10",
         "p = 0.5 to 0.95",
         "0.03",
         "Exposed Only",
         "0.6578947368421053",
         "0.050985540238008664",
         "0.08050204466111012",
         "0.0",
         "0.7592004960426012"
        ],
        [
         "11",
         "p = 0.5 to 0.95",
         "0.03",
         "Posterior Mean",
         "0.7456140350877193",
         "0.037418086945501215",
         "0.04549472814219673",
         "0.0",
         "0.7684648210964"
        ],
        [
         "12",
         "p = 0.5 to 0.95",
         "0.04",
         "Difference",
         "0.3947368421052631",
         "0.06257425201122435",
         "0.08584653837386846",
         "0.0",
         "0.6305941569099464"
        ],
        [
         "13",
         "p = 0.5 to 0.95",
         "0.04",
         "Exposed Only",
         "0.7280701754385964",
         "0.04881744656405862",
         "0.06876877501757529",
         "0.0",
         "0.6574388153335521"
        ],
        [
         "14",
         "p = 0.5 to 0.95",
         "0.04",
         "Posterior Mean",
         "0.7982456140350878",
         "0.03634264987010429",
         "0.0399799244660655",
         "0.0",
         "0.7178392967866651"
        ],
        [
         "15",
         "p = 0.5 to 0.95",
         "0.05",
         "Difference",
         "0.37719298245614036",
         "0.0783589156932789",
         "0.0909994564946906",
         "0.008771929824561403",
         "0.4868147499726447"
        ],
        [
         "16",
         "p = 0.5 to 0.95",
         "0.05",
         "Exposed Only",
         "0.7631578947368421",
         "0.06164344728084862",
         "0.07895274835848672",
         "0.043859649122807015",
         "0.5992267571214939"
        ],
        [
         "17",
         "p = 0.5 to 0.95",
         "0.05",
         "Posterior Mean",
         "0.7631578947368421",
         "0.03643517122985183",
         "0.03949532227837474",
         "0.0",
         "0.7308968887916256"
        ],
        [
         "18",
         "p = 0.5 to 0.95",
         "0.06",
         "Difference",
         "0.3684210526315789",
         "0.07086380797413515",
         "0.08460029842930517",
         "0.0",
         "0.5277382645803699"
        ],
        [
         "19",
         "p = 0.5 to 0.95",
         "0.06",
         "Exposed Only",
         "0.6929824561403509",
         "0.06958333618309377",
         "0.0910515813667776",
         "0.03508771929824561",
         "0.5892329576540102"
        ],
        [
         "20",
         "p = 0.5 to 0.95",
         "0.06",
         "Posterior Mean",
         "0.6929824561403509",
         "0.0406606242392876",
         "0.05649261341906214",
         "0.0",
         "0.751759857023015"
        ],
        [
         "21",
         "p = 0.5 to 0.95",
         "0.07",
         "Difference",
         "0.3684210526315789",
         "0.06873417080967172",
         "0.0881814509003712",
         "0.0",
         "0.6371594266331108"
        ],
        [
         "22",
         "p = 0.5 to 0.95",
         "0.07",
         "Exposed Only",
         "0.6578947368421052",
         "0.07454331910348276",
         "0.09277209896227188",
         "0.043859649122807015",
         "0.5708502024291499"
        ],
        [
         "23",
         "p = 0.5 to 0.95",
         "0.07",
         "Posterior Mean",
         "0.8771929824561404",
         "0.04797340992741187",
         "0.027717697595781427",
         "0.008771929824561403",
         "0.6342415289783712"
        ],
        [
         "24",
         "p = 0.5 to 0.95",
         "0.08",
         "Difference",
         "0.37719298245614036",
         "0.06762032736423067",
         "0.07937236898595519",
         "0.0",
         "0.5198599409125725"
        ],
        [
         "25",
         "p = 0.5 to 0.95",
         "0.08",
         "Exposed Only",
         "0.6754385964912281",
         "0.0835781870258323",
         "0.10198262470918208",
         "0.07017543859649122",
         "0.5058540321698216"
        ],
        [
         "26",
         "p = 0.5 to 0.95",
         "0.08",
         "Posterior Mean",
         "0.7456140350877193",
         "0.043190580152959075",
         "0.03650545988433651",
         "0.017543859649122806",
         "0.6625451362293467"
        ],
        [
         "27",
         "p = 0.5 to 0.95",
         "0.09",
         "Difference",
         "0.2982456140350877",
         "0.06640947631816614",
         "0.0943702487125535",
         "0.008771929824561403",
         "0.73746215851479"
        ],
        [
         "28",
         "p = 0.5 to 0.95",
         "0.09",
         "Exposed Only",
         "0.6403508771929824",
         "0.10394709052089206",
         "0.11566624007822485",
         "0.11403508771929823",
         "0.44632892001313057"
        ],
        [
         "29",
         "p = 0.5 to 0.95",
         "0.09",
         "Posterior Mean",
         "0.7719298245614036",
         "0.03689890499842129",
         "0.03046324992491664",
         "0.0",
         "0.5175985702301492"
        ],
        [
         "30",
         "p = 0.5 to 0.95",
         "0.1",
         "Difference",
         "0.37719298245614036",
         "0.07401583705039849",
         "0.09834660507286215",
         "0.0",
         "0.6478097530729109"
        ],
        [
         "31",
         "p = 0.5 to 0.95",
         "0.1",
         "Exposed Only",
         "0.6842105263157895",
         "0.11429896405485838",
         "0.1268058053105033",
         "0.06140350877192982",
         "0.45894882736988"
        ],
        [
         "32",
         "p = 0.5 to 0.95",
         "0.1",
         "Posterior Mean",
         "0.6666666666666666",
         "0.046040337864617885",
         "0.042708164424675656",
         "0.008771929824561403",
         "0.623007623007623"
        ],
        [
         "33",
         "p = constant 0.5",
         "0.0",
         "Difference",
         "0.41228070175438597",
         "0.059769356949113416",
         "0.08082694623523501",
         "0.0",
         "0.6635664004085057"
        ],
        [
         "34",
         "p = constant 0.5",
         "0.0",
         "Exposed Only",
         "0.6403508771929824",
         "0.03936600947646144",
         "0.06474278225759107",
         "0.0",
         "0.791370317686107"
        ],
        [
         "35",
         "p = constant 0.5",
         "0.0",
         "Posterior Mean",
         "0.8947368421052632",
         "0.034109387195418894",
         "0.034154668345778315",
         "0.008771929824561403",
         "0.7466535361272203"
        ],
        [
         "36",
         "p = constant 0.5",
         "0.01",
         "Difference",
         "0.46491228070175444",
         "0.05089810880683088",
         "0.07502378209517147",
         "0.0",
         "0.7414742677900573"
        ],
        [
         "37",
         "p = constant 0.5",
         "0.01",
         "Exposed Only",
         "0.6052631578947368",
         "0.043918073594213736",
         "0.06907021769308411",
         "0.0",
         "0.7765619870883028"
        ],
        [
         "38",
         "p = constant 0.5",
         "0.01",
         "Posterior Mean",
         "0.8684210526315789",
         "0.03706125515949805",
         "0.0287886571902736",
         "0.03508771929824561",
         "0.677791151475362"
        ],
        [
         "39",
         "p = constant 0.5",
         "0.02",
         "Difference",
         "0.4298245614035088",
         "0.05249662763899247",
         "0.07389217415622996",
         "0.0",
         "0.6509464930517561"
        ],
        [
         "40",
         "p = constant 0.5",
         "0.02",
         "Exposed Only",
         "0.6228070175438597",
         "0.040239609673396876",
         "0.07098977376234623",
         "0.0",
         "0.7769996717365139"
        ],
        [
         "41",
         "p = constant 0.5",
         "0.02",
         "Posterior Mean",
         "0.763157894736842",
         "0.03366702297148997",
         "0.04294583255850428",
         "0.0",
         "0.7514680672575409"
        ],
        [
         "42",
         "p = constant 0.5",
         "0.03",
         "Difference",
         "0.456140350877193",
         "0.0520135245401559",
         "0.070862628476535",
         "0.0",
         "0.6553962869752343"
        ],
        [
         "43",
         "p = constant 0.5",
         "0.03",
         "Exposed Only",
         "0.6491228070175438",
         "0.05183337411944294",
         "0.07565040122179689",
         "0.0",
         "0.7486960644855382"
        ],
        [
         "44",
         "p = constant 0.5",
         "0.03",
         "Posterior Mean",
         "0.736842105263158",
         "0.0348383789084677",
         "0.04804803189897899",
         "0.0",
         "0.7603676551044972"
        ],
        [
         "45",
         "p = constant 0.5",
         "0.04",
         "Difference",
         "0.40350877192982454",
         "0.05210474689835843",
         "0.0819028572148144",
         "0.0",
         "0.7160156107524528"
        ],
        [
         "46",
         "p = constant 0.5",
         "0.04",
         "Exposed Only",
         "0.6842105263157894",
         "0.057856687642440695",
         "0.0818003338876507",
         "0.02631578947368421",
         "0.6513841776999671"
        ],
        [
         "47",
         "p = constant 0.5",
         "0.04",
         "Posterior Mean",
         "0.8421052631578947",
         "0.03618132672158437",
         "0.031612868207263035",
         "0.0",
         "0.6591166064850276"
        ],
        [
         "48",
         "p = constant 0.5",
         "0.05",
         "Difference",
         "0.4298245614035088",
         "0.05652181506980927",
         "0.0814647369799737",
         "0.0",
         "0.731553415763942"
        ],
        [
         "49",
         "p = constant 0.5",
         "0.05",
         "Exposed Only",
         "0.5701754385964912",
         "0.06449348673459428",
         "0.08462319188937312",
         "0.008771929824561403",
         "0.6408067987015355"
        ]
       ],
       "shape": {
        "columns": 8,
        "rows": 66
       }
      },
      "text/html": [
       "<div>\n",
       "<style scoped>\n",
       "    .dataframe tbody tr th:only-of-type {\n",
       "        vertical-align: middle;\n",
       "    }\n",
       "\n",
       "    .dataframe tbody tr th {\n",
       "        vertical-align: top;\n",
       "    }\n",
       "\n",
       "    .dataframe thead th {\n",
       "        text-align: right;\n",
       "    }\n",
       "</style>\n",
       "<table border=\"1\" class=\"dataframe\">\n",
       "  <thead>\n",
       "    <tr style=\"text-align: right;\">\n",
       "      <th></th>\n",
       "      <th>p</th>\n",
       "      <th>sigma_b</th>\n",
       "      <th>estimator</th>\n",
       "      <th>prop_signif</th>\n",
       "      <th>sample_rmse</th>\n",
       "      <th>pop_rmse</th>\n",
       "      <th>type_s_rate</th>\n",
       "      <th>rank_corr</th>\n",
       "    </tr>\n",
       "  </thead>\n",
       "  <tbody>\n",
       "    <tr>\n",
       "      <th>0</th>\n",
       "      <td>p = 0.5 to 0.95</td>\n",
       "      <td>0.00</td>\n",
       "      <td>Difference</td>\n",
       "      <td>0.359649</td>\n",
       "      <td>0.066090</td>\n",
       "      <td>0.072992</td>\n",
       "      <td>0.000000</td>\n",
       "      <td>0.469234</td>\n",
       "    </tr>\n",
       "    <tr>\n",
       "      <th>1</th>\n",
       "      <td>p = 0.5 to 0.95</td>\n",
       "      <td>0.00</td>\n",
       "      <td>Exposed Only</td>\n",
       "      <td>0.684211</td>\n",
       "      <td>0.030947</td>\n",
       "      <td>0.067363</td>\n",
       "      <td>0.000000</td>\n",
       "      <td>0.860452</td>\n",
       "    </tr>\n",
       "    <tr>\n",
       "      <th>2</th>\n",
       "      <td>p = 0.5 to 0.95</td>\n",
       "      <td>0.00</td>\n",
       "      <td>Posterior Mean</td>\n",
       "      <td>0.719298</td>\n",
       "      <td>0.029937</td>\n",
       "      <td>0.044271</td>\n",
       "      <td>0.000000</td>\n",
       "      <td>0.812963</td>\n",
       "    </tr>\n",
       "    <tr>\n",
       "      <th>3</th>\n",
       "      <td>p = 0.5 to 0.95</td>\n",
       "      <td>0.01</td>\n",
       "      <td>Difference</td>\n",
       "      <td>0.438596</td>\n",
       "      <td>0.061985</td>\n",
       "      <td>0.084945</td>\n",
       "      <td>0.000000</td>\n",
       "      <td>0.677353</td>\n",
       "    </tr>\n",
       "    <tr>\n",
       "      <th>4</th>\n",
       "      <td>p = 0.5 to 0.95</td>\n",
       "      <td>0.01</td>\n",
       "      <td>Exposed Only</td>\n",
       "      <td>0.710526</td>\n",
       "      <td>0.036085</td>\n",
       "      <td>0.067858</td>\n",
       "      <td>0.008772</td>\n",
       "      <td>0.808367</td>\n",
       "    </tr>\n",
       "    <tr>\n",
       "      <th>...</th>\n",
       "      <td>...</td>\n",
       "      <td>...</td>\n",
       "      <td>...</td>\n",
       "      <td>...</td>\n",
       "      <td>...</td>\n",
       "      <td>...</td>\n",
       "      <td>...</td>\n",
       "      <td>...</td>\n",
       "    </tr>\n",
       "    <tr>\n",
       "      <th>61</th>\n",
       "      <td>p = constant 0.5</td>\n",
       "      <td>0.09</td>\n",
       "      <td>Exposed Only</td>\n",
       "      <td>0.605263</td>\n",
       "      <td>0.096187</td>\n",
       "      <td>0.109866</td>\n",
       "      <td>0.052632</td>\n",
       "      <td>0.465879</td>\n",
       "    </tr>\n",
       "    <tr>\n",
       "      <th>62</th>\n",
       "      <td>p = constant 0.5</td>\n",
       "      <td>0.09</td>\n",
       "      <td>Posterior Mean</td>\n",
       "      <td>0.561404</td>\n",
       "      <td>0.040481</td>\n",
       "      <td>0.048756</td>\n",
       "      <td>0.000000</td>\n",
       "      <td>0.736368</td>\n",
       "    </tr>\n",
       "    <tr>\n",
       "      <th>63</th>\n",
       "      <td>p = constant 0.5</td>\n",
       "      <td>0.10</td>\n",
       "      <td>Difference</td>\n",
       "      <td>0.464912</td>\n",
       "      <td>0.054996</td>\n",
       "      <td>0.081036</td>\n",
       "      <td>0.008772</td>\n",
       "      <td>0.746070</td>\n",
       "    </tr>\n",
       "    <tr>\n",
       "      <th>64</th>\n",
       "      <td>p = constant 0.5</td>\n",
       "      <td>0.10</td>\n",
       "      <td>Exposed Only</td>\n",
       "      <td>0.666667</td>\n",
       "      <td>0.111183</td>\n",
       "      <td>0.119922</td>\n",
       "      <td>0.043860</td>\n",
       "      <td>0.408907</td>\n",
       "    </tr>\n",
       "    <tr>\n",
       "      <th>65</th>\n",
       "      <td>p = constant 0.5</td>\n",
       "      <td>0.10</td>\n",
       "      <td>Posterior Mean</td>\n",
       "      <td>0.719298</td>\n",
       "      <td>0.040770</td>\n",
       "      <td>0.042866</td>\n",
       "      <td>0.000000</td>\n",
       "      <td>0.642703</td>\n",
       "    </tr>\n",
       "  </tbody>\n",
       "</table>\n",
       "<p>66 rows × 8 columns</p>\n",
       "</div>"
      ],
      "text/plain": [
       "                   p  sigma_b       estimator  prop_signif  sample_rmse  \\\n",
       "0    p = 0.5 to 0.95     0.00      Difference     0.359649     0.066090   \n",
       "1    p = 0.5 to 0.95     0.00    Exposed Only     0.684211     0.030947   \n",
       "2    p = 0.5 to 0.95     0.00  Posterior Mean     0.719298     0.029937   \n",
       "3    p = 0.5 to 0.95     0.01      Difference     0.438596     0.061985   \n",
       "4    p = 0.5 to 0.95     0.01    Exposed Only     0.710526     0.036085   \n",
       "..               ...      ...             ...          ...          ...   \n",
       "61  p = constant 0.5     0.09    Exposed Only     0.605263     0.096187   \n",
       "62  p = constant 0.5     0.09  Posterior Mean     0.561404     0.040481   \n",
       "63  p = constant 0.5     0.10      Difference     0.464912     0.054996   \n",
       "64  p = constant 0.5     0.10    Exposed Only     0.666667     0.111183   \n",
       "65  p = constant 0.5     0.10  Posterior Mean     0.719298     0.040770   \n",
       "\n",
       "    pop_rmse  type_s_rate  rank_corr  \n",
       "0   0.072992     0.000000   0.469234  \n",
       "1   0.067363     0.000000   0.860452  \n",
       "2   0.044271     0.000000   0.812963  \n",
       "3   0.084945     0.000000   0.677353  \n",
       "4   0.067858     0.008772   0.808367  \n",
       "..       ...          ...        ...  \n",
       "61  0.109866     0.052632   0.465879  \n",
       "62  0.048756     0.000000   0.736368  \n",
       "63  0.081036     0.008772   0.746070  \n",
       "64  0.119922     0.043860   0.408907  \n",
       "65  0.042866     0.000000   0.642703  \n",
       "\n",
       "[66 rows x 8 columns]"
      ]
     },
     "metadata": {},
     "output_type": "display_data"
    }
   ],
   "source": [
    "result_means = result.means()\n",
    "display(result_means)"
   ]
  },
  {
   "cell_type": "code",
   "execution_count": null,
   "metadata": {},
   "outputs": [
    {
     "data": {
      "application/vnd.plotly.v1+json": {
       "config": {
        "plotlyServerURL": "https://plot.ly"
       },
       "data": [
        {
         "hovertemplate": "estimator=Difference<br>p=p = 0.5 to 0.95<br>σ_b=%{x}<br>sample_rmse=%{y}<extra></extra>",
         "legendgroup": "Difference, p = 0.5 to 0.95",
         "line": {
          "color": "#636efa",
          "dash": "dash"
         },
         "marker": {
          "symbol": "circle"
         },
         "mode": "lines+markers",
         "name": "Difference, p = 0.5 to 0.95",
         "orientation": "v",
         "showlegend": true,
         "type": "scatter",
         "x": [
          0,
          0.01,
          0.02,
          0.03,
          0.04,
          0.05,
          0.06,
          0.07,
          0.08,
          0.09,
          0.1
         ],
         "xaxis": "x",
         "y": [
          0.06609018097780067,
          0.06198474784748905,
          0.07489909791952365,
          0.08102742267519589,
          0.06257425201122435,
          0.0783589156932789,
          0.07086380797413515,
          0.06873417080967172,
          0.06762032736423067,
          0.06640947631816614,
          0.07401583705039849
         ],
         "yaxis": "y"
        },
        {
         "hovertemplate": "estimator=Difference<br>p=p = constant 0.5<br>σ_b=%{x}<br>sample_rmse=%{y}<extra></extra>",
         "legendgroup": "Difference, p = constant 0.5",
         "line": {
          "color": "#636efa",
          "dash": "solid"
         },
         "marker": {
          "symbol": "circle"
         },
         "mode": "lines+markers",
         "name": "Difference, p = constant 0.5",
         "orientation": "v",
         "showlegend": true,
         "type": "scatter",
         "x": [
          0,
          0.01,
          0.02,
          0.03,
          0.04,
          0.05,
          0.06,
          0.07,
          0.08,
          0.09,
          0.1
         ],
         "xaxis": "x",
         "y": [
          0.059769356949113416,
          0.05089810880683088,
          0.05249662763899247,
          0.0520135245401559,
          0.05210474689835843,
          0.05652181506980927,
          0.05454323603735859,
          0.05624305543208356,
          0.05309349259965327,
          0.05467994808838128,
          0.05499591224679309
         ],
         "yaxis": "y"
        },
        {
         "hovertemplate": "estimator=Exposed Only<br>p=p = 0.5 to 0.95<br>σ_b=%{x}<br>sample_rmse=%{y}<extra></extra>",
         "legendgroup": "Exposed Only, p = 0.5 to 0.95",
         "line": {
          "color": "#EF553B",
          "dash": "dash"
         },
         "marker": {
          "symbol": "circle"
         },
         "mode": "lines+markers",
         "name": "Exposed Only, p = 0.5 to 0.95",
         "orientation": "v",
         "showlegend": true,
         "type": "scatter",
         "x": [
          0,
          0.01,
          0.02,
          0.03,
          0.04,
          0.05,
          0.06,
          0.07,
          0.08,
          0.09,
          0.1
         ],
         "xaxis": "x",
         "y": [
          0.030947126438599388,
          0.03608500488625776,
          0.04426489196156407,
          0.050985540238008664,
          0.04881744656405862,
          0.06164344728084862,
          0.06958333618309377,
          0.07454331910348276,
          0.0835781870258323,
          0.10394709052089206,
          0.11429896405485838
         ],
         "yaxis": "y"
        },
        {
         "hovertemplate": "estimator=Exposed Only<br>p=p = constant 0.5<br>σ_b=%{x}<br>sample_rmse=%{y}<extra></extra>",
         "legendgroup": "Exposed Only, p = constant 0.5",
         "line": {
          "color": "#EF553B",
          "dash": "solid"
         },
         "marker": {
          "symbol": "circle"
         },
         "mode": "lines+markers",
         "name": "Exposed Only, p = constant 0.5",
         "orientation": "v",
         "showlegend": true,
         "type": "scatter",
         "x": [
          0,
          0.01,
          0.02,
          0.03,
          0.04,
          0.05,
          0.06,
          0.07,
          0.08,
          0.09,
          0.1
         ],
         "xaxis": "x",
         "y": [
          0.03936600947646144,
          0.043918073594213736,
          0.040239609673396876,
          0.05183337411944294,
          0.057856687642440695,
          0.06449348673459428,
          0.07365648004435792,
          0.07826961117130682,
          0.09234711292284893,
          0.09618655116827797,
          0.11118345045176518
         ],
         "yaxis": "y"
        },
        {
         "hovertemplate": "estimator=Posterior Mean<br>p=p = 0.5 to 0.95<br>σ_b=%{x}<br>sample_rmse=%{y}<extra></extra>",
         "legendgroup": "Posterior Mean, p = 0.5 to 0.95",
         "line": {
          "color": "#00cc96",
          "dash": "dash"
         },
         "marker": {
          "symbol": "circle"
         },
         "mode": "lines+markers",
         "name": "Posterior Mean, p = 0.5 to 0.95",
         "orientation": "v",
         "showlegend": true,
         "type": "scatter",
         "x": [
          0,
          0.01,
          0.02,
          0.03,
          0.04,
          0.05,
          0.06,
          0.07,
          0.08,
          0.09,
          0.1
         ],
         "xaxis": "x",
         "y": [
          0.029937467422354386,
          0.03331086873229395,
          0.03509702440421037,
          0.037418086945501215,
          0.03634264987010429,
          0.03643517122985183,
          0.0406606242392876,
          0.04797340992741187,
          0.043190580152959075,
          0.03689890499842129,
          0.046040337864617885
         ],
         "yaxis": "y"
        },
        {
         "hovertemplate": "estimator=Posterior Mean<br>p=p = constant 0.5<br>σ_b=%{x}<br>sample_rmse=%{y}<extra></extra>",
         "legendgroup": "Posterior Mean, p = constant 0.5",
         "line": {
          "color": "#00cc96",
          "dash": "solid"
         },
         "marker": {
          "symbol": "circle"
         },
         "mode": "lines+markers",
         "name": "Posterior Mean, p = constant 0.5",
         "orientation": "v",
         "showlegend": true,
         "type": "scatter",
         "x": [
          0,
          0.01,
          0.02,
          0.03,
          0.04,
          0.05,
          0.06,
          0.07,
          0.08,
          0.09,
          0.1
         ],
         "xaxis": "x",
         "y": [
          0.034109387195418894,
          0.03706125515949805,
          0.03366702297148997,
          0.0348383789084677,
          0.03618132672158437,
          0.04548754085588704,
          0.04115118848891714,
          0.03933309055596099,
          0.041100376760305646,
          0.04048072570094166,
          0.04076986118286918
         ],
         "yaxis": "y"
        }
       ],
       "layout": {
        "legend": {
         "title": {
          "text": "Estimator"
         },
         "tracegroupgap": 0
        },
        "template": {
         "data": {
          "bar": [
           {
            "error_x": {
             "color": "#2a3f5f"
            },
            "error_y": {
             "color": "#2a3f5f"
            },
            "marker": {
             "line": {
              "color": "#E5ECF6",
              "width": 0.5
             },
             "pattern": {
              "fillmode": "overlay",
              "size": 10,
              "solidity": 0.2
             }
            },
            "type": "bar"
           }
          ],
          "barpolar": [
           {
            "marker": {
             "line": {
              "color": "#E5ECF6",
              "width": 0.5
             },
             "pattern": {
              "fillmode": "overlay",
              "size": 10,
              "solidity": 0.2
             }
            },
            "type": "barpolar"
           }
          ],
          "carpet": [
           {
            "aaxis": {
             "endlinecolor": "#2a3f5f",
             "gridcolor": "white",
             "linecolor": "white",
             "minorgridcolor": "white",
             "startlinecolor": "#2a3f5f"
            },
            "baxis": {
             "endlinecolor": "#2a3f5f",
             "gridcolor": "white",
             "linecolor": "white",
             "minorgridcolor": "white",
             "startlinecolor": "#2a3f5f"
            },
            "type": "carpet"
           }
          ],
          "choropleth": [
           {
            "colorbar": {
             "outlinewidth": 0,
             "ticks": ""
            },
            "type": "choropleth"
           }
          ],
          "contour": [
           {
            "colorbar": {
             "outlinewidth": 0,
             "ticks": ""
            },
            "colorscale": [
             [
              0,
              "#0d0887"
             ],
             [
              0.1111111111111111,
              "#46039f"
             ],
             [
              0.2222222222222222,
              "#7201a8"
             ],
             [
              0.3333333333333333,
              "#9c179e"
             ],
             [
              0.4444444444444444,
              "#bd3786"
             ],
             [
              0.5555555555555556,
              "#d8576b"
             ],
             [
              0.6666666666666666,
              "#ed7953"
             ],
             [
              0.7777777777777778,
              "#fb9f3a"
             ],
             [
              0.8888888888888888,
              "#fdca26"
             ],
             [
              1,
              "#f0f921"
             ]
            ],
            "type": "contour"
           }
          ],
          "contourcarpet": [
           {
            "colorbar": {
             "outlinewidth": 0,
             "ticks": ""
            },
            "type": "contourcarpet"
           }
          ],
          "heatmap": [
           {
            "colorbar": {
             "outlinewidth": 0,
             "ticks": ""
            },
            "colorscale": [
             [
              0,
              "#0d0887"
             ],
             [
              0.1111111111111111,
              "#46039f"
             ],
             [
              0.2222222222222222,
              "#7201a8"
             ],
             [
              0.3333333333333333,
              "#9c179e"
             ],
             [
              0.4444444444444444,
              "#bd3786"
             ],
             [
              0.5555555555555556,
              "#d8576b"
             ],
             [
              0.6666666666666666,
              "#ed7953"
             ],
             [
              0.7777777777777778,
              "#fb9f3a"
             ],
             [
              0.8888888888888888,
              "#fdca26"
             ],
             [
              1,
              "#f0f921"
             ]
            ],
            "type": "heatmap"
           }
          ],
          "heatmapgl": [
           {
            "colorbar": {
             "outlinewidth": 0,
             "ticks": ""
            },
            "colorscale": [
             [
              0,
              "#0d0887"
             ],
             [
              0.1111111111111111,
              "#46039f"
             ],
             [
              0.2222222222222222,
              "#7201a8"
             ],
             [
              0.3333333333333333,
              "#9c179e"
             ],
             [
              0.4444444444444444,
              "#bd3786"
             ],
             [
              0.5555555555555556,
              "#d8576b"
             ],
             [
              0.6666666666666666,
              "#ed7953"
             ],
             [
              0.7777777777777778,
              "#fb9f3a"
             ],
             [
              0.8888888888888888,
              "#fdca26"
             ],
             [
              1,
              "#f0f921"
             ]
            ],
            "type": "heatmapgl"
           }
          ],
          "histogram": [
           {
            "marker": {
             "pattern": {
              "fillmode": "overlay",
              "size": 10,
              "solidity": 0.2
             }
            },
            "type": "histogram"
           }
          ],
          "histogram2d": [
           {
            "colorbar": {
             "outlinewidth": 0,
             "ticks": ""
            },
            "colorscale": [
             [
              0,
              "#0d0887"
             ],
             [
              0.1111111111111111,
              "#46039f"
             ],
             [
              0.2222222222222222,
              "#7201a8"
             ],
             [
              0.3333333333333333,
              "#9c179e"
             ],
             [
              0.4444444444444444,
              "#bd3786"
             ],
             [
              0.5555555555555556,
              "#d8576b"
             ],
             [
              0.6666666666666666,
              "#ed7953"
             ],
             [
              0.7777777777777778,
              "#fb9f3a"
             ],
             [
              0.8888888888888888,
              "#fdca26"
             ],
             [
              1,
              "#f0f921"
             ]
            ],
            "type": "histogram2d"
           }
          ],
          "histogram2dcontour": [
           {
            "colorbar": {
             "outlinewidth": 0,
             "ticks": ""
            },
            "colorscale": [
             [
              0,
              "#0d0887"
             ],
             [
              0.1111111111111111,
              "#46039f"
             ],
             [
              0.2222222222222222,
              "#7201a8"
             ],
             [
              0.3333333333333333,
              "#9c179e"
             ],
             [
              0.4444444444444444,
              "#bd3786"
             ],
             [
              0.5555555555555556,
              "#d8576b"
             ],
             [
              0.6666666666666666,
              "#ed7953"
             ],
             [
              0.7777777777777778,
              "#fb9f3a"
             ],
             [
              0.8888888888888888,
              "#fdca26"
             ],
             [
              1,
              "#f0f921"
             ]
            ],
            "type": "histogram2dcontour"
           }
          ],
          "mesh3d": [
           {
            "colorbar": {
             "outlinewidth": 0,
             "ticks": ""
            },
            "type": "mesh3d"
           }
          ],
          "parcoords": [
           {
            "line": {
             "colorbar": {
              "outlinewidth": 0,
              "ticks": ""
             }
            },
            "type": "parcoords"
           }
          ],
          "pie": [
           {
            "automargin": true,
            "type": "pie"
           }
          ],
          "scatter": [
           {
            "fillpattern": {
             "fillmode": "overlay",
             "size": 10,
             "solidity": 0.2
            },
            "type": "scatter"
           }
          ],
          "scatter3d": [
           {
            "line": {
             "colorbar": {
              "outlinewidth": 0,
              "ticks": ""
             }
            },
            "marker": {
             "colorbar": {
              "outlinewidth": 0,
              "ticks": ""
             }
            },
            "type": "scatter3d"
           }
          ],
          "scattercarpet": [
           {
            "marker": {
             "colorbar": {
              "outlinewidth": 0,
              "ticks": ""
             }
            },
            "type": "scattercarpet"
           }
          ],
          "scattergeo": [
           {
            "marker": {
             "colorbar": {
              "outlinewidth": 0,
              "ticks": ""
             }
            },
            "type": "scattergeo"
           }
          ],
          "scattergl": [
           {
            "marker": {
             "colorbar": {
              "outlinewidth": 0,
              "ticks": ""
             }
            },
            "type": "scattergl"
           }
          ],
          "scattermapbox": [
           {
            "marker": {
             "colorbar": {
              "outlinewidth": 0,
              "ticks": ""
             }
            },
            "type": "scattermapbox"
           }
          ],
          "scatterpolar": [
           {
            "marker": {
             "colorbar": {
              "outlinewidth": 0,
              "ticks": ""
             }
            },
            "type": "scatterpolar"
           }
          ],
          "scatterpolargl": [
           {
            "marker": {
             "colorbar": {
              "outlinewidth": 0,
              "ticks": ""
             }
            },
            "type": "scatterpolargl"
           }
          ],
          "scatterternary": [
           {
            "marker": {
             "colorbar": {
              "outlinewidth": 0,
              "ticks": ""
             }
            },
            "type": "scatterternary"
           }
          ],
          "surface": [
           {
            "colorbar": {
             "outlinewidth": 0,
             "ticks": ""
            },
            "colorscale": [
             [
              0,
              "#0d0887"
             ],
             [
              0.1111111111111111,
              "#46039f"
             ],
             [
              0.2222222222222222,
              "#7201a8"
             ],
             [
              0.3333333333333333,
              "#9c179e"
             ],
             [
              0.4444444444444444,
              "#bd3786"
             ],
             [
              0.5555555555555556,
              "#d8576b"
             ],
             [
              0.6666666666666666,
              "#ed7953"
             ],
             [
              0.7777777777777778,
              "#fb9f3a"
             ],
             [
              0.8888888888888888,
              "#fdca26"
             ],
             [
              1,
              "#f0f921"
             ]
            ],
            "type": "surface"
           }
          ],
          "table": [
           {
            "cells": {
             "fill": {
              "color": "#EBF0F8"
             },
             "line": {
              "color": "white"
             }
            },
            "header": {
             "fill": {
              "color": "#C8D4E3"
             },
             "line": {
              "color": "white"
             }
            },
            "type": "table"
           }
          ]
         },
         "layout": {
          "annotationdefaults": {
           "arrowcolor": "#2a3f5f",
           "arrowhead": 0,
           "arrowwidth": 1
          },
          "autotypenumbers": "strict",
          "coloraxis": {
           "colorbar": {
            "outlinewidth": 0,
            "ticks": ""
           }
          },
          "colorscale": {
           "diverging": [
            [
             0,
             "#8e0152"
            ],
            [
             0.1,
             "#c51b7d"
            ],
            [
             0.2,
             "#de77ae"
            ],
            [
             0.3,
             "#f1b6da"
            ],
            [
             0.4,
             "#fde0ef"
            ],
            [
             0.5,
             "#f7f7f7"
            ],
            [
             0.6,
             "#e6f5d0"
            ],
            [
             0.7,
             "#b8e186"
            ],
            [
             0.8,
             "#7fbc41"
            ],
            [
             0.9,
             "#4d9221"
            ],
            [
             1,
             "#276419"
            ]
           ],
           "sequential": [
            [
             0,
             "#0d0887"
            ],
            [
             0.1111111111111111,
             "#46039f"
            ],
            [
             0.2222222222222222,
             "#7201a8"
            ],
            [
             0.3333333333333333,
             "#9c179e"
            ],
            [
             0.4444444444444444,
             "#bd3786"
            ],
            [
             0.5555555555555556,
             "#d8576b"
            ],
            [
             0.6666666666666666,
             "#ed7953"
            ],
            [
             0.7777777777777778,
             "#fb9f3a"
            ],
            [
             0.8888888888888888,
             "#fdca26"
            ],
            [
             1,
             "#f0f921"
            ]
           ],
           "sequentialminus": [
            [
             0,
             "#0d0887"
            ],
            [
             0.1111111111111111,
             "#46039f"
            ],
            [
             0.2222222222222222,
             "#7201a8"
            ],
            [
             0.3333333333333333,
             "#9c179e"
            ],
            [
             0.4444444444444444,
             "#bd3786"
            ],
            [
             0.5555555555555556,
             "#d8576b"
            ],
            [
             0.6666666666666666,
             "#ed7953"
            ],
            [
             0.7777777777777778,
             "#fb9f3a"
            ],
            [
             0.8888888888888888,
             "#fdca26"
            ],
            [
             1,
             "#f0f921"
            ]
           ]
          },
          "colorway": [
           "#636efa",
           "#EF553B",
           "#00cc96",
           "#ab63fa",
           "#FFA15A",
           "#19d3f3",
           "#FF6692",
           "#B6E880",
           "#FF97FF",
           "#FECB52"
          ],
          "font": {
           "color": "#2a3f5f"
          },
          "geo": {
           "bgcolor": "white",
           "lakecolor": "white",
           "landcolor": "#E5ECF6",
           "showlakes": true,
           "showland": true,
           "subunitcolor": "white"
          },
          "hoverlabel": {
           "align": "left"
          },
          "hovermode": "closest",
          "mapbox": {
           "style": "light"
          },
          "paper_bgcolor": "white",
          "plot_bgcolor": "#E5ECF6",
          "polar": {
           "angularaxis": {
            "gridcolor": "white",
            "linecolor": "white",
            "ticks": ""
           },
           "bgcolor": "#E5ECF6",
           "radialaxis": {
            "gridcolor": "white",
            "linecolor": "white",
            "ticks": ""
           }
          },
          "scene": {
           "xaxis": {
            "backgroundcolor": "#E5ECF6",
            "gridcolor": "white",
            "gridwidth": 2,
            "linecolor": "white",
            "showbackground": true,
            "ticks": "",
            "zerolinecolor": "white"
           },
           "yaxis": {
            "backgroundcolor": "#E5ECF6",
            "gridcolor": "white",
            "gridwidth": 2,
            "linecolor": "white",
            "showbackground": true,
            "ticks": "",
            "zerolinecolor": "white"
           },
           "zaxis": {
            "backgroundcolor": "#E5ECF6",
            "gridcolor": "white",
            "gridwidth": 2,
            "linecolor": "white",
            "showbackground": true,
            "ticks": "",
            "zerolinecolor": "white"
           }
          },
          "shapedefaults": {
           "line": {
            "color": "#2a3f5f"
           }
          },
          "ternary": {
           "aaxis": {
            "gridcolor": "white",
            "linecolor": "white",
            "ticks": ""
           },
           "baxis": {
            "gridcolor": "white",
            "linecolor": "white",
            "ticks": ""
           },
           "bgcolor": "#E5ECF6",
           "caxis": {
            "gridcolor": "white",
            "linecolor": "white",
            "ticks": ""
           }
          },
          "title": {
           "x": 0.05
          },
          "xaxis": {
           "automargin": true,
           "gridcolor": "white",
           "linecolor": "white",
           "ticks": "",
           "title": {
            "standoff": 15
           },
           "zerolinecolor": "white",
           "zerolinewidth": 2
          },
          "yaxis": {
           "automargin": true,
           "gridcolor": "white",
           "linecolor": "white",
           "ticks": "",
           "title": {
            "standoff": 15
           },
           "zerolinecolor": "white",
           "zerolinewidth": 2
          }
         }
        },
        "title": {
         "text": "RMSE vs. σ_b by Estimator"
        },
        "xaxis": {
         "anchor": "y",
         "domain": [
          0,
          1
         ],
         "title": {
          "text": "σ_b"
         }
        },
        "yaxis": {
         "anchor": "x",
         "domain": [
          0,
          1
         ],
         "title": {
          "text": "sample_rmse"
         }
        }
       }
      }
     },
     "metadata": {},
     "output_type": "display_data"
    }
   ],
   "source": [
    "import plotly.express as px\n",
    "\n",
    "# define dash styles for the two p‐settings\n",
    "dash_map = {\"p = constant 0.5\": \"solid\", \"p = 0.5 to 0.95\": \"dash\"}\n",
    "\n",
    "fig_rmse = px.line(\n",
    "    result_means,\n",
    "    x=\"sigma_b\",\n",
    "    y=\"sample_rmse\",\n",
    "    color=\"estimator\",\n",
    "    line_dash=\"p\",\n",
    "    line_dash_map=dash_map,\n",
    "    markers=True,\n",
    "    title=\"RMSE vs. σ_b by Estimator\",\n",
    "    labels={\"sigma_b\": \"σ_b\", \"pop_rmse\": \"RMSE\"},\n",
    ")\n",
    "\n",
    "# keep legend showing only estimator\n",
    "fig_rmse.update_layout(legend_title_text=\"Estimator\")\n",
    "fig_rmse.show()"
   ]
  },
  {
   "cell_type": "code",
   "execution_count": null,
   "metadata": {},
   "outputs": [
    {
     "data": {
      "application/vnd.plotly.v1+json": {
       "config": {
        "plotlyServerURL": "https://plot.ly"
       },
       "data": [
        {
         "hovertemplate": "estimator=Difference<br>p=p = 0.5 to 0.95<br>σ_b=%{x}<br>type_s_rate=%{y}<extra></extra>",
         "legendgroup": "Difference, p = 0.5 to 0.95",
         "line": {
          "color": "#636efa",
          "dash": "dash"
         },
         "marker": {
          "symbol": "circle"
         },
         "mode": "lines+markers",
         "name": "Difference, p = 0.5 to 0.95",
         "orientation": "v",
         "showlegend": true,
         "type": "scatter",
         "x": [
          0,
          0.01,
          0.02,
          0.03,
          0.04,
          0.05,
          0.06,
          0.07,
          0.08,
          0.09,
          0.1
         ],
         "xaxis": "x",
         "y": [
          0,
          0,
          0,
          0.008771929824561403,
          0,
          0.008771929824561403,
          0,
          0,
          0,
          0.008771929824561403,
          0
         ],
         "yaxis": "y"
        },
        {
         "hovertemplate": "estimator=Difference<br>p=p = constant 0.5<br>σ_b=%{x}<br>type_s_rate=%{y}<extra></extra>",
         "legendgroup": "Difference, p = constant 0.5",
         "line": {
          "color": "#636efa",
          "dash": "solid"
         },
         "marker": {
          "symbol": "circle"
         },
         "mode": "lines+markers",
         "name": "Difference, p = constant 0.5",
         "orientation": "v",
         "showlegend": true,
         "type": "scatter",
         "x": [
          0,
          0.01,
          0.02,
          0.03,
          0.04,
          0.05,
          0.06,
          0.07,
          0.08,
          0.09,
          0.1
         ],
         "xaxis": "x",
         "y": [
          0,
          0,
          0,
          0,
          0,
          0,
          0.008771929824561403,
          0.008771929824561403,
          0,
          0,
          0.008771929824561403
         ],
         "yaxis": "y"
        },
        {
         "hovertemplate": "estimator=Exposed Only<br>p=p = 0.5 to 0.95<br>σ_b=%{x}<br>type_s_rate=%{y}<extra></extra>",
         "legendgroup": "Exposed Only, p = 0.5 to 0.95",
         "line": {
          "color": "#EF553B",
          "dash": "dash"
         },
         "marker": {
          "symbol": "circle"
         },
         "mode": "lines+markers",
         "name": "Exposed Only, p = 0.5 to 0.95",
         "orientation": "v",
         "showlegend": true,
         "type": "scatter",
         "x": [
          0,
          0.01,
          0.02,
          0.03,
          0.04,
          0.05,
          0.06,
          0.07,
          0.08,
          0.09,
          0.1
         ],
         "xaxis": "x",
         "y": [
          0,
          0.008771929824561403,
          0,
          0,
          0,
          0.043859649122807015,
          0.03508771929824561,
          0.043859649122807015,
          0.07017543859649122,
          0.11403508771929823,
          0.06140350877192982
         ],
         "yaxis": "y"
        },
        {
         "hovertemplate": "estimator=Exposed Only<br>p=p = constant 0.5<br>σ_b=%{x}<br>type_s_rate=%{y}<extra></extra>",
         "legendgroup": "Exposed Only, p = constant 0.5",
         "line": {
          "color": "#EF553B",
          "dash": "solid"
         },
         "marker": {
          "symbol": "circle"
         },
         "mode": "lines+markers",
         "name": "Exposed Only, p = constant 0.5",
         "orientation": "v",
         "showlegend": true,
         "type": "scatter",
         "x": [
          0,
          0.01,
          0.02,
          0.03,
          0.04,
          0.05,
          0.06,
          0.07,
          0.08,
          0.09,
          0.1
         ],
         "xaxis": "x",
         "y": [
          0,
          0,
          0,
          0,
          0.02631578947368421,
          0.008771929824561403,
          0.017543859649122806,
          0.02631578947368421,
          0.043859649122807015,
          0.05263157894736842,
          0.043859649122807015
         ],
         "yaxis": "y"
        },
        {
         "hovertemplate": "estimator=Posterior Mean<br>p=p = 0.5 to 0.95<br>σ_b=%{x}<br>type_s_rate=%{y}<extra></extra>",
         "legendgroup": "Posterior Mean, p = 0.5 to 0.95",
         "line": {
          "color": "#00cc96",
          "dash": "dash"
         },
         "marker": {
          "symbol": "circle"
         },
         "mode": "lines+markers",
         "name": "Posterior Mean, p = 0.5 to 0.95",
         "orientation": "v",
         "showlegend": true,
         "type": "scatter",
         "x": [
          0,
          0.01,
          0.02,
          0.03,
          0.04,
          0.05,
          0.06,
          0.07,
          0.08,
          0.09,
          0.1
         ],
         "xaxis": "x",
         "y": [
          0,
          0,
          0,
          0,
          0,
          0,
          0,
          0.008771929824561403,
          0.017543859649122806,
          0,
          0.008771929824561403
         ],
         "yaxis": "y"
        },
        {
         "hovertemplate": "estimator=Posterior Mean<br>p=p = constant 0.5<br>σ_b=%{x}<br>type_s_rate=%{y}<extra></extra>",
         "legendgroup": "Posterior Mean, p = constant 0.5",
         "line": {
          "color": "#00cc96",
          "dash": "solid"
         },
         "marker": {
          "symbol": "circle"
         },
         "mode": "lines+markers",
         "name": "Posterior Mean, p = constant 0.5",
         "orientation": "v",
         "showlegend": true,
         "type": "scatter",
         "x": [
          0,
          0.01,
          0.02,
          0.03,
          0.04,
          0.05,
          0.06,
          0.07,
          0.08,
          0.09,
          0.1
         ],
         "xaxis": "x",
         "y": [
          0.008771929824561403,
          0.03508771929824561,
          0,
          0,
          0,
          0,
          0,
          0.008771929824561403,
          0,
          0,
          0
         ],
         "yaxis": "y"
        }
       ],
       "layout": {
        "legend": {
         "title": {
          "text": "Estimator"
         },
         "tracegroupgap": 0
        },
        "template": {
         "data": {
          "bar": [
           {
            "error_x": {
             "color": "#2a3f5f"
            },
            "error_y": {
             "color": "#2a3f5f"
            },
            "marker": {
             "line": {
              "color": "#E5ECF6",
              "width": 0.5
             },
             "pattern": {
              "fillmode": "overlay",
              "size": 10,
              "solidity": 0.2
             }
            },
            "type": "bar"
           }
          ],
          "barpolar": [
           {
            "marker": {
             "line": {
              "color": "#E5ECF6",
              "width": 0.5
             },
             "pattern": {
              "fillmode": "overlay",
              "size": 10,
              "solidity": 0.2
             }
            },
            "type": "barpolar"
           }
          ],
          "carpet": [
           {
            "aaxis": {
             "endlinecolor": "#2a3f5f",
             "gridcolor": "white",
             "linecolor": "white",
             "minorgridcolor": "white",
             "startlinecolor": "#2a3f5f"
            },
            "baxis": {
             "endlinecolor": "#2a3f5f",
             "gridcolor": "white",
             "linecolor": "white",
             "minorgridcolor": "white",
             "startlinecolor": "#2a3f5f"
            },
            "type": "carpet"
           }
          ],
          "choropleth": [
           {
            "colorbar": {
             "outlinewidth": 0,
             "ticks": ""
            },
            "type": "choropleth"
           }
          ],
          "contour": [
           {
            "colorbar": {
             "outlinewidth": 0,
             "ticks": ""
            },
            "colorscale": [
             [
              0,
              "#0d0887"
             ],
             [
              0.1111111111111111,
              "#46039f"
             ],
             [
              0.2222222222222222,
              "#7201a8"
             ],
             [
              0.3333333333333333,
              "#9c179e"
             ],
             [
              0.4444444444444444,
              "#bd3786"
             ],
             [
              0.5555555555555556,
              "#d8576b"
             ],
             [
              0.6666666666666666,
              "#ed7953"
             ],
             [
              0.7777777777777778,
              "#fb9f3a"
             ],
             [
              0.8888888888888888,
              "#fdca26"
             ],
             [
              1,
              "#f0f921"
             ]
            ],
            "type": "contour"
           }
          ],
          "contourcarpet": [
           {
            "colorbar": {
             "outlinewidth": 0,
             "ticks": ""
            },
            "type": "contourcarpet"
           }
          ],
          "heatmap": [
           {
            "colorbar": {
             "outlinewidth": 0,
             "ticks": ""
            },
            "colorscale": [
             [
              0,
              "#0d0887"
             ],
             [
              0.1111111111111111,
              "#46039f"
             ],
             [
              0.2222222222222222,
              "#7201a8"
             ],
             [
              0.3333333333333333,
              "#9c179e"
             ],
             [
              0.4444444444444444,
              "#bd3786"
             ],
             [
              0.5555555555555556,
              "#d8576b"
             ],
             [
              0.6666666666666666,
              "#ed7953"
             ],
             [
              0.7777777777777778,
              "#fb9f3a"
             ],
             [
              0.8888888888888888,
              "#fdca26"
             ],
             [
              1,
              "#f0f921"
             ]
            ],
            "type": "heatmap"
           }
          ],
          "heatmapgl": [
           {
            "colorbar": {
             "outlinewidth": 0,
             "ticks": ""
            },
            "colorscale": [
             [
              0,
              "#0d0887"
             ],
             [
              0.1111111111111111,
              "#46039f"
             ],
             [
              0.2222222222222222,
              "#7201a8"
             ],
             [
              0.3333333333333333,
              "#9c179e"
             ],
             [
              0.4444444444444444,
              "#bd3786"
             ],
             [
              0.5555555555555556,
              "#d8576b"
             ],
             [
              0.6666666666666666,
              "#ed7953"
             ],
             [
              0.7777777777777778,
              "#fb9f3a"
             ],
             [
              0.8888888888888888,
              "#fdca26"
             ],
             [
              1,
              "#f0f921"
             ]
            ],
            "type": "heatmapgl"
           }
          ],
          "histogram": [
           {
            "marker": {
             "pattern": {
              "fillmode": "overlay",
              "size": 10,
              "solidity": 0.2
             }
            },
            "type": "histogram"
           }
          ],
          "histogram2d": [
           {
            "colorbar": {
             "outlinewidth": 0,
             "ticks": ""
            },
            "colorscale": [
             [
              0,
              "#0d0887"
             ],
             [
              0.1111111111111111,
              "#46039f"
             ],
             [
              0.2222222222222222,
              "#7201a8"
             ],
             [
              0.3333333333333333,
              "#9c179e"
             ],
             [
              0.4444444444444444,
              "#bd3786"
             ],
             [
              0.5555555555555556,
              "#d8576b"
             ],
             [
              0.6666666666666666,
              "#ed7953"
             ],
             [
              0.7777777777777778,
              "#fb9f3a"
             ],
             [
              0.8888888888888888,
              "#fdca26"
             ],
             [
              1,
              "#f0f921"
             ]
            ],
            "type": "histogram2d"
           }
          ],
          "histogram2dcontour": [
           {
            "colorbar": {
             "outlinewidth": 0,
             "ticks": ""
            },
            "colorscale": [
             [
              0,
              "#0d0887"
             ],
             [
              0.1111111111111111,
              "#46039f"
             ],
             [
              0.2222222222222222,
              "#7201a8"
             ],
             [
              0.3333333333333333,
              "#9c179e"
             ],
             [
              0.4444444444444444,
              "#bd3786"
             ],
             [
              0.5555555555555556,
              "#d8576b"
             ],
             [
              0.6666666666666666,
              "#ed7953"
             ],
             [
              0.7777777777777778,
              "#fb9f3a"
             ],
             [
              0.8888888888888888,
              "#fdca26"
             ],
             [
              1,
              "#f0f921"
             ]
            ],
            "type": "histogram2dcontour"
           }
          ],
          "mesh3d": [
           {
            "colorbar": {
             "outlinewidth": 0,
             "ticks": ""
            },
            "type": "mesh3d"
           }
          ],
          "parcoords": [
           {
            "line": {
             "colorbar": {
              "outlinewidth": 0,
              "ticks": ""
             }
            },
            "type": "parcoords"
           }
          ],
          "pie": [
           {
            "automargin": true,
            "type": "pie"
           }
          ],
          "scatter": [
           {
            "fillpattern": {
             "fillmode": "overlay",
             "size": 10,
             "solidity": 0.2
            },
            "type": "scatter"
           }
          ],
          "scatter3d": [
           {
            "line": {
             "colorbar": {
              "outlinewidth": 0,
              "ticks": ""
             }
            },
            "marker": {
             "colorbar": {
              "outlinewidth": 0,
              "ticks": ""
             }
            },
            "type": "scatter3d"
           }
          ],
          "scattercarpet": [
           {
            "marker": {
             "colorbar": {
              "outlinewidth": 0,
              "ticks": ""
             }
            },
            "type": "scattercarpet"
           }
          ],
          "scattergeo": [
           {
            "marker": {
             "colorbar": {
              "outlinewidth": 0,
              "ticks": ""
             }
            },
            "type": "scattergeo"
           }
          ],
          "scattergl": [
           {
            "marker": {
             "colorbar": {
              "outlinewidth": 0,
              "ticks": ""
             }
            },
            "type": "scattergl"
           }
          ],
          "scattermapbox": [
           {
            "marker": {
             "colorbar": {
              "outlinewidth": 0,
              "ticks": ""
             }
            },
            "type": "scattermapbox"
           }
          ],
          "scatterpolar": [
           {
            "marker": {
             "colorbar": {
              "outlinewidth": 0,
              "ticks": ""
             }
            },
            "type": "scatterpolar"
           }
          ],
          "scatterpolargl": [
           {
            "marker": {
             "colorbar": {
              "outlinewidth": 0,
              "ticks": ""
             }
            },
            "type": "scatterpolargl"
           }
          ],
          "scatterternary": [
           {
            "marker": {
             "colorbar": {
              "outlinewidth": 0,
              "ticks": ""
             }
            },
            "type": "scatterternary"
           }
          ],
          "surface": [
           {
            "colorbar": {
             "outlinewidth": 0,
             "ticks": ""
            },
            "colorscale": [
             [
              0,
              "#0d0887"
             ],
             [
              0.1111111111111111,
              "#46039f"
             ],
             [
              0.2222222222222222,
              "#7201a8"
             ],
             [
              0.3333333333333333,
              "#9c179e"
             ],
             [
              0.4444444444444444,
              "#bd3786"
             ],
             [
              0.5555555555555556,
              "#d8576b"
             ],
             [
              0.6666666666666666,
              "#ed7953"
             ],
             [
              0.7777777777777778,
              "#fb9f3a"
             ],
             [
              0.8888888888888888,
              "#fdca26"
             ],
             [
              1,
              "#f0f921"
             ]
            ],
            "type": "surface"
           }
          ],
          "table": [
           {
            "cells": {
             "fill": {
              "color": "#EBF0F8"
             },
             "line": {
              "color": "white"
             }
            },
            "header": {
             "fill": {
              "color": "#C8D4E3"
             },
             "line": {
              "color": "white"
             }
            },
            "type": "table"
           }
          ]
         },
         "layout": {
          "annotationdefaults": {
           "arrowcolor": "#2a3f5f",
           "arrowhead": 0,
           "arrowwidth": 1
          },
          "autotypenumbers": "strict",
          "coloraxis": {
           "colorbar": {
            "outlinewidth": 0,
            "ticks": ""
           }
          },
          "colorscale": {
           "diverging": [
            [
             0,
             "#8e0152"
            ],
            [
             0.1,
             "#c51b7d"
            ],
            [
             0.2,
             "#de77ae"
            ],
            [
             0.3,
             "#f1b6da"
            ],
            [
             0.4,
             "#fde0ef"
            ],
            [
             0.5,
             "#f7f7f7"
            ],
            [
             0.6,
             "#e6f5d0"
            ],
            [
             0.7,
             "#b8e186"
            ],
            [
             0.8,
             "#7fbc41"
            ],
            [
             0.9,
             "#4d9221"
            ],
            [
             1,
             "#276419"
            ]
           ],
           "sequential": [
            [
             0,
             "#0d0887"
            ],
            [
             0.1111111111111111,
             "#46039f"
            ],
            [
             0.2222222222222222,
             "#7201a8"
            ],
            [
             0.3333333333333333,
             "#9c179e"
            ],
            [
             0.4444444444444444,
             "#bd3786"
            ],
            [
             0.5555555555555556,
             "#d8576b"
            ],
            [
             0.6666666666666666,
             "#ed7953"
            ],
            [
             0.7777777777777778,
             "#fb9f3a"
            ],
            [
             0.8888888888888888,
             "#fdca26"
            ],
            [
             1,
             "#f0f921"
            ]
           ],
           "sequentialminus": [
            [
             0,
             "#0d0887"
            ],
            [
             0.1111111111111111,
             "#46039f"
            ],
            [
             0.2222222222222222,
             "#7201a8"
            ],
            [
             0.3333333333333333,
             "#9c179e"
            ],
            [
             0.4444444444444444,
             "#bd3786"
            ],
            [
             0.5555555555555556,
             "#d8576b"
            ],
            [
             0.6666666666666666,
             "#ed7953"
            ],
            [
             0.7777777777777778,
             "#fb9f3a"
            ],
            [
             0.8888888888888888,
             "#fdca26"
            ],
            [
             1,
             "#f0f921"
            ]
           ]
          },
          "colorway": [
           "#636efa",
           "#EF553B",
           "#00cc96",
           "#ab63fa",
           "#FFA15A",
           "#19d3f3",
           "#FF6692",
           "#B6E880",
           "#FF97FF",
           "#FECB52"
          ],
          "font": {
           "color": "#2a3f5f"
          },
          "geo": {
           "bgcolor": "white",
           "lakecolor": "white",
           "landcolor": "#E5ECF6",
           "showlakes": true,
           "showland": true,
           "subunitcolor": "white"
          },
          "hoverlabel": {
           "align": "left"
          },
          "hovermode": "closest",
          "mapbox": {
           "style": "light"
          },
          "paper_bgcolor": "white",
          "plot_bgcolor": "#E5ECF6",
          "polar": {
           "angularaxis": {
            "gridcolor": "white",
            "linecolor": "white",
            "ticks": ""
           },
           "bgcolor": "#E5ECF6",
           "radialaxis": {
            "gridcolor": "white",
            "linecolor": "white",
            "ticks": ""
           }
          },
          "scene": {
           "xaxis": {
            "backgroundcolor": "#E5ECF6",
            "gridcolor": "white",
            "gridwidth": 2,
            "linecolor": "white",
            "showbackground": true,
            "ticks": "",
            "zerolinecolor": "white"
           },
           "yaxis": {
            "backgroundcolor": "#E5ECF6",
            "gridcolor": "white",
            "gridwidth": 2,
            "linecolor": "white",
            "showbackground": true,
            "ticks": "",
            "zerolinecolor": "white"
           },
           "zaxis": {
            "backgroundcolor": "#E5ECF6",
            "gridcolor": "white",
            "gridwidth": 2,
            "linecolor": "white",
            "showbackground": true,
            "ticks": "",
            "zerolinecolor": "white"
           }
          },
          "shapedefaults": {
           "line": {
            "color": "#2a3f5f"
           }
          },
          "ternary": {
           "aaxis": {
            "gridcolor": "white",
            "linecolor": "white",
            "ticks": ""
           },
           "baxis": {
            "gridcolor": "white",
            "linecolor": "white",
            "ticks": ""
           },
           "bgcolor": "#E5ECF6",
           "caxis": {
            "gridcolor": "white",
            "linecolor": "white",
            "ticks": ""
           }
          },
          "title": {
           "x": 0.05
          },
          "xaxis": {
           "automargin": true,
           "gridcolor": "white",
           "linecolor": "white",
           "ticks": "",
           "title": {
            "standoff": 15
           },
           "zerolinecolor": "white",
           "zerolinewidth": 2
          },
          "yaxis": {
           "automargin": true,
           "gridcolor": "white",
           "linecolor": "white",
           "ticks": "",
           "title": {
            "standoff": 15
           },
           "zerolinecolor": "white",
           "zerolinewidth": 2
          }
         }
        },
        "title": {
         "text": "Type S error rate vs. σ_b by Estimator"
        },
        "xaxis": {
         "anchor": "y",
         "domain": [
          0,
          1
         ],
         "title": {
          "text": "σ_b"
         }
        },
        "yaxis": {
         "anchor": "x",
         "domain": [
          0,
          1
         ],
         "title": {
          "text": "type_s_rate"
         }
        }
       }
      }
     },
     "metadata": {},
     "output_type": "display_data"
    }
   ],
   "source": [
    "fig_type_s = px.line(\n",
    "    result_means,\n",
    "    x=\"sigma_b\",\n",
    "    y=\"type_s_rate\",\n",
    "    color=\"estimator\",\n",
    "    line_dash=\"p\",\n",
    "    line_dash_map=dash_map,\n",
    "    markers=True,\n",
    "    title=\"Type S error rate vs. σ_b by Estimator\",\n",
    "    labels={\"sigma_b\": \"σ_b\", \"type_s_error\": \"Type S Error Rate\"},\n",
    ")\n",
    "\n",
    "# keep legend showing only estimator\n",
    "fig_type_s.update_layout(legend_title_text=\"Estimator\")\n",
    "fig_type_s.show()"
   ]
  },
  {
   "cell_type": "code",
   "execution_count": null,
   "metadata": {},
   "outputs": [
    {
     "data": {
      "application/vnd.plotly.v1+json": {
       "config": {
        "plotlyServerURL": "https://plot.ly"
       },
       "data": [
        {
         "hovertemplate": "estimator=Difference<br>p=p = 0.5 to 0.95<br>σ_b=%{x}<br>Rank Correlation=%{y}<extra></extra>",
         "legendgroup": "Difference, p = 0.5 to 0.95",
         "line": {
          "color": "#636efa",
          "dash": "dash"
         },
         "marker": {
          "symbol": "circle"
         },
         "mode": "lines+markers",
         "name": "Difference, p = 0.5 to 0.95",
         "orientation": "v",
         "showlegend": true,
         "type": "scatter",
         "x": [
          0,
          0.01,
          0.02,
          0.03,
          0.04,
          0.05,
          0.06,
          0.07,
          0.08,
          0.09,
          0.1
         ],
         "xaxis": "x",
         "y": [
          0.46923441660283766,
          0.6773534668271511,
          0.4413684940000729,
          0.6035306561622351,
          0.6305941569099464,
          0.4868147499726447,
          0.5277382645803699,
          0.6371594266331108,
          0.5198599409125725,
          0.73746215851479,
          0.6478097530729109
         ],
         "yaxis": "y"
        },
        {
         "hovertemplate": "estimator=Difference<br>p=p = constant 0.5<br>σ_b=%{x}<br>Rank Correlation=%{y}<extra></extra>",
         "legendgroup": "Difference, p = constant 0.5",
         "line": {
          "color": "#636efa",
          "dash": "solid"
         },
         "marker": {
          "symbol": "circle"
         },
         "mode": "lines+markers",
         "name": "Difference, p = constant 0.5",
         "orientation": "v",
         "showlegend": true,
         "type": "scatter",
         "x": [
          0,
          0.01,
          0.02,
          0.03,
          0.04,
          0.05,
          0.06,
          0.07,
          0.08,
          0.09,
          0.1
         ],
         "xaxis": "x",
         "y": [
          0.6635664004085057,
          0.7414742677900573,
          0.6509464930517561,
          0.6553962869752343,
          0.7160156107524528,
          0.731553415763942,
          0.6921617974249553,
          0.7198088777036146,
          0.6753838859102017,
          0.634241528978371,
          0.7460699565962724
         ],
         "yaxis": "y"
        },
        {
         "hovertemplate": "estimator=Exposed Only<br>p=p = 0.5 to 0.95<br>σ_b=%{x}<br>Rank Correlation=%{y}<extra></extra>",
         "legendgroup": "Exposed Only, p = 0.5 to 0.95",
         "line": {
          "color": "#EF553B",
          "dash": "dash"
         },
         "marker": {
          "symbol": "circle"
         },
         "mode": "lines+markers",
         "name": "Exposed Only, p = 0.5 to 0.95",
         "orientation": "v",
         "showlegend": true,
         "type": "scatter",
         "x": [
          0,
          0.01,
          0.02,
          0.03,
          0.04,
          0.05,
          0.06,
          0.07,
          0.08,
          0.09,
          0.1
         ],
         "xaxis": "x",
         "y": [
          0.860451544662071,
          0.8083670715249663,
          0.7486231170441696,
          0.7592004960426012,
          0.6574388153335521,
          0.5992267571214939,
          0.5892329576540102,
          0.5708502024291499,
          0.5058540321698216,
          0.44632892001313057,
          0.45894882736988
         ],
         "yaxis": "y"
        },
        {
         "hovertemplate": "estimator=Exposed Only<br>p=p = constant 0.5<br>σ_b=%{x}<br>Rank Correlation=%{y}<extra></extra>",
         "legendgroup": "Exposed Only, p = constant 0.5",
         "line": {
          "color": "#EF553B",
          "dash": "solid"
         },
         "marker": {
          "symbol": "circle"
         },
         "mode": "lines+markers",
         "name": "Exposed Only, p = constant 0.5",
         "orientation": "v",
         "showlegend": true,
         "type": "scatter",
         "x": [
          0,
          0.01,
          0.02,
          0.03,
          0.04,
          0.05,
          0.06,
          0.07,
          0.08,
          0.09,
          0.1
         ],
         "xaxis": "x",
         "y": [
          0.791370317686107,
          0.7765619870883028,
          0.7769996717365139,
          0.7486960644855382,
          0.6513841776999671,
          0.6408067987015355,
          0.5491118649013386,
          0.5572819783346099,
          0.49133749133749133,
          0.4658788342998869,
          0.4089068825910931
         ],
         "yaxis": "y"
        },
        {
         "hovertemplate": "estimator=Posterior Mean<br>p=p = 0.5 to 0.95<br>σ_b=%{x}<br>Rank Correlation=%{y}<extra></extra>",
         "legendgroup": "Posterior Mean, p = 0.5 to 0.95",
         "line": {
          "color": "#00cc96",
          "dash": "dash"
         },
         "marker": {
          "symbol": "circle"
         },
         "mode": "lines+markers",
         "name": "Posterior Mean, p = 0.5 to 0.95",
         "orientation": "v",
         "showlegend": true,
         "type": "scatter",
         "x": [
          0,
          0.01,
          0.02,
          0.03,
          0.04,
          0.05,
          0.06,
          0.07,
          0.08,
          0.09,
          0.1
         ],
         "xaxis": "x",
         "y": [
          0.8129627603311814,
          0.8003428529744318,
          0.8395885764306817,
          0.7684648210964,
          0.7178392967866651,
          0.7308968887916256,
          0.751759857023015,
          0.6342415289783712,
          0.6625451362293467,
          0.5175985702301492,
          0.623007623007623
         ],
         "yaxis": "y"
        },
        {
         "hovertemplate": "estimator=Posterior Mean<br>p=p = constant 0.5<br>σ_b=%{x}<br>Rank Correlation=%{y}<extra></extra>",
         "legendgroup": "Posterior Mean, p = constant 0.5",
         "line": {
          "color": "#00cc96",
          "dash": "solid"
         },
         "marker": {
          "symbol": "circle"
         },
         "mode": "lines+markers",
         "name": "Posterior Mean, p = constant 0.5",
         "orientation": "v",
         "showlegend": true,
         "type": "scatter",
         "x": [
          0,
          0.01,
          0.02,
          0.03,
          0.04,
          0.05,
          0.06,
          0.07,
          0.08,
          0.09,
          0.1
         ],
         "xaxis": "x",
         "y": [
          0.7466535361272203,
          0.677791151475362,
          0.7514680672575409,
          0.7603676551044972,
          0.6591166064850276,
          0.5953605427289638,
          0.7172557172557172,
          0.707772549877813,
          0.7268847795163585,
          0.7363679468942627,
          0.6427034321771163
         ],
         "yaxis": "y"
        }
       ],
       "layout": {
        "legend": {
         "title": {
          "text": "Estimator"
         },
         "tracegroupgap": 0
        },
        "template": {
         "data": {
          "bar": [
           {
            "error_x": {
             "color": "#2a3f5f"
            },
            "error_y": {
             "color": "#2a3f5f"
            },
            "marker": {
             "line": {
              "color": "#E5ECF6",
              "width": 0.5
             },
             "pattern": {
              "fillmode": "overlay",
              "size": 10,
              "solidity": 0.2
             }
            },
            "type": "bar"
           }
          ],
          "barpolar": [
           {
            "marker": {
             "line": {
              "color": "#E5ECF6",
              "width": 0.5
             },
             "pattern": {
              "fillmode": "overlay",
              "size": 10,
              "solidity": 0.2
             }
            },
            "type": "barpolar"
           }
          ],
          "carpet": [
           {
            "aaxis": {
             "endlinecolor": "#2a3f5f",
             "gridcolor": "white",
             "linecolor": "white",
             "minorgridcolor": "white",
             "startlinecolor": "#2a3f5f"
            },
            "baxis": {
             "endlinecolor": "#2a3f5f",
             "gridcolor": "white",
             "linecolor": "white",
             "minorgridcolor": "white",
             "startlinecolor": "#2a3f5f"
            },
            "type": "carpet"
           }
          ],
          "choropleth": [
           {
            "colorbar": {
             "outlinewidth": 0,
             "ticks": ""
            },
            "type": "choropleth"
           }
          ],
          "contour": [
           {
            "colorbar": {
             "outlinewidth": 0,
             "ticks": ""
            },
            "colorscale": [
             [
              0,
              "#0d0887"
             ],
             [
              0.1111111111111111,
              "#46039f"
             ],
             [
              0.2222222222222222,
              "#7201a8"
             ],
             [
              0.3333333333333333,
              "#9c179e"
             ],
             [
              0.4444444444444444,
              "#bd3786"
             ],
             [
              0.5555555555555556,
              "#d8576b"
             ],
             [
              0.6666666666666666,
              "#ed7953"
             ],
             [
              0.7777777777777778,
              "#fb9f3a"
             ],
             [
              0.8888888888888888,
              "#fdca26"
             ],
             [
              1,
              "#f0f921"
             ]
            ],
            "type": "contour"
           }
          ],
          "contourcarpet": [
           {
            "colorbar": {
             "outlinewidth": 0,
             "ticks": ""
            },
            "type": "contourcarpet"
           }
          ],
          "heatmap": [
           {
            "colorbar": {
             "outlinewidth": 0,
             "ticks": ""
            },
            "colorscale": [
             [
              0,
              "#0d0887"
             ],
             [
              0.1111111111111111,
              "#46039f"
             ],
             [
              0.2222222222222222,
              "#7201a8"
             ],
             [
              0.3333333333333333,
              "#9c179e"
             ],
             [
              0.4444444444444444,
              "#bd3786"
             ],
             [
              0.5555555555555556,
              "#d8576b"
             ],
             [
              0.6666666666666666,
              "#ed7953"
             ],
             [
              0.7777777777777778,
              "#fb9f3a"
             ],
             [
              0.8888888888888888,
              "#fdca26"
             ],
             [
              1,
              "#f0f921"
             ]
            ],
            "type": "heatmap"
           }
          ],
          "heatmapgl": [
           {
            "colorbar": {
             "outlinewidth": 0,
             "ticks": ""
            },
            "colorscale": [
             [
              0,
              "#0d0887"
             ],
             [
              0.1111111111111111,
              "#46039f"
             ],
             [
              0.2222222222222222,
              "#7201a8"
             ],
             [
              0.3333333333333333,
              "#9c179e"
             ],
             [
              0.4444444444444444,
              "#bd3786"
             ],
             [
              0.5555555555555556,
              "#d8576b"
             ],
             [
              0.6666666666666666,
              "#ed7953"
             ],
             [
              0.7777777777777778,
              "#fb9f3a"
             ],
             [
              0.8888888888888888,
              "#fdca26"
             ],
             [
              1,
              "#f0f921"
             ]
            ],
            "type": "heatmapgl"
           }
          ],
          "histogram": [
           {
            "marker": {
             "pattern": {
              "fillmode": "overlay",
              "size": 10,
              "solidity": 0.2
             }
            },
            "type": "histogram"
           }
          ],
          "histogram2d": [
           {
            "colorbar": {
             "outlinewidth": 0,
             "ticks": ""
            },
            "colorscale": [
             [
              0,
              "#0d0887"
             ],
             [
              0.1111111111111111,
              "#46039f"
             ],
             [
              0.2222222222222222,
              "#7201a8"
             ],
             [
              0.3333333333333333,
              "#9c179e"
             ],
             [
              0.4444444444444444,
              "#bd3786"
             ],
             [
              0.5555555555555556,
              "#d8576b"
             ],
             [
              0.6666666666666666,
              "#ed7953"
             ],
             [
              0.7777777777777778,
              "#fb9f3a"
             ],
             [
              0.8888888888888888,
              "#fdca26"
             ],
             [
              1,
              "#f0f921"
             ]
            ],
            "type": "histogram2d"
           }
          ],
          "histogram2dcontour": [
           {
            "colorbar": {
             "outlinewidth": 0,
             "ticks": ""
            },
            "colorscale": [
             [
              0,
              "#0d0887"
             ],
             [
              0.1111111111111111,
              "#46039f"
             ],
             [
              0.2222222222222222,
              "#7201a8"
             ],
             [
              0.3333333333333333,
              "#9c179e"
             ],
             [
              0.4444444444444444,
              "#bd3786"
             ],
             [
              0.5555555555555556,
              "#d8576b"
             ],
             [
              0.6666666666666666,
              "#ed7953"
             ],
             [
              0.7777777777777778,
              "#fb9f3a"
             ],
             [
              0.8888888888888888,
              "#fdca26"
             ],
             [
              1,
              "#f0f921"
             ]
            ],
            "type": "histogram2dcontour"
           }
          ],
          "mesh3d": [
           {
            "colorbar": {
             "outlinewidth": 0,
             "ticks": ""
            },
            "type": "mesh3d"
           }
          ],
          "parcoords": [
           {
            "line": {
             "colorbar": {
              "outlinewidth": 0,
              "ticks": ""
             }
            },
            "type": "parcoords"
           }
          ],
          "pie": [
           {
            "automargin": true,
            "type": "pie"
           }
          ],
          "scatter": [
           {
            "fillpattern": {
             "fillmode": "overlay",
             "size": 10,
             "solidity": 0.2
            },
            "type": "scatter"
           }
          ],
          "scatter3d": [
           {
            "line": {
             "colorbar": {
              "outlinewidth": 0,
              "ticks": ""
             }
            },
            "marker": {
             "colorbar": {
              "outlinewidth": 0,
              "ticks": ""
             }
            },
            "type": "scatter3d"
           }
          ],
          "scattercarpet": [
           {
            "marker": {
             "colorbar": {
              "outlinewidth": 0,
              "ticks": ""
             }
            },
            "type": "scattercarpet"
           }
          ],
          "scattergeo": [
           {
            "marker": {
             "colorbar": {
              "outlinewidth": 0,
              "ticks": ""
             }
            },
            "type": "scattergeo"
           }
          ],
          "scattergl": [
           {
            "marker": {
             "colorbar": {
              "outlinewidth": 0,
              "ticks": ""
             }
            },
            "type": "scattergl"
           }
          ],
          "scattermapbox": [
           {
            "marker": {
             "colorbar": {
              "outlinewidth": 0,
              "ticks": ""
             }
            },
            "type": "scattermapbox"
           }
          ],
          "scatterpolar": [
           {
            "marker": {
             "colorbar": {
              "outlinewidth": 0,
              "ticks": ""
             }
            },
            "type": "scatterpolar"
           }
          ],
          "scatterpolargl": [
           {
            "marker": {
             "colorbar": {
              "outlinewidth": 0,
              "ticks": ""
             }
            },
            "type": "scatterpolargl"
           }
          ],
          "scatterternary": [
           {
            "marker": {
             "colorbar": {
              "outlinewidth": 0,
              "ticks": ""
             }
            },
            "type": "scatterternary"
           }
          ],
          "surface": [
           {
            "colorbar": {
             "outlinewidth": 0,
             "ticks": ""
            },
            "colorscale": [
             [
              0,
              "#0d0887"
             ],
             [
              0.1111111111111111,
              "#46039f"
             ],
             [
              0.2222222222222222,
              "#7201a8"
             ],
             [
              0.3333333333333333,
              "#9c179e"
             ],
             [
              0.4444444444444444,
              "#bd3786"
             ],
             [
              0.5555555555555556,
              "#d8576b"
             ],
             [
              0.6666666666666666,
              "#ed7953"
             ],
             [
              0.7777777777777778,
              "#fb9f3a"
             ],
             [
              0.8888888888888888,
              "#fdca26"
             ],
             [
              1,
              "#f0f921"
             ]
            ],
            "type": "surface"
           }
          ],
          "table": [
           {
            "cells": {
             "fill": {
              "color": "#EBF0F8"
             },
             "line": {
              "color": "white"
             }
            },
            "header": {
             "fill": {
              "color": "#C8D4E3"
             },
             "line": {
              "color": "white"
             }
            },
            "type": "table"
           }
          ]
         },
         "layout": {
          "annotationdefaults": {
           "arrowcolor": "#2a3f5f",
           "arrowhead": 0,
           "arrowwidth": 1
          },
          "autotypenumbers": "strict",
          "coloraxis": {
           "colorbar": {
            "outlinewidth": 0,
            "ticks": ""
           }
          },
          "colorscale": {
           "diverging": [
            [
             0,
             "#8e0152"
            ],
            [
             0.1,
             "#c51b7d"
            ],
            [
             0.2,
             "#de77ae"
            ],
            [
             0.3,
             "#f1b6da"
            ],
            [
             0.4,
             "#fde0ef"
            ],
            [
             0.5,
             "#f7f7f7"
            ],
            [
             0.6,
             "#e6f5d0"
            ],
            [
             0.7,
             "#b8e186"
            ],
            [
             0.8,
             "#7fbc41"
            ],
            [
             0.9,
             "#4d9221"
            ],
            [
             1,
             "#276419"
            ]
           ],
           "sequential": [
            [
             0,
             "#0d0887"
            ],
            [
             0.1111111111111111,
             "#46039f"
            ],
            [
             0.2222222222222222,
             "#7201a8"
            ],
            [
             0.3333333333333333,
             "#9c179e"
            ],
            [
             0.4444444444444444,
             "#bd3786"
            ],
            [
             0.5555555555555556,
             "#d8576b"
            ],
            [
             0.6666666666666666,
             "#ed7953"
            ],
            [
             0.7777777777777778,
             "#fb9f3a"
            ],
            [
             0.8888888888888888,
             "#fdca26"
            ],
            [
             1,
             "#f0f921"
            ]
           ],
           "sequentialminus": [
            [
             0,
             "#0d0887"
            ],
            [
             0.1111111111111111,
             "#46039f"
            ],
            [
             0.2222222222222222,
             "#7201a8"
            ],
            [
             0.3333333333333333,
             "#9c179e"
            ],
            [
             0.4444444444444444,
             "#bd3786"
            ],
            [
             0.5555555555555556,
             "#d8576b"
            ],
            [
             0.6666666666666666,
             "#ed7953"
            ],
            [
             0.7777777777777778,
             "#fb9f3a"
            ],
            [
             0.8888888888888888,
             "#fdca26"
            ],
            [
             1,
             "#f0f921"
            ]
           ]
          },
          "colorway": [
           "#636efa",
           "#EF553B",
           "#00cc96",
           "#ab63fa",
           "#FFA15A",
           "#19d3f3",
           "#FF6692",
           "#B6E880",
           "#FF97FF",
           "#FECB52"
          ],
          "font": {
           "color": "#2a3f5f"
          },
          "geo": {
           "bgcolor": "white",
           "lakecolor": "white",
           "landcolor": "#E5ECF6",
           "showlakes": true,
           "showland": true,
           "subunitcolor": "white"
          },
          "hoverlabel": {
           "align": "left"
          },
          "hovermode": "closest",
          "mapbox": {
           "style": "light"
          },
          "paper_bgcolor": "white",
          "plot_bgcolor": "#E5ECF6",
          "polar": {
           "angularaxis": {
            "gridcolor": "white",
            "linecolor": "white",
            "ticks": ""
           },
           "bgcolor": "#E5ECF6",
           "radialaxis": {
            "gridcolor": "white",
            "linecolor": "white",
            "ticks": ""
           }
          },
          "scene": {
           "xaxis": {
            "backgroundcolor": "#E5ECF6",
            "gridcolor": "white",
            "gridwidth": 2,
            "linecolor": "white",
            "showbackground": true,
            "ticks": "",
            "zerolinecolor": "white"
           },
           "yaxis": {
            "backgroundcolor": "#E5ECF6",
            "gridcolor": "white",
            "gridwidth": 2,
            "linecolor": "white",
            "showbackground": true,
            "ticks": "",
            "zerolinecolor": "white"
           },
           "zaxis": {
            "backgroundcolor": "#E5ECF6",
            "gridcolor": "white",
            "gridwidth": 2,
            "linecolor": "white",
            "showbackground": true,
            "ticks": "",
            "zerolinecolor": "white"
           }
          },
          "shapedefaults": {
           "line": {
            "color": "#2a3f5f"
           }
          },
          "ternary": {
           "aaxis": {
            "gridcolor": "white",
            "linecolor": "white",
            "ticks": ""
           },
           "baxis": {
            "gridcolor": "white",
            "linecolor": "white",
            "ticks": ""
           },
           "bgcolor": "#E5ECF6",
           "caxis": {
            "gridcolor": "white",
            "linecolor": "white",
            "ticks": ""
           }
          },
          "title": {
           "x": 0.05
          },
          "xaxis": {
           "automargin": true,
           "gridcolor": "white",
           "linecolor": "white",
           "ticks": "",
           "title": {
            "standoff": 15
           },
           "zerolinecolor": "white",
           "zerolinewidth": 2
          },
          "yaxis": {
           "automargin": true,
           "gridcolor": "white",
           "linecolor": "white",
           "ticks": "",
           "title": {
            "standoff": 15
           },
           "zerolinecolor": "white",
           "zerolinewidth": 2
          }
         }
        },
        "title": {
         "text": "Rank Correlation vs. σ_b by Estimator"
        },
        "xaxis": {
         "anchor": "y",
         "domain": [
          0,
          1
         ],
         "title": {
          "text": "σ_b"
         }
        },
        "yaxis": {
         "anchor": "x",
         "domain": [
          0,
          1
         ],
         "title": {
          "text": "Rank Correlation"
         }
        }
       }
      }
     },
     "metadata": {},
     "output_type": "display_data"
    }
   ],
   "source": [
    "fig_corr = px.line(\n",
    "    result_means,\n",
    "    x=\"sigma_b\",\n",
    "    y=\"rank_corr\",\n",
    "    color=\"estimator\",\n",
    "    line_dash=\"p\",\n",
    "    line_dash_map=dash_map,\n",
    "    markers=True,\n",
    "    title=\"Rank Correlation vs. σ_b by Estimator\",\n",
    "    labels={\"sigma_b\": \"σ_b\", \"rank_corr\": \"Rank Correlation\"},\n",
    ")\n",
    "\n",
    "# keep legend showing only estimator\n",
    "fig_corr.update_layout(legend_title_text=\"Estimator\")\n",
    "fig_corr.show()"
   ]
  }
 ],
 "metadata": {
  "kernelspec": {
   "display_name": "sham",
   "language": "python",
   "name": "python3"
  },
  "language_info": {
   "codemirror_mode": {
    "name": "ipython",
    "version": 3
   },
   "file_extension": ".py",
   "mimetype": "text/x-python",
   "name": "python",
   "nbconvert_exporter": "python",
   "pygments_lexer": "ipython3",
   "version": "3.13.2"
  }
 },
 "nbformat": 4,
 "nbformat_minor": 2
}
