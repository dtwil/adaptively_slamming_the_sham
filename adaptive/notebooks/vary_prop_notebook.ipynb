{
 "cells": [
  {
   "cell_type": "code",
   "execution_count": null,
   "metadata": {},
   "outputs": [],
   "source": [
    "import os\n",
    "import sys\n",
    "\n",
    "sys.path.append(\"../\")\n",
    "adaptive_root = os.path.abspath(os.path.join(os.getcwd(), \"..\"))\n",
    "if adaptive_root not in sys.path:\n",
    "    sys.path.append(adaptive_root)\n",
    "\n",
    "# 3) now you can import from simulation.*\n",
    "# Remove cmdstanpy logs\n",
    "import logging\n",
    "from copy import deepcopy\n",
    "\n",
    "import numpy as np\n",
    "from cmdstanpy import CmdStanModel\n",
    "from IPython.display import display\n",
    "from simulation import aggregator, estimators, fitters, results, simulators, utils\n",
    "\n",
    "logger = logging.getLogger(\"cmdstanpy\")\n",
    "logger.addHandler(logging.NullHandler())\n",
    "logger.propagate = False\n",
    "logger.setLevel(logging.CRITICAL)"
   ]
  },
  {
   "cell_type": "code",
   "execution_count": null,
   "metadata": {},
   "outputs": [],
   "source": [
    "exposed_only = estimators.ExposedOnlyEstimator()\n",
    "difference = estimators.DifferenceEstimator()\n",
    "\n",
    "model = CmdStanModel(stan_file=\"../basic_mlm.stan\")\n",
    "posterior_mean_fitter = estimators.StanFitterBasic(model)\n",
    "\n",
    "posterior_mean = estimators.PosteriorMeanEstimator(posterior_mean_fitter)"
   ]
  },
  {
   "cell_type": "code",
   "execution_count": 7,
   "metadata": {},
   "outputs": [],
   "source": [
    "simulator1 = deepcopy(utils.CHICK_SIMULATOR)\n",
    "simulator1.identifier = {\"p\": \"p = constant 0.5\"}\n",
    "simulator1.mu_b = 0\n",
    "\n",
    "simulator2 = deepcopy(utils.CHICK_SIMULATOR)\n",
    "simulator2.identifier = {\"p\": \"p = 0.5 to 0.95\"}\n",
    "simulator2.p = np.linspace(0.5, 0.95, utils.CHICK_J)\n",
    "simulator2.mu_b = 0"
   ]
  },
  {
   "cell_type": "code",
   "execution_count": 8,
   "metadata": {},
   "outputs": [],
   "source": [
    "simulators = []\n",
    "for simulator in [simulator1, simulator2]:\n",
    "    for sigma_b in utils.CHICK_SIGMA_B_GRID:\n",
    "        new_sim = deepcopy(simulator)\n",
    "        new_sim.sigma_b = sigma_b\n",
    "        new_sim.identifier = new_sim.identifier | {\"sigma_b\": sigma_b}\n",
    "        simulators.append(new_sim)"
   ]
  },
  {
   "cell_type": "code",
   "execution_count": null,
   "metadata": {},
   "outputs": [
    {
     "name": "stdout",
     "output_type": "stream",
     "text": []
    },
    {
     "name": "stdout",
     "output_type": "stream",
     "text": []
    },
    {
     "name": "stdout",
     "output_type": "stream",
     "text": []
    },
    {
     "name": "stdout",
     "output_type": "stream",
     "text": []
    },
    {
     "name": "stdout",
     "output_type": "stream",
     "text": []
    },
    {
     "name": "stdout",
     "output_type": "stream",
     "text": []
    },
    {
     "name": "stdout",
     "output_type": "stream",
     "text": []
    },
    {
     "name": "stdout",
     "output_type": "stream",
     "text": []
    },
    {
     "name": "stdout",
     "output_type": "stream",
     "text": []
    },
    {
     "name": "stdout",
     "output_type": "stream",
     "text": []
    },
    {
     "name": "stdout",
     "output_type": "stream",
     "text": []
    },
    {
     "name": "stdout",
     "output_type": "stream",
     "text": []
    },
    {
     "name": "stdout",
     "output_type": "stream",
     "text": []
    },
    {
     "name": "stdout",
     "output_type": "stream",
     "text": []
    },
    {
     "name": "stdout",
     "output_type": "stream",
     "text": []
    },
    {
     "name": "stdout",
     "output_type": "stream",
     "text": []
    },
    {
     "name": "stdout",
     "output_type": "stream",
     "text": []
    },
    {
     "name": "stdout",
     "output_type": "stream",
     "text": []
    },
    {
     "name": "stdout",
     "output_type": "stream",
     "text": []
    },
    {
     "name": "stdout",
     "output_type": "stream",
     "text": []
    },
    {
     "name": "stdout",
     "output_type": "stream",
     "text": []
    },
    {
     "name": "stdout",
     "output_type": "stream",
     "text": []
    },
    {
     "name": "stdout",
     "output_type": "stream",
     "text": []
    },
    {
     "name": "stdout",
     "output_type": "stream",
     "text": []
    },
    {
     "name": "stdout",
     "output_type": "stream",
     "text": []
    }
   ],
   "source": [
    "aggregator = aggregator.SimulationAggregator(simulators)\n",
    "result = aggregator.simulate(\n",
    "    [exposed_only, difference, posterior_mean], 3, 0.05, show_progress=False\n",
    ")"
   ]
  },
  {
   "cell_type": "code",
   "execution_count": 10,
   "metadata": {},
   "outputs": [
    {
     "name": "stdout",
     "output_type": "stream",
     "text": []
    }
   ],
   "source": [
    "result_means = result.means()\n",
    "display(result_means)"
   ]
  },
  {
   "cell_type": "code",
   "execution_count": null,
   "metadata": {},
   "outputs": [
    {
     "name": "stdout",
     "output_type": "stream",
     "text": []
    }
   ],
   "source": [
    "import plotly.express as px\n",
    "\n",
    "# define dash styles for the two p‐settings\n",
    "dash_map = {\"p = constant 0.5\": \"solid\", \"p = 0.5 to 0.95\": \"dash\"}\n",
    "\n",
    "fig_rmse = px.line(\n",
    "    result_means,\n",
    "    x=\"sigma_b\",\n",
    "    y=\"sample_rmse\",\n",
    "    color=\"estimator\",\n",
    "    line_dash=\"p\",\n",
    "    line_dash_map=dash_map,\n",
    "    markers=True,\n",
    "    title=\"RMSE vs. σ_b by Estimator\",\n",
    "    labels={\"sigma_b\": \"σ_b\", \"pop_rmse\": \"RMSE\"},\n",
    ")\n",
    "\n",
    "# keep legend showing only estimator\n",
    "fig_rmse.update_layout(legend_title_text=\"Estimator\")\n",
    "fig_rmse.show()"
   ]
  },
  {
   "cell_type": "code",
   "execution_count": null,
   "metadata": {},
   "outputs": [
    {
     "name": "stdout",
     "output_type": "stream",
     "text": []
    }
   ],
   "source": [
    "fig_type_s = px.line(\n",
    "    result_means,\n",
    "    x=\"sigma_b\",\n",
    "    y=\"type_s_rate\",\n",
    "    color=\"estimator\",\n",
    "    line_dash=\"p\",\n",
    "    line_dash_map=dash_map,\n",
    "    markers=True,\n",
    "    title=\"Type S error rate vs. σ_b by Estimator\",\n",
    "    labels={\"sigma_b\": \"σ_b\", \"type_s_error\": \"Type S Error Rate\"},\n",
    ")\n",
    "\n",
    "# keep legend showing only estimator\n",
    "fig_type_s.update_layout(legend_title_text=\"Estimator\")\n",
    "fig_type_s.show()"
   ]
  },
  {
   "cell_type": "code",
   "execution_count": null,
   "metadata": {},
   "outputs": [
    {
     "name": "stdout",
     "output_type": "stream",
     "text": []
    }
   ],
   "source": [
    "fig_corr = px.line(\n",
    "    result_means,\n",
    "    x=\"sigma_b\",\n",
    "    y=\"rank_corr\",\n",
    "    color=\"estimator\",\n",
    "    line_dash=\"p\",\n",
    "    line_dash_map=dash_map,\n",
    "    markers=True,\n",
    "    title=\"Rank Correlation vs. σ_b by Estimator\",\n",
    "    labels={\"sigma_b\": \"σ_b\", \"rank_corr\": \"Rank Correlation\"},\n",
    ")\n",
    "\n",
    "# keep legend showing only estimator\n",
    "fig_corr.update_layout(legend_title_text=\"Estimator\")\n",
    "fig_corr.show()"
   ]
  }
 ],
 "metadata": {
  "kernelspec": {
   "display_name": "sham",
   "language": "python",
   "name": "python3"
  },
  "language_info": {
   "codemirror_mode": {
    "name": "ipython",
    "version": 3
   },
   "file_extension": ".py",
   "mimetype": "text/x-python",
   "name": "python",
   "nbconvert_exporter": "python",
   "pygments_lexer": "ipython3",
   "version": "3.13.2"
  }
 },
 "nbformat": 4,
 "nbformat_minor": 2
}
