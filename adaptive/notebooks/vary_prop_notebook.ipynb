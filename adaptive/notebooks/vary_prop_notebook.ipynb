{
 "cells": [
  {
   "cell_type": "code",
   "execution_count": null,
   "metadata": {},
   "outputs": [],
   "source": [
    "import sys\n",
    "\n",
    "sys.path.append(\"../\")\n",
    "from copy import deepcopy\n",
    "\n",
    "import numpy as np\n",
    "import simulation_tools as sim\n",
    "from cmdstanpy import CmdStanModel\n",
    "from IPython.display import display"
   ]
  },
  {
   "cell_type": "code",
   "execution_count": null,
   "metadata": {},
   "outputs": [],
   "source": [
    "# Remove cmdstanpy logs\n",
    "import logging\n",
    "\n",
    "logger = logging.getLogger(\"cmdstanpy\")\n",
    "logger.addHandler(logging.NullHandler())\n",
    "logger.propagate = False\n",
    "logger.setLevel(logging.CRITICAL)"
   ]
  },
  {
   "cell_type": "code",
   "execution_count": 3,
   "metadata": {},
   "outputs": [],
   "source": [
    "exposed_only = sim.ExposedOnlyEstimator()\n",
    "difference = sim.DifferenceEstimator()\n",
    "\n",
    "model = CmdStanModel(stan_file=\"../basic_mlm.stan\")\n",
    "posterior_mean_fitter = sim.StanFitterBasic(model)\n",
    "\n",
    "posterior_mean = sim.PosteriorMeanEstimator(posterior_mean_fitter)"
   ]
  },
  {
   "cell_type": "code",
   "execution_count": null,
   "metadata": {},
   "outputs": [],
   "source": [
    "simulator1 = deepcopy(sim.CHICK_SIMULATOR)\n",
    "simulator1.identifier = {\"p\": \"p = constant 0.5\"}\n",
    "simulator1.mu_b = 0\n",
    "\n",
    "simulator2 = deepcopy(sim.CHICK_SIMULATOR)\n",
    "simulator2.identifier = {\"p\": \"p = 0.5 to 0.95\"}\n",
    "simulator2.p = np.linspace(0.5, 0.95, sim.CHICK_J)\n",
    "simulator2.mu_b = 0"
   ]
  },
  {
   "cell_type": "code",
   "execution_count": null,
   "metadata": {},
   "outputs": [],
   "source": [
    "simulators = []\n",
    "for simulator in [simulator1, simulator2]:\n",
    "    for sigma_b in sim.CHICK_SIGMA_B_GRID:\n",
    "        new_sim = deepcopy(simulator)\n",
    "        new_sim.sigma_b = sigma_b\n",
    "        new_sim.identifier = new_sim.identifier | {\"sigma_b\": sigma_b}\n",
    "        simulators.append(new_sim)"
   ]
  },
  {
   "cell_type": "code",
   "execution_count": 6,
   "metadata": {},
   "outputs": [
    {
     "data": {
      "application/vnd.jupyter.widget-view+json": {
       "model_id": "210049ec3beb479e9e72c6b9244df138",
       "version_major": 2,
       "version_minor": 0
      },
      "text/plain": [
       "Simulators:   0%|          | 0/6 [00:00<?, ?it/s]"
      ]
     },
     "metadata": {},
     "output_type": "display_data"
    },
    {
     "data": {
      "application/vnd.jupyter.widget-view+json": {
       "model_id": "8ef029c78694410685d21c7118ff7b49",
       "version_major": 2,
       "version_minor": 0
      },
      "text/plain": [
       "Estimators:   0%|          | 0/3 [00:00<?, ?it/s]"
      ]
     },
     "metadata": {},
     "output_type": "display_data"
    },
    {
     "data": {
      "application/vnd.jupyter.widget-view+json": {
       "model_id": "4c6bbd7bd2da4e168d917efd337e3930",
       "version_major": 2,
       "version_minor": 0
      },
      "text/plain": [
       "Repetition:   0%|          | 0/3 [00:00<?, ?it/s]"
      ]
     },
     "metadata": {},
     "output_type": "display_data"
    },
    {
     "data": {
      "application/vnd.jupyter.widget-view+json": {
       "model_id": "8c146430d9064b799d86f85e31b33e2f",
       "version_major": 2,
       "version_minor": 0
      },
      "text/plain": [
       "Repetition:   0%|          | 0/3 [00:00<?, ?it/s]"
      ]
     },
     "metadata": {},
     "output_type": "display_data"
    },
    {
     "data": {
      "application/vnd.jupyter.widget-view+json": {
       "model_id": "5f6f5787ded0444d9a420a59a9baa2c5",
       "version_major": 2,
       "version_minor": 0
      },
      "text/plain": [
       "Repetition:   0%|          | 0/3 [00:00<?, ?it/s]"
      ]
     },
     "metadata": {},
     "output_type": "display_data"
    },
    {
     "data": {
      "application/vnd.jupyter.widget-view+json": {
       "model_id": "79b38f91ae7d4bf586793a164b272f2e",
       "version_major": 2,
       "version_minor": 0
      },
      "text/plain": [
       "Estimators:   0%|          | 0/3 [00:00<?, ?it/s]"
      ]
     },
     "metadata": {},
     "output_type": "display_data"
    },
    {
     "data": {
      "application/vnd.jupyter.widget-view+json": {
       "model_id": "6801c241b18240be96459b81ca47884a",
       "version_major": 2,
       "version_minor": 0
      },
      "text/plain": [
       "Repetition:   0%|          | 0/3 [00:00<?, ?it/s]"
      ]
     },
     "metadata": {},
     "output_type": "display_data"
    },
    {
     "data": {
      "application/vnd.jupyter.widget-view+json": {
       "model_id": "4c9f254c9d894d63a228e32d57dc6f23",
       "version_major": 2,
       "version_minor": 0
      },
      "text/plain": [
       "Repetition:   0%|          | 0/3 [00:00<?, ?it/s]"
      ]
     },
     "metadata": {},
     "output_type": "display_data"
    },
    {
     "data": {
      "application/vnd.jupyter.widget-view+json": {
       "model_id": "4758c1bfe7d8473a89f5e7e8de33444f",
       "version_major": 2,
       "version_minor": 0
      },
      "text/plain": [
       "Repetition:   0%|          | 0/3 [00:00<?, ?it/s]"
      ]
     },
     "metadata": {},
     "output_type": "display_data"
    },
    {
     "data": {
      "application/vnd.jupyter.widget-view+json": {
       "model_id": "3910c27701ba45ba863ca87120c703fd",
       "version_major": 2,
       "version_minor": 0
      },
      "text/plain": [
       "Estimators:   0%|          | 0/3 [00:00<?, ?it/s]"
      ]
     },
     "metadata": {},
     "output_type": "display_data"
    },
    {
     "data": {
      "application/vnd.jupyter.widget-view+json": {
       "model_id": "0106e681a60f4e6998ad25d244c04e7d",
       "version_major": 2,
       "version_minor": 0
      },
      "text/plain": [
       "Repetition:   0%|          | 0/3 [00:00<?, ?it/s]"
      ]
     },
     "metadata": {},
     "output_type": "display_data"
    },
    {
     "data": {
      "application/vnd.jupyter.widget-view+json": {
       "model_id": "7d6fc33b3d584aca9240e1b2f3e6c471",
       "version_major": 2,
       "version_minor": 0
      },
      "text/plain": [
       "Repetition:   0%|          | 0/3 [00:00<?, ?it/s]"
      ]
     },
     "metadata": {},
     "output_type": "display_data"
    },
    {
     "data": {
      "application/vnd.jupyter.widget-view+json": {
       "model_id": "8014b6ddf37d4ec296649723a442589f",
       "version_major": 2,
       "version_minor": 0
      },
      "text/plain": [
       "Repetition:   0%|          | 0/3 [00:00<?, ?it/s]"
      ]
     },
     "metadata": {},
     "output_type": "display_data"
    },
    {
     "data": {
      "application/vnd.jupyter.widget-view+json": {
       "model_id": "62974653180245cdbcd739f01b1f340e",
       "version_major": 2,
       "version_minor": 0
      },
      "text/plain": [
       "Estimators:   0%|          | 0/3 [00:00<?, ?it/s]"
      ]
     },
     "metadata": {},
     "output_type": "display_data"
    },
    {
     "data": {
      "application/vnd.jupyter.widget-view+json": {
       "model_id": "473eb3c2e1ab45ac9599c1c54fa4fc5b",
       "version_major": 2,
       "version_minor": 0
      },
      "text/plain": [
       "Repetition:   0%|          | 0/3 [00:00<?, ?it/s]"
      ]
     },
     "metadata": {},
     "output_type": "display_data"
    },
    {
     "data": {
      "application/vnd.jupyter.widget-view+json": {
       "model_id": "f3cc775a3baa4932b359b38daf47daae",
       "version_major": 2,
       "version_minor": 0
      },
      "text/plain": [
       "Repetition:   0%|          | 0/3 [00:00<?, ?it/s]"
      ]
     },
     "metadata": {},
     "output_type": "display_data"
    },
    {
     "data": {
      "application/vnd.jupyter.widget-view+json": {
       "model_id": "d38b9b213ab94f10a5a6edd12e9e82e7",
       "version_major": 2,
       "version_minor": 0
      },
      "text/plain": [
       "Repetition:   0%|          | 0/3 [00:00<?, ?it/s]"
      ]
     },
     "metadata": {},
     "output_type": "display_data"
    },
    {
     "data": {
      "application/vnd.jupyter.widget-view+json": {
       "model_id": "00b3cc85fa05436cb1ef8561db0bdcf6",
       "version_major": 2,
       "version_minor": 0
      },
      "text/plain": [
       "Estimators:   0%|          | 0/3 [00:00<?, ?it/s]"
      ]
     },
     "metadata": {},
     "output_type": "display_data"
    },
    {
     "data": {
      "application/vnd.jupyter.widget-view+json": {
       "model_id": "12f140b06ec34719a81ae6b3876f3788",
       "version_major": 2,
       "version_minor": 0
      },
      "text/plain": [
       "Repetition:   0%|          | 0/3 [00:00<?, ?it/s]"
      ]
     },
     "metadata": {},
     "output_type": "display_data"
    },
    {
     "data": {
      "application/vnd.jupyter.widget-view+json": {
       "model_id": "5bfdd576f320489ca84a1f0a353e7a85",
       "version_major": 2,
       "version_minor": 0
      },
      "text/plain": [
       "Repetition:   0%|          | 0/3 [00:00<?, ?it/s]"
      ]
     },
     "metadata": {},
     "output_type": "display_data"
    },
    {
     "data": {
      "application/vnd.jupyter.widget-view+json": {
       "model_id": "475d2d51e0a14b6487e94aeefb068da6",
       "version_major": 2,
       "version_minor": 0
      },
      "text/plain": [
       "Repetition:   0%|          | 0/3 [00:00<?, ?it/s]"
      ]
     },
     "metadata": {},
     "output_type": "display_data"
    },
    {
     "data": {
      "application/vnd.jupyter.widget-view+json": {
       "model_id": "cf399c2a0509479aadd44b8f20ff2f02",
       "version_major": 2,
       "version_minor": 0
      },
      "text/plain": [
       "Estimators:   0%|          | 0/3 [00:00<?, ?it/s]"
      ]
     },
     "metadata": {},
     "output_type": "display_data"
    },
    {
     "data": {
      "application/vnd.jupyter.widget-view+json": {
       "model_id": "aa513e306ab94ceda9f47e3f9af397a5",
       "version_major": 2,
       "version_minor": 0
      },
      "text/plain": [
       "Repetition:   0%|          | 0/3 [00:00<?, ?it/s]"
      ]
     },
     "metadata": {},
     "output_type": "display_data"
    },
    {
     "data": {
      "application/vnd.jupyter.widget-view+json": {
       "model_id": "925ac3f212684e228f62c7970c52f356",
       "version_major": 2,
       "version_minor": 0
      },
      "text/plain": [
       "Repetition:   0%|          | 0/3 [00:00<?, ?it/s]"
      ]
     },
     "metadata": {},
     "output_type": "display_data"
    },
    {
     "data": {
      "application/vnd.jupyter.widget-view+json": {
       "model_id": "4eaaf29e3ce743538360153eed07768e",
       "version_major": 2,
       "version_minor": 0
      },
      "text/plain": [
       "Repetition:   0%|          | 0/3 [00:00<?, ?it/s]"
      ]
     },
     "metadata": {},
     "output_type": "display_data"
    }
   ],
   "source": [
    "aggregator = sim.SimulationAggregator(simulators)\n",
    "result = aggregator.simulate(\n",
    "    [exposed_only, difference, posterior_mean], 3, 0.05, show_progress=False\n",
    ")"
   ]
  },
  {
   "cell_type": "code",
   "execution_count": 10,
   "metadata": {},
   "outputs": [
    {
     "data": {
      "application/vnd.microsoft.datawrangler.viewer.v0+json": {
       "columns": [
        {
         "name": "index",
         "rawType": "int64",
         "type": "integer"
        },
        {
         "name": "p",
         "rawType": "object",
         "type": "string"
        },
        {
         "name": "sigma_b",
         "rawType": "float64",
         "type": "float"
        },
        {
         "name": "estimator",
         "rawType": "object",
         "type": "string"
        },
        {
         "name": "prop_signif",
         "rawType": "float64",
         "type": "float"
        },
        {
         "name": "sample_rmse",
         "rawType": "float64",
         "type": "float"
        },
        {
         "name": "pop_rmse",
         "rawType": "float64",
         "type": "float"
        },
        {
         "name": "type_s_rate",
         "rawType": "float64",
         "type": "float"
        },
        {
         "name": "rank_corr",
         "rawType": "float64",
         "type": "float"
        }
       ],
       "conversionMethod": "pd.DataFrame",
       "ref": "f0d30ea5-10f3-4eb4-92fb-0dde740f6281",
       "rows": [
        [
         "0",
         "p = 0.5 to 0.95",
         "0.0",
         "Difference",
         "0.3508771929824561",
         "0.06772359924133227",
         "0.081073075867341",
         "0.0",
         "0.556844293686399"
        ],
        [
         "1",
         "p = 0.5 to 0.95",
         "0.0",
         "Exposed Only",
         "0.6315789473684211",
         "0.03234637542313908",
         "0.06795931698414275",
         "0.0",
         "0.8500930079877449"
        ],
        [
         "2",
         "p = 0.5 to 0.95",
         "0.0",
         "Posterior Mean",
         "0.912280701754386",
         "0.037117586964820565",
         "0.03736591507678174",
         "0.008771929824561403",
         "0.7344713134186818"
        ],
        [
         "3",
         "p = 0.5 to 0.95",
         "0.5",
         "Difference",
         "0.3947368421052631",
         "0.07977540635402562",
         "0.09356683951545552",
         "0.017543859649122806",
         "0.519203413940256"
        ],
        [
         "4",
         "p = 0.5 to 0.95",
         "0.5",
         "Exposed Only",
         "0.8947368421052632",
         "0.48138819409260575",
         "0.47982333528138604",
         "0.3859649122807018",
         "0.05518473939526572"
        ],
        [
         "5",
         "p = 0.5 to 0.95",
         "0.5",
         "Posterior Mean",
         "0.7192982456140351",
         "0.0415295784974081",
         "0.024710283198719665",
         "0.017543859649122806",
         "0.658460079512711"
        ],
        [
         "6",
         "p = 0.5 to 0.95",
         "1.0",
         "Difference",
         "0.3245614035087719",
         "0.06619080975571316",
         "0.08655427559851171",
         "0.0",
         "0.5475070211912317"
        ],
        [
         "7",
         "p = 0.5 to 0.95",
         "1.0",
         "Exposed Only",
         "0.9298245614035087",
         "1.0019826081474876",
         "1.0094118896505602",
         "0.43859649122807015",
         "0.20421636211109892"
        ],
        [
         "8",
         "p = 0.5 to 0.95",
         "1.0",
         "Posterior Mean",
         "0.5175438596491228",
         "0.05056518710700789",
         "0.0508268838339078",
         "0.008771929824561403",
         "0.666703140387351"
        ],
        [
         "9",
         "p = constant 0.5",
         "0.0",
         "Difference",
         "0.4824561403508772",
         "0.060077063946281824",
         "0.08192839400966152",
         "0.017543859649122806",
         "0.6135974030710872"
        ],
        [
         "10",
         "p = constant 0.5",
         "0.0",
         "Exposed Only",
         "0.7456140350877193",
         "0.03804517318038562",
         "0.06642449211160385",
         "0.0",
         "0.7788963052120946"
        ],
        [
         "11",
         "p = constant 0.5",
         "0.0",
         "Posterior Mean",
         "0.6842105263157895",
         "0.03452853762013766",
         "0.047635516545465835",
         "0.0",
         "0.7845132581974688"
        ],
        [
         "12",
         "p = constant 0.5",
         "0.5",
         "Difference",
         "0.4298245614035088",
         "0.05399526014849152",
         "0.07452083793313469",
         "0.0",
         "0.6339497392128971"
        ],
        [
         "13",
         "p = constant 0.5",
         "0.5",
         "Exposed Only",
         "0.850877192982456",
         "0.4859314559056311",
         "0.49529529234734326",
         "0.3859649122807018",
         "0.21990006200532516"
        ],
        [
         "14",
         "p = constant 0.5",
         "0.5",
         "Posterior Mean",
         "0.850877192982456",
         "0.04499211029357476",
         "0.025770180814651975",
         "0.017543859649122806",
         "0.49731918152970783"
        ],
        [
         "15",
         "p = constant 0.5",
         "1.0",
         "Difference",
         "0.5526315789473685",
         "0.05532090024945721",
         "0.0765291243640025",
         "0.0",
         "0.659627238574607"
        ],
        [
         "16",
         "p = constant 0.5",
         "1.0",
         "Exposed Only",
         "0.9473684210526315",
         "0.9848652399927847",
         "0.9890777785302616",
         "0.456140350877193",
         "0.02440091913776124"
        ],
        [
         "17",
         "p = constant 0.5",
         "1.0",
         "Posterior Mean",
         "0.5789473684210527",
         "0.04070540555562827",
         "0.05066062295240029",
         "0.0",
         "0.6796148375095744"
        ]
       ],
       "shape": {
        "columns": 8,
        "rows": 18
       }
      },
      "text/html": [
       "<div>\n",
       "<style scoped>\n",
       "    .dataframe tbody tr th:only-of-type {\n",
       "        vertical-align: middle;\n",
       "    }\n",
       "\n",
       "    .dataframe tbody tr th {\n",
       "        vertical-align: top;\n",
       "    }\n",
       "\n",
       "    .dataframe thead th {\n",
       "        text-align: right;\n",
       "    }\n",
       "</style>\n",
       "<table border=\"1\" class=\"dataframe\">\n",
       "  <thead>\n",
       "    <tr style=\"text-align: right;\">\n",
       "      <th></th>\n",
       "      <th>p</th>\n",
       "      <th>sigma_b</th>\n",
       "      <th>estimator</th>\n",
       "      <th>prop_signif</th>\n",
       "      <th>sample_rmse</th>\n",
       "      <th>pop_rmse</th>\n",
       "      <th>type_s_rate</th>\n",
       "      <th>rank_corr</th>\n",
       "    </tr>\n",
       "  </thead>\n",
       "  <tbody>\n",
       "    <tr>\n",
       "      <th>0</th>\n",
       "      <td>p = 0.5 to 0.95</td>\n",
       "      <td>0.0</td>\n",
       "      <td>Difference</td>\n",
       "      <td>0.350877</td>\n",
       "      <td>0.067724</td>\n",
       "      <td>0.081073</td>\n",
       "      <td>0.000000</td>\n",
       "      <td>0.556844</td>\n",
       "    </tr>\n",
       "    <tr>\n",
       "      <th>1</th>\n",
       "      <td>p = 0.5 to 0.95</td>\n",
       "      <td>0.0</td>\n",
       "      <td>Exposed Only</td>\n",
       "      <td>0.631579</td>\n",
       "      <td>0.032346</td>\n",
       "      <td>0.067959</td>\n",
       "      <td>0.000000</td>\n",
       "      <td>0.850093</td>\n",
       "    </tr>\n",
       "    <tr>\n",
       "      <th>2</th>\n",
       "      <td>p = 0.5 to 0.95</td>\n",
       "      <td>0.0</td>\n",
       "      <td>Posterior Mean</td>\n",
       "      <td>0.912281</td>\n",
       "      <td>0.037118</td>\n",
       "      <td>0.037366</td>\n",
       "      <td>0.008772</td>\n",
       "      <td>0.734471</td>\n",
       "    </tr>\n",
       "    <tr>\n",
       "      <th>3</th>\n",
       "      <td>p = 0.5 to 0.95</td>\n",
       "      <td>0.5</td>\n",
       "      <td>Difference</td>\n",
       "      <td>0.394737</td>\n",
       "      <td>0.079775</td>\n",
       "      <td>0.093567</td>\n",
       "      <td>0.017544</td>\n",
       "      <td>0.519203</td>\n",
       "    </tr>\n",
       "    <tr>\n",
       "      <th>4</th>\n",
       "      <td>p = 0.5 to 0.95</td>\n",
       "      <td>0.5</td>\n",
       "      <td>Exposed Only</td>\n",
       "      <td>0.894737</td>\n",
       "      <td>0.481388</td>\n",
       "      <td>0.479823</td>\n",
       "      <td>0.385965</td>\n",
       "      <td>0.055185</td>\n",
       "    </tr>\n",
       "    <tr>\n",
       "      <th>5</th>\n",
       "      <td>p = 0.5 to 0.95</td>\n",
       "      <td>0.5</td>\n",
       "      <td>Posterior Mean</td>\n",
       "      <td>0.719298</td>\n",
       "      <td>0.041530</td>\n",
       "      <td>0.024710</td>\n",
       "      <td>0.017544</td>\n",
       "      <td>0.658460</td>\n",
       "    </tr>\n",
       "    <tr>\n",
       "      <th>6</th>\n",
       "      <td>p = 0.5 to 0.95</td>\n",
       "      <td>1.0</td>\n",
       "      <td>Difference</td>\n",
       "      <td>0.324561</td>\n",
       "      <td>0.066191</td>\n",
       "      <td>0.086554</td>\n",
       "      <td>0.000000</td>\n",
       "      <td>0.547507</td>\n",
       "    </tr>\n",
       "    <tr>\n",
       "      <th>7</th>\n",
       "      <td>p = 0.5 to 0.95</td>\n",
       "      <td>1.0</td>\n",
       "      <td>Exposed Only</td>\n",
       "      <td>0.929825</td>\n",
       "      <td>1.001983</td>\n",
       "      <td>1.009412</td>\n",
       "      <td>0.438596</td>\n",
       "      <td>0.204216</td>\n",
       "    </tr>\n",
       "    <tr>\n",
       "      <th>8</th>\n",
       "      <td>p = 0.5 to 0.95</td>\n",
       "      <td>1.0</td>\n",
       "      <td>Posterior Mean</td>\n",
       "      <td>0.517544</td>\n",
       "      <td>0.050565</td>\n",
       "      <td>0.050827</td>\n",
       "      <td>0.008772</td>\n",
       "      <td>0.666703</td>\n",
       "    </tr>\n",
       "    <tr>\n",
       "      <th>9</th>\n",
       "      <td>p = constant 0.5</td>\n",
       "      <td>0.0</td>\n",
       "      <td>Difference</td>\n",
       "      <td>0.482456</td>\n",
       "      <td>0.060077</td>\n",
       "      <td>0.081928</td>\n",
       "      <td>0.017544</td>\n",
       "      <td>0.613597</td>\n",
       "    </tr>\n",
       "    <tr>\n",
       "      <th>10</th>\n",
       "      <td>p = constant 0.5</td>\n",
       "      <td>0.0</td>\n",
       "      <td>Exposed Only</td>\n",
       "      <td>0.745614</td>\n",
       "      <td>0.038045</td>\n",
       "      <td>0.066424</td>\n",
       "      <td>0.000000</td>\n",
       "      <td>0.778896</td>\n",
       "    </tr>\n",
       "    <tr>\n",
       "      <th>11</th>\n",
       "      <td>p = constant 0.5</td>\n",
       "      <td>0.0</td>\n",
       "      <td>Posterior Mean</td>\n",
       "      <td>0.684211</td>\n",
       "      <td>0.034529</td>\n",
       "      <td>0.047636</td>\n",
       "      <td>0.000000</td>\n",
       "      <td>0.784513</td>\n",
       "    </tr>\n",
       "    <tr>\n",
       "      <th>12</th>\n",
       "      <td>p = constant 0.5</td>\n",
       "      <td>0.5</td>\n",
       "      <td>Difference</td>\n",
       "      <td>0.429825</td>\n",
       "      <td>0.053995</td>\n",
       "      <td>0.074521</td>\n",
       "      <td>0.000000</td>\n",
       "      <td>0.633950</td>\n",
       "    </tr>\n",
       "    <tr>\n",
       "      <th>13</th>\n",
       "      <td>p = constant 0.5</td>\n",
       "      <td>0.5</td>\n",
       "      <td>Exposed Only</td>\n",
       "      <td>0.850877</td>\n",
       "      <td>0.485931</td>\n",
       "      <td>0.495295</td>\n",
       "      <td>0.385965</td>\n",
       "      <td>0.219900</td>\n",
       "    </tr>\n",
       "    <tr>\n",
       "      <th>14</th>\n",
       "      <td>p = constant 0.5</td>\n",
       "      <td>0.5</td>\n",
       "      <td>Posterior Mean</td>\n",
       "      <td>0.850877</td>\n",
       "      <td>0.044992</td>\n",
       "      <td>0.025770</td>\n",
       "      <td>0.017544</td>\n",
       "      <td>0.497319</td>\n",
       "    </tr>\n",
       "    <tr>\n",
       "      <th>15</th>\n",
       "      <td>p = constant 0.5</td>\n",
       "      <td>1.0</td>\n",
       "      <td>Difference</td>\n",
       "      <td>0.552632</td>\n",
       "      <td>0.055321</td>\n",
       "      <td>0.076529</td>\n",
       "      <td>0.000000</td>\n",
       "      <td>0.659627</td>\n",
       "    </tr>\n",
       "    <tr>\n",
       "      <th>16</th>\n",
       "      <td>p = constant 0.5</td>\n",
       "      <td>1.0</td>\n",
       "      <td>Exposed Only</td>\n",
       "      <td>0.947368</td>\n",
       "      <td>0.984865</td>\n",
       "      <td>0.989078</td>\n",
       "      <td>0.456140</td>\n",
       "      <td>0.024401</td>\n",
       "    </tr>\n",
       "    <tr>\n",
       "      <th>17</th>\n",
       "      <td>p = constant 0.5</td>\n",
       "      <td>1.0</td>\n",
       "      <td>Posterior Mean</td>\n",
       "      <td>0.578947</td>\n",
       "      <td>0.040705</td>\n",
       "      <td>0.050661</td>\n",
       "      <td>0.000000</td>\n",
       "      <td>0.679615</td>\n",
       "    </tr>\n",
       "  </tbody>\n",
       "</table>\n",
       "</div>"
      ],
      "text/plain": [
       "                   p  sigma_b       estimator  prop_signif  sample_rmse  \\\n",
       "0    p = 0.5 to 0.95      0.0      Difference     0.350877     0.067724   \n",
       "1    p = 0.5 to 0.95      0.0    Exposed Only     0.631579     0.032346   \n",
       "2    p = 0.5 to 0.95      0.0  Posterior Mean     0.912281     0.037118   \n",
       "3    p = 0.5 to 0.95      0.5      Difference     0.394737     0.079775   \n",
       "4    p = 0.5 to 0.95      0.5    Exposed Only     0.894737     0.481388   \n",
       "5    p = 0.5 to 0.95      0.5  Posterior Mean     0.719298     0.041530   \n",
       "6    p = 0.5 to 0.95      1.0      Difference     0.324561     0.066191   \n",
       "7    p = 0.5 to 0.95      1.0    Exposed Only     0.929825     1.001983   \n",
       "8    p = 0.5 to 0.95      1.0  Posterior Mean     0.517544     0.050565   \n",
       "9   p = constant 0.5      0.0      Difference     0.482456     0.060077   \n",
       "10  p = constant 0.5      0.0    Exposed Only     0.745614     0.038045   \n",
       "11  p = constant 0.5      0.0  Posterior Mean     0.684211     0.034529   \n",
       "12  p = constant 0.5      0.5      Difference     0.429825     0.053995   \n",
       "13  p = constant 0.5      0.5    Exposed Only     0.850877     0.485931   \n",
       "14  p = constant 0.5      0.5  Posterior Mean     0.850877     0.044992   \n",
       "15  p = constant 0.5      1.0      Difference     0.552632     0.055321   \n",
       "16  p = constant 0.5      1.0    Exposed Only     0.947368     0.984865   \n",
       "17  p = constant 0.5      1.0  Posterior Mean     0.578947     0.040705   \n",
       "\n",
       "    pop_rmse  type_s_rate  rank_corr  \n",
       "0   0.081073     0.000000   0.556844  \n",
       "1   0.067959     0.000000   0.850093  \n",
       "2   0.037366     0.008772   0.734471  \n",
       "3   0.093567     0.017544   0.519203  \n",
       "4   0.479823     0.385965   0.055185  \n",
       "5   0.024710     0.017544   0.658460  \n",
       "6   0.086554     0.000000   0.547507  \n",
       "7   1.009412     0.438596   0.204216  \n",
       "8   0.050827     0.008772   0.666703  \n",
       "9   0.081928     0.017544   0.613597  \n",
       "10  0.066424     0.000000   0.778896  \n",
       "11  0.047636     0.000000   0.784513  \n",
       "12  0.074521     0.000000   0.633950  \n",
       "13  0.495295     0.385965   0.219900  \n",
       "14  0.025770     0.017544   0.497319  \n",
       "15  0.076529     0.000000   0.659627  \n",
       "16  0.989078     0.456140   0.024401  \n",
       "17  0.050661     0.000000   0.679615  "
      ]
     },
     "metadata": {},
     "output_type": "display_data"
    }
   ],
   "source": [
    "result_means = result.means()\n",
    "display(result_means)"
   ]
  },
  {
   "cell_type": "code",
   "execution_count": 11,
   "metadata": {},
   "outputs": [
    {
     "data": {
      "application/vnd.plotly.v1+json": {
       "config": {
        "plotlyServerURL": "https://plot.ly"
       },
       "data": [
        {
         "hovertemplate": "estimator=Difference<br>p=p = 0.5 to 0.95<br>σ_b=%{x}<br>sample_rmse=%{y}<extra></extra>",
         "legendgroup": "Difference, p = 0.5 to 0.95",
         "line": {
          "color": "#636efa",
          "dash": "dash"
         },
         "marker": {
          "symbol": "circle"
         },
         "mode": "lines+markers",
         "name": "Difference, p = 0.5 to 0.95",
         "orientation": "v",
         "showlegend": true,
         "type": "scatter",
         "x": [
          0,
          0.5,
          1
         ],
         "xaxis": "x",
         "y": [
          0.06772359924133227,
          0.07977540635402562,
          0.06619080975571316
         ],
         "yaxis": "y"
        },
        {
         "hovertemplate": "estimator=Difference<br>p=p = constant 0.5<br>σ_b=%{x}<br>sample_rmse=%{y}<extra></extra>",
         "legendgroup": "Difference, p = constant 0.5",
         "line": {
          "color": "#636efa",
          "dash": "solid"
         },
         "marker": {
          "symbol": "circle"
         },
         "mode": "lines+markers",
         "name": "Difference, p = constant 0.5",
         "orientation": "v",
         "showlegend": true,
         "type": "scatter",
         "x": [
          0,
          0.5,
          1
         ],
         "xaxis": "x",
         "y": [
          0.060077063946281824,
          0.05399526014849152,
          0.05532090024945721
         ],
         "yaxis": "y"
        },
        {
         "hovertemplate": "estimator=Exposed Only<br>p=p = 0.5 to 0.95<br>σ_b=%{x}<br>sample_rmse=%{y}<extra></extra>",
         "legendgroup": "Exposed Only, p = 0.5 to 0.95",
         "line": {
          "color": "#EF553B",
          "dash": "dash"
         },
         "marker": {
          "symbol": "circle"
         },
         "mode": "lines+markers",
         "name": "Exposed Only, p = 0.5 to 0.95",
         "orientation": "v",
         "showlegend": true,
         "type": "scatter",
         "x": [
          0,
          0.5,
          1
         ],
         "xaxis": "x",
         "y": [
          0.03234637542313908,
          0.48138819409260575,
          1.0019826081474876
         ],
         "yaxis": "y"
        },
        {
         "hovertemplate": "estimator=Exposed Only<br>p=p = constant 0.5<br>σ_b=%{x}<br>sample_rmse=%{y}<extra></extra>",
         "legendgroup": "Exposed Only, p = constant 0.5",
         "line": {
          "color": "#EF553B",
          "dash": "solid"
         },
         "marker": {
          "symbol": "circle"
         },
         "mode": "lines+markers",
         "name": "Exposed Only, p = constant 0.5",
         "orientation": "v",
         "showlegend": true,
         "type": "scatter",
         "x": [
          0,
          0.5,
          1
         ],
         "xaxis": "x",
         "y": [
          0.03804517318038562,
          0.4859314559056311,
          0.9848652399927847
         ],
         "yaxis": "y"
        },
        {
         "hovertemplate": "estimator=Posterior Mean<br>p=p = 0.5 to 0.95<br>σ_b=%{x}<br>sample_rmse=%{y}<extra></extra>",
         "legendgroup": "Posterior Mean, p = 0.5 to 0.95",
         "line": {
          "color": "#00cc96",
          "dash": "dash"
         },
         "marker": {
          "symbol": "circle"
         },
         "mode": "lines+markers",
         "name": "Posterior Mean, p = 0.5 to 0.95",
         "orientation": "v",
         "showlegend": true,
         "type": "scatter",
         "x": [
          0,
          0.5,
          1
         ],
         "xaxis": "x",
         "y": [
          0.037117586964820565,
          0.0415295784974081,
          0.05056518710700789
         ],
         "yaxis": "y"
        },
        {
         "hovertemplate": "estimator=Posterior Mean<br>p=p = constant 0.5<br>σ_b=%{x}<br>sample_rmse=%{y}<extra></extra>",
         "legendgroup": "Posterior Mean, p = constant 0.5",
         "line": {
          "color": "#00cc96",
          "dash": "solid"
         },
         "marker": {
          "symbol": "circle"
         },
         "mode": "lines+markers",
         "name": "Posterior Mean, p = constant 0.5",
         "orientation": "v",
         "showlegend": true,
         "type": "scatter",
         "x": [
          0,
          0.5,
          1
         ],
         "xaxis": "x",
         "y": [
          0.03452853762013766,
          0.04499211029357476,
          0.04070540555562827
         ],
         "yaxis": "y"
        }
       ],
       "layout": {
        "legend": {
         "title": {
          "text": "Estimator"
         },
         "tracegroupgap": 0
        },
        "template": {
         "data": {
          "bar": [
           {
            "error_x": {
             "color": "#2a3f5f"
            },
            "error_y": {
             "color": "#2a3f5f"
            },
            "marker": {
             "line": {
              "color": "#E5ECF6",
              "width": 0.5
             },
             "pattern": {
              "fillmode": "overlay",
              "size": 10,
              "solidity": 0.2
             }
            },
            "type": "bar"
           }
          ],
          "barpolar": [
           {
            "marker": {
             "line": {
              "color": "#E5ECF6",
              "width": 0.5
             },
             "pattern": {
              "fillmode": "overlay",
              "size": 10,
              "solidity": 0.2
             }
            },
            "type": "barpolar"
           }
          ],
          "carpet": [
           {
            "aaxis": {
             "endlinecolor": "#2a3f5f",
             "gridcolor": "white",
             "linecolor": "white",
             "minorgridcolor": "white",
             "startlinecolor": "#2a3f5f"
            },
            "baxis": {
             "endlinecolor": "#2a3f5f",
             "gridcolor": "white",
             "linecolor": "white",
             "minorgridcolor": "white",
             "startlinecolor": "#2a3f5f"
            },
            "type": "carpet"
           }
          ],
          "choropleth": [
           {
            "colorbar": {
             "outlinewidth": 0,
             "ticks": ""
            },
            "type": "choropleth"
           }
          ],
          "contour": [
           {
            "colorbar": {
             "outlinewidth": 0,
             "ticks": ""
            },
            "colorscale": [
             [
              0,
              "#0d0887"
             ],
             [
              0.1111111111111111,
              "#46039f"
             ],
             [
              0.2222222222222222,
              "#7201a8"
             ],
             [
              0.3333333333333333,
              "#9c179e"
             ],
             [
              0.4444444444444444,
              "#bd3786"
             ],
             [
              0.5555555555555556,
              "#d8576b"
             ],
             [
              0.6666666666666666,
              "#ed7953"
             ],
             [
              0.7777777777777778,
              "#fb9f3a"
             ],
             [
              0.8888888888888888,
              "#fdca26"
             ],
             [
              1,
              "#f0f921"
             ]
            ],
            "type": "contour"
           }
          ],
          "contourcarpet": [
           {
            "colorbar": {
             "outlinewidth": 0,
             "ticks": ""
            },
            "type": "contourcarpet"
           }
          ],
          "heatmap": [
           {
            "colorbar": {
             "outlinewidth": 0,
             "ticks": ""
            },
            "colorscale": [
             [
              0,
              "#0d0887"
             ],
             [
              0.1111111111111111,
              "#46039f"
             ],
             [
              0.2222222222222222,
              "#7201a8"
             ],
             [
              0.3333333333333333,
              "#9c179e"
             ],
             [
              0.4444444444444444,
              "#bd3786"
             ],
             [
              0.5555555555555556,
              "#d8576b"
             ],
             [
              0.6666666666666666,
              "#ed7953"
             ],
             [
              0.7777777777777778,
              "#fb9f3a"
             ],
             [
              0.8888888888888888,
              "#fdca26"
             ],
             [
              1,
              "#f0f921"
             ]
            ],
            "type": "heatmap"
           }
          ],
          "heatmapgl": [
           {
            "colorbar": {
             "outlinewidth": 0,
             "ticks": ""
            },
            "colorscale": [
             [
              0,
              "#0d0887"
             ],
             [
              0.1111111111111111,
              "#46039f"
             ],
             [
              0.2222222222222222,
              "#7201a8"
             ],
             [
              0.3333333333333333,
              "#9c179e"
             ],
             [
              0.4444444444444444,
              "#bd3786"
             ],
             [
              0.5555555555555556,
              "#d8576b"
             ],
             [
              0.6666666666666666,
              "#ed7953"
             ],
             [
              0.7777777777777778,
              "#fb9f3a"
             ],
             [
              0.8888888888888888,
              "#fdca26"
             ],
             [
              1,
              "#f0f921"
             ]
            ],
            "type": "heatmapgl"
           }
          ],
          "histogram": [
           {
            "marker": {
             "pattern": {
              "fillmode": "overlay",
              "size": 10,
              "solidity": 0.2
             }
            },
            "type": "histogram"
           }
          ],
          "histogram2d": [
           {
            "colorbar": {
             "outlinewidth": 0,
             "ticks": ""
            },
            "colorscale": [
             [
              0,
              "#0d0887"
             ],
             [
              0.1111111111111111,
              "#46039f"
             ],
             [
              0.2222222222222222,
              "#7201a8"
             ],
             [
              0.3333333333333333,
              "#9c179e"
             ],
             [
              0.4444444444444444,
              "#bd3786"
             ],
             [
              0.5555555555555556,
              "#d8576b"
             ],
             [
              0.6666666666666666,
              "#ed7953"
             ],
             [
              0.7777777777777778,
              "#fb9f3a"
             ],
             [
              0.8888888888888888,
              "#fdca26"
             ],
             [
              1,
              "#f0f921"
             ]
            ],
            "type": "histogram2d"
           }
          ],
          "histogram2dcontour": [
           {
            "colorbar": {
             "outlinewidth": 0,
             "ticks": ""
            },
            "colorscale": [
             [
              0,
              "#0d0887"
             ],
             [
              0.1111111111111111,
              "#46039f"
             ],
             [
              0.2222222222222222,
              "#7201a8"
             ],
             [
              0.3333333333333333,
              "#9c179e"
             ],
             [
              0.4444444444444444,
              "#bd3786"
             ],
             [
              0.5555555555555556,
              "#d8576b"
             ],
             [
              0.6666666666666666,
              "#ed7953"
             ],
             [
              0.7777777777777778,
              "#fb9f3a"
             ],
             [
              0.8888888888888888,
              "#fdca26"
             ],
             [
              1,
              "#f0f921"
             ]
            ],
            "type": "histogram2dcontour"
           }
          ],
          "mesh3d": [
           {
            "colorbar": {
             "outlinewidth": 0,
             "ticks": ""
            },
            "type": "mesh3d"
           }
          ],
          "parcoords": [
           {
            "line": {
             "colorbar": {
              "outlinewidth": 0,
              "ticks": ""
             }
            },
            "type": "parcoords"
           }
          ],
          "pie": [
           {
            "automargin": true,
            "type": "pie"
           }
          ],
          "scatter": [
           {
            "fillpattern": {
             "fillmode": "overlay",
             "size": 10,
             "solidity": 0.2
            },
            "type": "scatter"
           }
          ],
          "scatter3d": [
           {
            "line": {
             "colorbar": {
              "outlinewidth": 0,
              "ticks": ""
             }
            },
            "marker": {
             "colorbar": {
              "outlinewidth": 0,
              "ticks": ""
             }
            },
            "type": "scatter3d"
           }
          ],
          "scattercarpet": [
           {
            "marker": {
             "colorbar": {
              "outlinewidth": 0,
              "ticks": ""
             }
            },
            "type": "scattercarpet"
           }
          ],
          "scattergeo": [
           {
            "marker": {
             "colorbar": {
              "outlinewidth": 0,
              "ticks": ""
             }
            },
            "type": "scattergeo"
           }
          ],
          "scattergl": [
           {
            "marker": {
             "colorbar": {
              "outlinewidth": 0,
              "ticks": ""
             }
            },
            "type": "scattergl"
           }
          ],
          "scattermapbox": [
           {
            "marker": {
             "colorbar": {
              "outlinewidth": 0,
              "ticks": ""
             }
            },
            "type": "scattermapbox"
           }
          ],
          "scatterpolar": [
           {
            "marker": {
             "colorbar": {
              "outlinewidth": 0,
              "ticks": ""
             }
            },
            "type": "scatterpolar"
           }
          ],
          "scatterpolargl": [
           {
            "marker": {
             "colorbar": {
              "outlinewidth": 0,
              "ticks": ""
             }
            },
            "type": "scatterpolargl"
           }
          ],
          "scatterternary": [
           {
            "marker": {
             "colorbar": {
              "outlinewidth": 0,
              "ticks": ""
             }
            },
            "type": "scatterternary"
           }
          ],
          "surface": [
           {
            "colorbar": {
             "outlinewidth": 0,
             "ticks": ""
            },
            "colorscale": [
             [
              0,
              "#0d0887"
             ],
             [
              0.1111111111111111,
              "#46039f"
             ],
             [
              0.2222222222222222,
              "#7201a8"
             ],
             [
              0.3333333333333333,
              "#9c179e"
             ],
             [
              0.4444444444444444,
              "#bd3786"
             ],
             [
              0.5555555555555556,
              "#d8576b"
             ],
             [
              0.6666666666666666,
              "#ed7953"
             ],
             [
              0.7777777777777778,
              "#fb9f3a"
             ],
             [
              0.8888888888888888,
              "#fdca26"
             ],
             [
              1,
              "#f0f921"
             ]
            ],
            "type": "surface"
           }
          ],
          "table": [
           {
            "cells": {
             "fill": {
              "color": "#EBF0F8"
             },
             "line": {
              "color": "white"
             }
            },
            "header": {
             "fill": {
              "color": "#C8D4E3"
             },
             "line": {
              "color": "white"
             }
            },
            "type": "table"
           }
          ]
         },
         "layout": {
          "annotationdefaults": {
           "arrowcolor": "#2a3f5f",
           "arrowhead": 0,
           "arrowwidth": 1
          },
          "autotypenumbers": "strict",
          "coloraxis": {
           "colorbar": {
            "outlinewidth": 0,
            "ticks": ""
           }
          },
          "colorscale": {
           "diverging": [
            [
             0,
             "#8e0152"
            ],
            [
             0.1,
             "#c51b7d"
            ],
            [
             0.2,
             "#de77ae"
            ],
            [
             0.3,
             "#f1b6da"
            ],
            [
             0.4,
             "#fde0ef"
            ],
            [
             0.5,
             "#f7f7f7"
            ],
            [
             0.6,
             "#e6f5d0"
            ],
            [
             0.7,
             "#b8e186"
            ],
            [
             0.8,
             "#7fbc41"
            ],
            [
             0.9,
             "#4d9221"
            ],
            [
             1,
             "#276419"
            ]
           ],
           "sequential": [
            [
             0,
             "#0d0887"
            ],
            [
             0.1111111111111111,
             "#46039f"
            ],
            [
             0.2222222222222222,
             "#7201a8"
            ],
            [
             0.3333333333333333,
             "#9c179e"
            ],
            [
             0.4444444444444444,
             "#bd3786"
            ],
            [
             0.5555555555555556,
             "#d8576b"
            ],
            [
             0.6666666666666666,
             "#ed7953"
            ],
            [
             0.7777777777777778,
             "#fb9f3a"
            ],
            [
             0.8888888888888888,
             "#fdca26"
            ],
            [
             1,
             "#f0f921"
            ]
           ],
           "sequentialminus": [
            [
             0,
             "#0d0887"
            ],
            [
             0.1111111111111111,
             "#46039f"
            ],
            [
             0.2222222222222222,
             "#7201a8"
            ],
            [
             0.3333333333333333,
             "#9c179e"
            ],
            [
             0.4444444444444444,
             "#bd3786"
            ],
            [
             0.5555555555555556,
             "#d8576b"
            ],
            [
             0.6666666666666666,
             "#ed7953"
            ],
            [
             0.7777777777777778,
             "#fb9f3a"
            ],
            [
             0.8888888888888888,
             "#fdca26"
            ],
            [
             1,
             "#f0f921"
            ]
           ]
          },
          "colorway": [
           "#636efa",
           "#EF553B",
           "#00cc96",
           "#ab63fa",
           "#FFA15A",
           "#19d3f3",
           "#FF6692",
           "#B6E880",
           "#FF97FF",
           "#FECB52"
          ],
          "font": {
           "color": "#2a3f5f"
          },
          "geo": {
           "bgcolor": "white",
           "lakecolor": "white",
           "landcolor": "#E5ECF6",
           "showlakes": true,
           "showland": true,
           "subunitcolor": "white"
          },
          "hoverlabel": {
           "align": "left"
          },
          "hovermode": "closest",
          "mapbox": {
           "style": "light"
          },
          "paper_bgcolor": "white",
          "plot_bgcolor": "#E5ECF6",
          "polar": {
           "angularaxis": {
            "gridcolor": "white",
            "linecolor": "white",
            "ticks": ""
           },
           "bgcolor": "#E5ECF6",
           "radialaxis": {
            "gridcolor": "white",
            "linecolor": "white",
            "ticks": ""
           }
          },
          "scene": {
           "xaxis": {
            "backgroundcolor": "#E5ECF6",
            "gridcolor": "white",
            "gridwidth": 2,
            "linecolor": "white",
            "showbackground": true,
            "ticks": "",
            "zerolinecolor": "white"
           },
           "yaxis": {
            "backgroundcolor": "#E5ECF6",
            "gridcolor": "white",
            "gridwidth": 2,
            "linecolor": "white",
            "showbackground": true,
            "ticks": "",
            "zerolinecolor": "white"
           },
           "zaxis": {
            "backgroundcolor": "#E5ECF6",
            "gridcolor": "white",
            "gridwidth": 2,
            "linecolor": "white",
            "showbackground": true,
            "ticks": "",
            "zerolinecolor": "white"
           }
          },
          "shapedefaults": {
           "line": {
            "color": "#2a3f5f"
           }
          },
          "ternary": {
           "aaxis": {
            "gridcolor": "white",
            "linecolor": "white",
            "ticks": ""
           },
           "baxis": {
            "gridcolor": "white",
            "linecolor": "white",
            "ticks": ""
           },
           "bgcolor": "#E5ECF6",
           "caxis": {
            "gridcolor": "white",
            "linecolor": "white",
            "ticks": ""
           }
          },
          "title": {
           "x": 0.05
          },
          "xaxis": {
           "automargin": true,
           "gridcolor": "white",
           "linecolor": "white",
           "ticks": "",
           "title": {
            "standoff": 15
           },
           "zerolinecolor": "white",
           "zerolinewidth": 2
          },
          "yaxis": {
           "automargin": true,
           "gridcolor": "white",
           "linecolor": "white",
           "ticks": "",
           "title": {
            "standoff": 15
           },
           "zerolinecolor": "white",
           "zerolinewidth": 2
          }
         }
        },
        "title": {
         "text": "RMSE vs. σ_b by Estimator"
        },
        "xaxis": {
         "anchor": "y",
         "domain": [
          0,
          1
         ],
         "title": {
          "text": "σ_b"
         }
        },
        "yaxis": {
         "anchor": "x",
         "domain": [
          0,
          1
         ],
         "title": {
          "text": "sample_rmse"
         }
        }
       }
      }
     },
     "metadata": {},
     "output_type": "display_data"
    }
   ],
   "source": [
    "import plotly.express as px\n",
    "\n",
    "# define dash styles for the two p‐settings\n",
    "dash_map = {\"p = constant 0.5\": \"solid\", \"p = 0.5 to 0.95\": \"dash\"}\n",
    "\n",
    "fig_rmse = px.line(\n",
    "    result_means,\n",
    "    x=\"sigma_b\",\n",
    "    y=\"sample_rmse\",\n",
    "    color=\"estimator\",\n",
    "    line_dash=\"p\",\n",
    "    line_dash_map=dash_map,\n",
    "    markers=True,\n",
    "    title=\"RMSE vs. σ_b by Estimator\",\n",
    "    labels={\"sigma_b\": \"σ_b\", \"pop_rmse\": \"RMSE\"},\n",
    ")\n",
    "\n",
    "# keep legend showing only estimator\n",
    "fig_rmse.update_layout(legend_title_text=\"Estimator\")\n",
    "fig_rmse.show()"
   ]
  },
  {
   "cell_type": "code",
   "execution_count": 12,
   "metadata": {},
   "outputs": [
    {
     "data": {
      "application/vnd.plotly.v1+json": {
       "config": {
        "plotlyServerURL": "https://plot.ly"
       },
       "data": [
        {
         "hovertemplate": "estimator=Difference<br>p=p = 0.5 to 0.95<br>σ_b=%{x}<br>type_s_rate=%{y}<extra></extra>",
         "legendgroup": "Difference, p = 0.5 to 0.95",
         "line": {
          "color": "#636efa",
          "dash": "dash"
         },
         "marker": {
          "symbol": "circle"
         },
         "mode": "lines+markers",
         "name": "Difference, p = 0.5 to 0.95",
         "orientation": "v",
         "showlegend": true,
         "type": "scatter",
         "x": [
          0,
          0.5,
          1
         ],
         "xaxis": "x",
         "y": [
          0,
          0.017543859649122806,
          0
         ],
         "yaxis": "y"
        },
        {
         "hovertemplate": "estimator=Difference<br>p=p = constant 0.5<br>σ_b=%{x}<br>type_s_rate=%{y}<extra></extra>",
         "legendgroup": "Difference, p = constant 0.5",
         "line": {
          "color": "#636efa",
          "dash": "solid"
         },
         "marker": {
          "symbol": "circle"
         },
         "mode": "lines+markers",
         "name": "Difference, p = constant 0.5",
         "orientation": "v",
         "showlegend": true,
         "type": "scatter",
         "x": [
          0,
          0.5,
          1
         ],
         "xaxis": "x",
         "y": [
          0.017543859649122806,
          0,
          0
         ],
         "yaxis": "y"
        },
        {
         "hovertemplate": "estimator=Exposed Only<br>p=p = 0.5 to 0.95<br>σ_b=%{x}<br>type_s_rate=%{y}<extra></extra>",
         "legendgroup": "Exposed Only, p = 0.5 to 0.95",
         "line": {
          "color": "#EF553B",
          "dash": "dash"
         },
         "marker": {
          "symbol": "circle"
         },
         "mode": "lines+markers",
         "name": "Exposed Only, p = 0.5 to 0.95",
         "orientation": "v",
         "showlegend": true,
         "type": "scatter",
         "x": [
          0,
          0.5,
          1
         ],
         "xaxis": "x",
         "y": [
          0,
          0.3859649122807018,
          0.43859649122807015
         ],
         "yaxis": "y"
        },
        {
         "hovertemplate": "estimator=Exposed Only<br>p=p = constant 0.5<br>σ_b=%{x}<br>type_s_rate=%{y}<extra></extra>",
         "legendgroup": "Exposed Only, p = constant 0.5",
         "line": {
          "color": "#EF553B",
          "dash": "solid"
         },
         "marker": {
          "symbol": "circle"
         },
         "mode": "lines+markers",
         "name": "Exposed Only, p = constant 0.5",
         "orientation": "v",
         "showlegend": true,
         "type": "scatter",
         "x": [
          0,
          0.5,
          1
         ],
         "xaxis": "x",
         "y": [
          0,
          0.3859649122807018,
          0.456140350877193
         ],
         "yaxis": "y"
        },
        {
         "hovertemplate": "estimator=Posterior Mean<br>p=p = 0.5 to 0.95<br>σ_b=%{x}<br>type_s_rate=%{y}<extra></extra>",
         "legendgroup": "Posterior Mean, p = 0.5 to 0.95",
         "line": {
          "color": "#00cc96",
          "dash": "dash"
         },
         "marker": {
          "symbol": "circle"
         },
         "mode": "lines+markers",
         "name": "Posterior Mean, p = 0.5 to 0.95",
         "orientation": "v",
         "showlegend": true,
         "type": "scatter",
         "x": [
          0,
          0.5,
          1
         ],
         "xaxis": "x",
         "y": [
          0.008771929824561403,
          0.017543859649122806,
          0.008771929824561403
         ],
         "yaxis": "y"
        },
        {
         "hovertemplate": "estimator=Posterior Mean<br>p=p = constant 0.5<br>σ_b=%{x}<br>type_s_rate=%{y}<extra></extra>",
         "legendgroup": "Posterior Mean, p = constant 0.5",
         "line": {
          "color": "#00cc96",
          "dash": "solid"
         },
         "marker": {
          "symbol": "circle"
         },
         "mode": "lines+markers",
         "name": "Posterior Mean, p = constant 0.5",
         "orientation": "v",
         "showlegend": true,
         "type": "scatter",
         "x": [
          0,
          0.5,
          1
         ],
         "xaxis": "x",
         "y": [
          0,
          0.017543859649122806,
          0
         ],
         "yaxis": "y"
        }
       ],
       "layout": {
        "legend": {
         "title": {
          "text": "Estimator"
         },
         "tracegroupgap": 0
        },
        "template": {
         "data": {
          "bar": [
           {
            "error_x": {
             "color": "#2a3f5f"
            },
            "error_y": {
             "color": "#2a3f5f"
            },
            "marker": {
             "line": {
              "color": "#E5ECF6",
              "width": 0.5
             },
             "pattern": {
              "fillmode": "overlay",
              "size": 10,
              "solidity": 0.2
             }
            },
            "type": "bar"
           }
          ],
          "barpolar": [
           {
            "marker": {
             "line": {
              "color": "#E5ECF6",
              "width": 0.5
             },
             "pattern": {
              "fillmode": "overlay",
              "size": 10,
              "solidity": 0.2
             }
            },
            "type": "barpolar"
           }
          ],
          "carpet": [
           {
            "aaxis": {
             "endlinecolor": "#2a3f5f",
             "gridcolor": "white",
             "linecolor": "white",
             "minorgridcolor": "white",
             "startlinecolor": "#2a3f5f"
            },
            "baxis": {
             "endlinecolor": "#2a3f5f",
             "gridcolor": "white",
             "linecolor": "white",
             "minorgridcolor": "white",
             "startlinecolor": "#2a3f5f"
            },
            "type": "carpet"
           }
          ],
          "choropleth": [
           {
            "colorbar": {
             "outlinewidth": 0,
             "ticks": ""
            },
            "type": "choropleth"
           }
          ],
          "contour": [
           {
            "colorbar": {
             "outlinewidth": 0,
             "ticks": ""
            },
            "colorscale": [
             [
              0,
              "#0d0887"
             ],
             [
              0.1111111111111111,
              "#46039f"
             ],
             [
              0.2222222222222222,
              "#7201a8"
             ],
             [
              0.3333333333333333,
              "#9c179e"
             ],
             [
              0.4444444444444444,
              "#bd3786"
             ],
             [
              0.5555555555555556,
              "#d8576b"
             ],
             [
              0.6666666666666666,
              "#ed7953"
             ],
             [
              0.7777777777777778,
              "#fb9f3a"
             ],
             [
              0.8888888888888888,
              "#fdca26"
             ],
             [
              1,
              "#f0f921"
             ]
            ],
            "type": "contour"
           }
          ],
          "contourcarpet": [
           {
            "colorbar": {
             "outlinewidth": 0,
             "ticks": ""
            },
            "type": "contourcarpet"
           }
          ],
          "heatmap": [
           {
            "colorbar": {
             "outlinewidth": 0,
             "ticks": ""
            },
            "colorscale": [
             [
              0,
              "#0d0887"
             ],
             [
              0.1111111111111111,
              "#46039f"
             ],
             [
              0.2222222222222222,
              "#7201a8"
             ],
             [
              0.3333333333333333,
              "#9c179e"
             ],
             [
              0.4444444444444444,
              "#bd3786"
             ],
             [
              0.5555555555555556,
              "#d8576b"
             ],
             [
              0.6666666666666666,
              "#ed7953"
             ],
             [
              0.7777777777777778,
              "#fb9f3a"
             ],
             [
              0.8888888888888888,
              "#fdca26"
             ],
             [
              1,
              "#f0f921"
             ]
            ],
            "type": "heatmap"
           }
          ],
          "heatmapgl": [
           {
            "colorbar": {
             "outlinewidth": 0,
             "ticks": ""
            },
            "colorscale": [
             [
              0,
              "#0d0887"
             ],
             [
              0.1111111111111111,
              "#46039f"
             ],
             [
              0.2222222222222222,
              "#7201a8"
             ],
             [
              0.3333333333333333,
              "#9c179e"
             ],
             [
              0.4444444444444444,
              "#bd3786"
             ],
             [
              0.5555555555555556,
              "#d8576b"
             ],
             [
              0.6666666666666666,
              "#ed7953"
             ],
             [
              0.7777777777777778,
              "#fb9f3a"
             ],
             [
              0.8888888888888888,
              "#fdca26"
             ],
             [
              1,
              "#f0f921"
             ]
            ],
            "type": "heatmapgl"
           }
          ],
          "histogram": [
           {
            "marker": {
             "pattern": {
              "fillmode": "overlay",
              "size": 10,
              "solidity": 0.2
             }
            },
            "type": "histogram"
           }
          ],
          "histogram2d": [
           {
            "colorbar": {
             "outlinewidth": 0,
             "ticks": ""
            },
            "colorscale": [
             [
              0,
              "#0d0887"
             ],
             [
              0.1111111111111111,
              "#46039f"
             ],
             [
              0.2222222222222222,
              "#7201a8"
             ],
             [
              0.3333333333333333,
              "#9c179e"
             ],
             [
              0.4444444444444444,
              "#bd3786"
             ],
             [
              0.5555555555555556,
              "#d8576b"
             ],
             [
              0.6666666666666666,
              "#ed7953"
             ],
             [
              0.7777777777777778,
              "#fb9f3a"
             ],
             [
              0.8888888888888888,
              "#fdca26"
             ],
             [
              1,
              "#f0f921"
             ]
            ],
            "type": "histogram2d"
           }
          ],
          "histogram2dcontour": [
           {
            "colorbar": {
             "outlinewidth": 0,
             "ticks": ""
            },
            "colorscale": [
             [
              0,
              "#0d0887"
             ],
             [
              0.1111111111111111,
              "#46039f"
             ],
             [
              0.2222222222222222,
              "#7201a8"
             ],
             [
              0.3333333333333333,
              "#9c179e"
             ],
             [
              0.4444444444444444,
              "#bd3786"
             ],
             [
              0.5555555555555556,
              "#d8576b"
             ],
             [
              0.6666666666666666,
              "#ed7953"
             ],
             [
              0.7777777777777778,
              "#fb9f3a"
             ],
             [
              0.8888888888888888,
              "#fdca26"
             ],
             [
              1,
              "#f0f921"
             ]
            ],
            "type": "histogram2dcontour"
           }
          ],
          "mesh3d": [
           {
            "colorbar": {
             "outlinewidth": 0,
             "ticks": ""
            },
            "type": "mesh3d"
           }
          ],
          "parcoords": [
           {
            "line": {
             "colorbar": {
              "outlinewidth": 0,
              "ticks": ""
             }
            },
            "type": "parcoords"
           }
          ],
          "pie": [
           {
            "automargin": true,
            "type": "pie"
           }
          ],
          "scatter": [
           {
            "fillpattern": {
             "fillmode": "overlay",
             "size": 10,
             "solidity": 0.2
            },
            "type": "scatter"
           }
          ],
          "scatter3d": [
           {
            "line": {
             "colorbar": {
              "outlinewidth": 0,
              "ticks": ""
             }
            },
            "marker": {
             "colorbar": {
              "outlinewidth": 0,
              "ticks": ""
             }
            },
            "type": "scatter3d"
           }
          ],
          "scattercarpet": [
           {
            "marker": {
             "colorbar": {
              "outlinewidth": 0,
              "ticks": ""
             }
            },
            "type": "scattercarpet"
           }
          ],
          "scattergeo": [
           {
            "marker": {
             "colorbar": {
              "outlinewidth": 0,
              "ticks": ""
             }
            },
            "type": "scattergeo"
           }
          ],
          "scattergl": [
           {
            "marker": {
             "colorbar": {
              "outlinewidth": 0,
              "ticks": ""
             }
            },
            "type": "scattergl"
           }
          ],
          "scattermapbox": [
           {
            "marker": {
             "colorbar": {
              "outlinewidth": 0,
              "ticks": ""
             }
            },
            "type": "scattermapbox"
           }
          ],
          "scatterpolar": [
           {
            "marker": {
             "colorbar": {
              "outlinewidth": 0,
              "ticks": ""
             }
            },
            "type": "scatterpolar"
           }
          ],
          "scatterpolargl": [
           {
            "marker": {
             "colorbar": {
              "outlinewidth": 0,
              "ticks": ""
             }
            },
            "type": "scatterpolargl"
           }
          ],
          "scatterternary": [
           {
            "marker": {
             "colorbar": {
              "outlinewidth": 0,
              "ticks": ""
             }
            },
            "type": "scatterternary"
           }
          ],
          "surface": [
           {
            "colorbar": {
             "outlinewidth": 0,
             "ticks": ""
            },
            "colorscale": [
             [
              0,
              "#0d0887"
             ],
             [
              0.1111111111111111,
              "#46039f"
             ],
             [
              0.2222222222222222,
              "#7201a8"
             ],
             [
              0.3333333333333333,
              "#9c179e"
             ],
             [
              0.4444444444444444,
              "#bd3786"
             ],
             [
              0.5555555555555556,
              "#d8576b"
             ],
             [
              0.6666666666666666,
              "#ed7953"
             ],
             [
              0.7777777777777778,
              "#fb9f3a"
             ],
             [
              0.8888888888888888,
              "#fdca26"
             ],
             [
              1,
              "#f0f921"
             ]
            ],
            "type": "surface"
           }
          ],
          "table": [
           {
            "cells": {
             "fill": {
              "color": "#EBF0F8"
             },
             "line": {
              "color": "white"
             }
            },
            "header": {
             "fill": {
              "color": "#C8D4E3"
             },
             "line": {
              "color": "white"
             }
            },
            "type": "table"
           }
          ]
         },
         "layout": {
          "annotationdefaults": {
           "arrowcolor": "#2a3f5f",
           "arrowhead": 0,
           "arrowwidth": 1
          },
          "autotypenumbers": "strict",
          "coloraxis": {
           "colorbar": {
            "outlinewidth": 0,
            "ticks": ""
           }
          },
          "colorscale": {
           "diverging": [
            [
             0,
             "#8e0152"
            ],
            [
             0.1,
             "#c51b7d"
            ],
            [
             0.2,
             "#de77ae"
            ],
            [
             0.3,
             "#f1b6da"
            ],
            [
             0.4,
             "#fde0ef"
            ],
            [
             0.5,
             "#f7f7f7"
            ],
            [
             0.6,
             "#e6f5d0"
            ],
            [
             0.7,
             "#b8e186"
            ],
            [
             0.8,
             "#7fbc41"
            ],
            [
             0.9,
             "#4d9221"
            ],
            [
             1,
             "#276419"
            ]
           ],
           "sequential": [
            [
             0,
             "#0d0887"
            ],
            [
             0.1111111111111111,
             "#46039f"
            ],
            [
             0.2222222222222222,
             "#7201a8"
            ],
            [
             0.3333333333333333,
             "#9c179e"
            ],
            [
             0.4444444444444444,
             "#bd3786"
            ],
            [
             0.5555555555555556,
             "#d8576b"
            ],
            [
             0.6666666666666666,
             "#ed7953"
            ],
            [
             0.7777777777777778,
             "#fb9f3a"
            ],
            [
             0.8888888888888888,
             "#fdca26"
            ],
            [
             1,
             "#f0f921"
            ]
           ],
           "sequentialminus": [
            [
             0,
             "#0d0887"
            ],
            [
             0.1111111111111111,
             "#46039f"
            ],
            [
             0.2222222222222222,
             "#7201a8"
            ],
            [
             0.3333333333333333,
             "#9c179e"
            ],
            [
             0.4444444444444444,
             "#bd3786"
            ],
            [
             0.5555555555555556,
             "#d8576b"
            ],
            [
             0.6666666666666666,
             "#ed7953"
            ],
            [
             0.7777777777777778,
             "#fb9f3a"
            ],
            [
             0.8888888888888888,
             "#fdca26"
            ],
            [
             1,
             "#f0f921"
            ]
           ]
          },
          "colorway": [
           "#636efa",
           "#EF553B",
           "#00cc96",
           "#ab63fa",
           "#FFA15A",
           "#19d3f3",
           "#FF6692",
           "#B6E880",
           "#FF97FF",
           "#FECB52"
          ],
          "font": {
           "color": "#2a3f5f"
          },
          "geo": {
           "bgcolor": "white",
           "lakecolor": "white",
           "landcolor": "#E5ECF6",
           "showlakes": true,
           "showland": true,
           "subunitcolor": "white"
          },
          "hoverlabel": {
           "align": "left"
          },
          "hovermode": "closest",
          "mapbox": {
           "style": "light"
          },
          "paper_bgcolor": "white",
          "plot_bgcolor": "#E5ECF6",
          "polar": {
           "angularaxis": {
            "gridcolor": "white",
            "linecolor": "white",
            "ticks": ""
           },
           "bgcolor": "#E5ECF6",
           "radialaxis": {
            "gridcolor": "white",
            "linecolor": "white",
            "ticks": ""
           }
          },
          "scene": {
           "xaxis": {
            "backgroundcolor": "#E5ECF6",
            "gridcolor": "white",
            "gridwidth": 2,
            "linecolor": "white",
            "showbackground": true,
            "ticks": "",
            "zerolinecolor": "white"
           },
           "yaxis": {
            "backgroundcolor": "#E5ECF6",
            "gridcolor": "white",
            "gridwidth": 2,
            "linecolor": "white",
            "showbackground": true,
            "ticks": "",
            "zerolinecolor": "white"
           },
           "zaxis": {
            "backgroundcolor": "#E5ECF6",
            "gridcolor": "white",
            "gridwidth": 2,
            "linecolor": "white",
            "showbackground": true,
            "ticks": "",
            "zerolinecolor": "white"
           }
          },
          "shapedefaults": {
           "line": {
            "color": "#2a3f5f"
           }
          },
          "ternary": {
           "aaxis": {
            "gridcolor": "white",
            "linecolor": "white",
            "ticks": ""
           },
           "baxis": {
            "gridcolor": "white",
            "linecolor": "white",
            "ticks": ""
           },
           "bgcolor": "#E5ECF6",
           "caxis": {
            "gridcolor": "white",
            "linecolor": "white",
            "ticks": ""
           }
          },
          "title": {
           "x": 0.05
          },
          "xaxis": {
           "automargin": true,
           "gridcolor": "white",
           "linecolor": "white",
           "ticks": "",
           "title": {
            "standoff": 15
           },
           "zerolinecolor": "white",
           "zerolinewidth": 2
          },
          "yaxis": {
           "automargin": true,
           "gridcolor": "white",
           "linecolor": "white",
           "ticks": "",
           "title": {
            "standoff": 15
           },
           "zerolinecolor": "white",
           "zerolinewidth": 2
          }
         }
        },
        "title": {
         "text": "Type S error rate vs. σ_b by Estimator"
        },
        "xaxis": {
         "anchor": "y",
         "domain": [
          0,
          1
         ],
         "title": {
          "text": "σ_b"
         }
        },
        "yaxis": {
         "anchor": "x",
         "domain": [
          0,
          1
         ],
         "title": {
          "text": "type_s_rate"
         }
        }
       }
      }
     },
     "metadata": {},
     "output_type": "display_data"
    }
   ],
   "source": [
    "fig_type_s = px.line(\n",
    "    result_means,\n",
    "    x=\"sigma_b\",\n",
    "    y=\"type_s_rate\",\n",
    "    color=\"estimator\",\n",
    "    line_dash=\"p\",\n",
    "    line_dash_map=dash_map,\n",
    "    markers=True,\n",
    "    title=\"Type S error rate vs. σ_b by Estimator\",\n",
    "    labels={\"sigma_b\": \"σ_b\", \"type_s_error\": \"Type S Error Rate\"},\n",
    ")\n",
    "\n",
    "# keep legend showing only estimator\n",
    "fig_type_s.update_layout(legend_title_text=\"Estimator\")\n",
    "fig_type_s.show()"
   ]
  },
  {
   "cell_type": "code",
   "execution_count": 13,
   "metadata": {},
   "outputs": [
    {
     "data": {
      "application/vnd.plotly.v1+json": {
       "config": {
        "plotlyServerURL": "https://plot.ly"
       },
       "data": [
        {
         "hovertemplate": "estimator=Difference<br>p=p = 0.5 to 0.95<br>σ_b=%{x}<br>Rank Correlation=%{y}<extra></extra>",
         "legendgroup": "Difference, p = 0.5 to 0.95",
         "line": {
          "color": "#636efa",
          "dash": "dash"
         },
         "marker": {
          "symbol": "circle"
         },
         "mode": "lines+markers",
         "name": "Difference, p = 0.5 to 0.95",
         "orientation": "v",
         "showlegend": true,
         "type": "scatter",
         "x": [
          0,
          0.5,
          1
         ],
         "xaxis": "x",
         "y": [
          0.556844293686399,
          0.519203413940256,
          0.5475070211912317
         ],
         "yaxis": "y"
        },
        {
         "hovertemplate": "estimator=Difference<br>p=p = constant 0.5<br>σ_b=%{x}<br>Rank Correlation=%{y}<extra></extra>",
         "legendgroup": "Difference, p = constant 0.5",
         "line": {
          "color": "#636efa",
          "dash": "solid"
         },
         "marker": {
          "symbol": "circle"
         },
         "mode": "lines+markers",
         "name": "Difference, p = constant 0.5",
         "orientation": "v",
         "showlegend": true,
         "type": "scatter",
         "x": [
          0,
          0.5,
          1
         ],
         "xaxis": "x",
         "y": [
          0.6135974030710872,
          0.6339497392128971,
          0.659627238574607
         ],
         "yaxis": "y"
        },
        {
         "hovertemplate": "estimator=Exposed Only<br>p=p = 0.5 to 0.95<br>σ_b=%{x}<br>Rank Correlation=%{y}<extra></extra>",
         "legendgroup": "Exposed Only, p = 0.5 to 0.95",
         "line": {
          "color": "#EF553B",
          "dash": "dash"
         },
         "marker": {
          "symbol": "circle"
         },
         "mode": "lines+markers",
         "name": "Exposed Only, p = 0.5 to 0.95",
         "orientation": "v",
         "showlegend": true,
         "type": "scatter",
         "x": [
          0,
          0.5,
          1
         ],
         "xaxis": "x",
         "y": [
          0.8500930079877449,
          0.05518473939526572,
          0.20421636211109892
         ],
         "yaxis": "y"
        },
        {
         "hovertemplate": "estimator=Exposed Only<br>p=p = constant 0.5<br>σ_b=%{x}<br>Rank Correlation=%{y}<extra></extra>",
         "legendgroup": "Exposed Only, p = constant 0.5",
         "line": {
          "color": "#EF553B",
          "dash": "solid"
         },
         "marker": {
          "symbol": "circle"
         },
         "mode": "lines+markers",
         "name": "Exposed Only, p = constant 0.5",
         "orientation": "v",
         "showlegend": true,
         "type": "scatter",
         "x": [
          0,
          0.5,
          1
         ],
         "xaxis": "x",
         "y": [
          0.7788963052120946,
          0.21990006200532516,
          0.02440091913776124
         ],
         "yaxis": "y"
        },
        {
         "hovertemplate": "estimator=Posterior Mean<br>p=p = 0.5 to 0.95<br>σ_b=%{x}<br>Rank Correlation=%{y}<extra></extra>",
         "legendgroup": "Posterior Mean, p = 0.5 to 0.95",
         "line": {
          "color": "#00cc96",
          "dash": "dash"
         },
         "marker": {
          "symbol": "circle"
         },
         "mode": "lines+markers",
         "name": "Posterior Mean, p = 0.5 to 0.95",
         "orientation": "v",
         "showlegend": true,
         "type": "scatter",
         "x": [
          0,
          0.5,
          1
         ],
         "xaxis": "x",
         "y": [
          0.7344713134186818,
          0.658460079512711,
          0.666703140387351
         ],
         "yaxis": "y"
        },
        {
         "hovertemplate": "estimator=Posterior Mean<br>p=p = constant 0.5<br>σ_b=%{x}<br>Rank Correlation=%{y}<extra></extra>",
         "legendgroup": "Posterior Mean, p = constant 0.5",
         "line": {
          "color": "#00cc96",
          "dash": "solid"
         },
         "marker": {
          "symbol": "circle"
         },
         "mode": "lines+markers",
         "name": "Posterior Mean, p = constant 0.5",
         "orientation": "v",
         "showlegend": true,
         "type": "scatter",
         "x": [
          0,
          0.5,
          1
         ],
         "xaxis": "x",
         "y": [
          0.7845132581974688,
          0.49731918152970783,
          0.6796148375095744
         ],
         "yaxis": "y"
        }
       ],
       "layout": {
        "legend": {
         "title": {
          "text": "Estimator"
         },
         "tracegroupgap": 0
        },
        "template": {
         "data": {
          "bar": [
           {
            "error_x": {
             "color": "#2a3f5f"
            },
            "error_y": {
             "color": "#2a3f5f"
            },
            "marker": {
             "line": {
              "color": "#E5ECF6",
              "width": 0.5
             },
             "pattern": {
              "fillmode": "overlay",
              "size": 10,
              "solidity": 0.2
             }
            },
            "type": "bar"
           }
          ],
          "barpolar": [
           {
            "marker": {
             "line": {
              "color": "#E5ECF6",
              "width": 0.5
             },
             "pattern": {
              "fillmode": "overlay",
              "size": 10,
              "solidity": 0.2
             }
            },
            "type": "barpolar"
           }
          ],
          "carpet": [
           {
            "aaxis": {
             "endlinecolor": "#2a3f5f",
             "gridcolor": "white",
             "linecolor": "white",
             "minorgridcolor": "white",
             "startlinecolor": "#2a3f5f"
            },
            "baxis": {
             "endlinecolor": "#2a3f5f",
             "gridcolor": "white",
             "linecolor": "white",
             "minorgridcolor": "white",
             "startlinecolor": "#2a3f5f"
            },
            "type": "carpet"
           }
          ],
          "choropleth": [
           {
            "colorbar": {
             "outlinewidth": 0,
             "ticks": ""
            },
            "type": "choropleth"
           }
          ],
          "contour": [
           {
            "colorbar": {
             "outlinewidth": 0,
             "ticks": ""
            },
            "colorscale": [
             [
              0,
              "#0d0887"
             ],
             [
              0.1111111111111111,
              "#46039f"
             ],
             [
              0.2222222222222222,
              "#7201a8"
             ],
             [
              0.3333333333333333,
              "#9c179e"
             ],
             [
              0.4444444444444444,
              "#bd3786"
             ],
             [
              0.5555555555555556,
              "#d8576b"
             ],
             [
              0.6666666666666666,
              "#ed7953"
             ],
             [
              0.7777777777777778,
              "#fb9f3a"
             ],
             [
              0.8888888888888888,
              "#fdca26"
             ],
             [
              1,
              "#f0f921"
             ]
            ],
            "type": "contour"
           }
          ],
          "contourcarpet": [
           {
            "colorbar": {
             "outlinewidth": 0,
             "ticks": ""
            },
            "type": "contourcarpet"
           }
          ],
          "heatmap": [
           {
            "colorbar": {
             "outlinewidth": 0,
             "ticks": ""
            },
            "colorscale": [
             [
              0,
              "#0d0887"
             ],
             [
              0.1111111111111111,
              "#46039f"
             ],
             [
              0.2222222222222222,
              "#7201a8"
             ],
             [
              0.3333333333333333,
              "#9c179e"
             ],
             [
              0.4444444444444444,
              "#bd3786"
             ],
             [
              0.5555555555555556,
              "#d8576b"
             ],
             [
              0.6666666666666666,
              "#ed7953"
             ],
             [
              0.7777777777777778,
              "#fb9f3a"
             ],
             [
              0.8888888888888888,
              "#fdca26"
             ],
             [
              1,
              "#f0f921"
             ]
            ],
            "type": "heatmap"
           }
          ],
          "heatmapgl": [
           {
            "colorbar": {
             "outlinewidth": 0,
             "ticks": ""
            },
            "colorscale": [
             [
              0,
              "#0d0887"
             ],
             [
              0.1111111111111111,
              "#46039f"
             ],
             [
              0.2222222222222222,
              "#7201a8"
             ],
             [
              0.3333333333333333,
              "#9c179e"
             ],
             [
              0.4444444444444444,
              "#bd3786"
             ],
             [
              0.5555555555555556,
              "#d8576b"
             ],
             [
              0.6666666666666666,
              "#ed7953"
             ],
             [
              0.7777777777777778,
              "#fb9f3a"
             ],
             [
              0.8888888888888888,
              "#fdca26"
             ],
             [
              1,
              "#f0f921"
             ]
            ],
            "type": "heatmapgl"
           }
          ],
          "histogram": [
           {
            "marker": {
             "pattern": {
              "fillmode": "overlay",
              "size": 10,
              "solidity": 0.2
             }
            },
            "type": "histogram"
           }
          ],
          "histogram2d": [
           {
            "colorbar": {
             "outlinewidth": 0,
             "ticks": ""
            },
            "colorscale": [
             [
              0,
              "#0d0887"
             ],
             [
              0.1111111111111111,
              "#46039f"
             ],
             [
              0.2222222222222222,
              "#7201a8"
             ],
             [
              0.3333333333333333,
              "#9c179e"
             ],
             [
              0.4444444444444444,
              "#bd3786"
             ],
             [
              0.5555555555555556,
              "#d8576b"
             ],
             [
              0.6666666666666666,
              "#ed7953"
             ],
             [
              0.7777777777777778,
              "#fb9f3a"
             ],
             [
              0.8888888888888888,
              "#fdca26"
             ],
             [
              1,
              "#f0f921"
             ]
            ],
            "type": "histogram2d"
           }
          ],
          "histogram2dcontour": [
           {
            "colorbar": {
             "outlinewidth": 0,
             "ticks": ""
            },
            "colorscale": [
             [
              0,
              "#0d0887"
             ],
             [
              0.1111111111111111,
              "#46039f"
             ],
             [
              0.2222222222222222,
              "#7201a8"
             ],
             [
              0.3333333333333333,
              "#9c179e"
             ],
             [
              0.4444444444444444,
              "#bd3786"
             ],
             [
              0.5555555555555556,
              "#d8576b"
             ],
             [
              0.6666666666666666,
              "#ed7953"
             ],
             [
              0.7777777777777778,
              "#fb9f3a"
             ],
             [
              0.8888888888888888,
              "#fdca26"
             ],
             [
              1,
              "#f0f921"
             ]
            ],
            "type": "histogram2dcontour"
           }
          ],
          "mesh3d": [
           {
            "colorbar": {
             "outlinewidth": 0,
             "ticks": ""
            },
            "type": "mesh3d"
           }
          ],
          "parcoords": [
           {
            "line": {
             "colorbar": {
              "outlinewidth": 0,
              "ticks": ""
             }
            },
            "type": "parcoords"
           }
          ],
          "pie": [
           {
            "automargin": true,
            "type": "pie"
           }
          ],
          "scatter": [
           {
            "fillpattern": {
             "fillmode": "overlay",
             "size": 10,
             "solidity": 0.2
            },
            "type": "scatter"
           }
          ],
          "scatter3d": [
           {
            "line": {
             "colorbar": {
              "outlinewidth": 0,
              "ticks": ""
             }
            },
            "marker": {
             "colorbar": {
              "outlinewidth": 0,
              "ticks": ""
             }
            },
            "type": "scatter3d"
           }
          ],
          "scattercarpet": [
           {
            "marker": {
             "colorbar": {
              "outlinewidth": 0,
              "ticks": ""
             }
            },
            "type": "scattercarpet"
           }
          ],
          "scattergeo": [
           {
            "marker": {
             "colorbar": {
              "outlinewidth": 0,
              "ticks": ""
             }
            },
            "type": "scattergeo"
           }
          ],
          "scattergl": [
           {
            "marker": {
             "colorbar": {
              "outlinewidth": 0,
              "ticks": ""
             }
            },
            "type": "scattergl"
           }
          ],
          "scattermapbox": [
           {
            "marker": {
             "colorbar": {
              "outlinewidth": 0,
              "ticks": ""
             }
            },
            "type": "scattermapbox"
           }
          ],
          "scatterpolar": [
           {
            "marker": {
             "colorbar": {
              "outlinewidth": 0,
              "ticks": ""
             }
            },
            "type": "scatterpolar"
           }
          ],
          "scatterpolargl": [
           {
            "marker": {
             "colorbar": {
              "outlinewidth": 0,
              "ticks": ""
             }
            },
            "type": "scatterpolargl"
           }
          ],
          "scatterternary": [
           {
            "marker": {
             "colorbar": {
              "outlinewidth": 0,
              "ticks": ""
             }
            },
            "type": "scatterternary"
           }
          ],
          "surface": [
           {
            "colorbar": {
             "outlinewidth": 0,
             "ticks": ""
            },
            "colorscale": [
             [
              0,
              "#0d0887"
             ],
             [
              0.1111111111111111,
              "#46039f"
             ],
             [
              0.2222222222222222,
              "#7201a8"
             ],
             [
              0.3333333333333333,
              "#9c179e"
             ],
             [
              0.4444444444444444,
              "#bd3786"
             ],
             [
              0.5555555555555556,
              "#d8576b"
             ],
             [
              0.6666666666666666,
              "#ed7953"
             ],
             [
              0.7777777777777778,
              "#fb9f3a"
             ],
             [
              0.8888888888888888,
              "#fdca26"
             ],
             [
              1,
              "#f0f921"
             ]
            ],
            "type": "surface"
           }
          ],
          "table": [
           {
            "cells": {
             "fill": {
              "color": "#EBF0F8"
             },
             "line": {
              "color": "white"
             }
            },
            "header": {
             "fill": {
              "color": "#C8D4E3"
             },
             "line": {
              "color": "white"
             }
            },
            "type": "table"
           }
          ]
         },
         "layout": {
          "annotationdefaults": {
           "arrowcolor": "#2a3f5f",
           "arrowhead": 0,
           "arrowwidth": 1
          },
          "autotypenumbers": "strict",
          "coloraxis": {
           "colorbar": {
            "outlinewidth": 0,
            "ticks": ""
           }
          },
          "colorscale": {
           "diverging": [
            [
             0,
             "#8e0152"
            ],
            [
             0.1,
             "#c51b7d"
            ],
            [
             0.2,
             "#de77ae"
            ],
            [
             0.3,
             "#f1b6da"
            ],
            [
             0.4,
             "#fde0ef"
            ],
            [
             0.5,
             "#f7f7f7"
            ],
            [
             0.6,
             "#e6f5d0"
            ],
            [
             0.7,
             "#b8e186"
            ],
            [
             0.8,
             "#7fbc41"
            ],
            [
             0.9,
             "#4d9221"
            ],
            [
             1,
             "#276419"
            ]
           ],
           "sequential": [
            [
             0,
             "#0d0887"
            ],
            [
             0.1111111111111111,
             "#46039f"
            ],
            [
             0.2222222222222222,
             "#7201a8"
            ],
            [
             0.3333333333333333,
             "#9c179e"
            ],
            [
             0.4444444444444444,
             "#bd3786"
            ],
            [
             0.5555555555555556,
             "#d8576b"
            ],
            [
             0.6666666666666666,
             "#ed7953"
            ],
            [
             0.7777777777777778,
             "#fb9f3a"
            ],
            [
             0.8888888888888888,
             "#fdca26"
            ],
            [
             1,
             "#f0f921"
            ]
           ],
           "sequentialminus": [
            [
             0,
             "#0d0887"
            ],
            [
             0.1111111111111111,
             "#46039f"
            ],
            [
             0.2222222222222222,
             "#7201a8"
            ],
            [
             0.3333333333333333,
             "#9c179e"
            ],
            [
             0.4444444444444444,
             "#bd3786"
            ],
            [
             0.5555555555555556,
             "#d8576b"
            ],
            [
             0.6666666666666666,
             "#ed7953"
            ],
            [
             0.7777777777777778,
             "#fb9f3a"
            ],
            [
             0.8888888888888888,
             "#fdca26"
            ],
            [
             1,
             "#f0f921"
            ]
           ]
          },
          "colorway": [
           "#636efa",
           "#EF553B",
           "#00cc96",
           "#ab63fa",
           "#FFA15A",
           "#19d3f3",
           "#FF6692",
           "#B6E880",
           "#FF97FF",
           "#FECB52"
          ],
          "font": {
           "color": "#2a3f5f"
          },
          "geo": {
           "bgcolor": "white",
           "lakecolor": "white",
           "landcolor": "#E5ECF6",
           "showlakes": true,
           "showland": true,
           "subunitcolor": "white"
          },
          "hoverlabel": {
           "align": "left"
          },
          "hovermode": "closest",
          "mapbox": {
           "style": "light"
          },
          "paper_bgcolor": "white",
          "plot_bgcolor": "#E5ECF6",
          "polar": {
           "angularaxis": {
            "gridcolor": "white",
            "linecolor": "white",
            "ticks": ""
           },
           "bgcolor": "#E5ECF6",
           "radialaxis": {
            "gridcolor": "white",
            "linecolor": "white",
            "ticks": ""
           }
          },
          "scene": {
           "xaxis": {
            "backgroundcolor": "#E5ECF6",
            "gridcolor": "white",
            "gridwidth": 2,
            "linecolor": "white",
            "showbackground": true,
            "ticks": "",
            "zerolinecolor": "white"
           },
           "yaxis": {
            "backgroundcolor": "#E5ECF6",
            "gridcolor": "white",
            "gridwidth": 2,
            "linecolor": "white",
            "showbackground": true,
            "ticks": "",
            "zerolinecolor": "white"
           },
           "zaxis": {
            "backgroundcolor": "#E5ECF6",
            "gridcolor": "white",
            "gridwidth": 2,
            "linecolor": "white",
            "showbackground": true,
            "ticks": "",
            "zerolinecolor": "white"
           }
          },
          "shapedefaults": {
           "line": {
            "color": "#2a3f5f"
           }
          },
          "ternary": {
           "aaxis": {
            "gridcolor": "white",
            "linecolor": "white",
            "ticks": ""
           },
           "baxis": {
            "gridcolor": "white",
            "linecolor": "white",
            "ticks": ""
           },
           "bgcolor": "#E5ECF6",
           "caxis": {
            "gridcolor": "white",
            "linecolor": "white",
            "ticks": ""
           }
          },
          "title": {
           "x": 0.05
          },
          "xaxis": {
           "automargin": true,
           "gridcolor": "white",
           "linecolor": "white",
           "ticks": "",
           "title": {
            "standoff": 15
           },
           "zerolinecolor": "white",
           "zerolinewidth": 2
          },
          "yaxis": {
           "automargin": true,
           "gridcolor": "white",
           "linecolor": "white",
           "ticks": "",
           "title": {
            "standoff": 15
           },
           "zerolinecolor": "white",
           "zerolinewidth": 2
          }
         }
        },
        "title": {
         "text": "Rank Correlation vs. σ_b by Estimator"
        },
        "xaxis": {
         "anchor": "y",
         "domain": [
          0,
          1
         ],
         "title": {
          "text": "σ_b"
         }
        },
        "yaxis": {
         "anchor": "x",
         "domain": [
          0,
          1
         ],
         "title": {
          "text": "Rank Correlation"
         }
        }
       }
      }
     },
     "metadata": {},
     "output_type": "display_data"
    }
   ],
   "source": [
    "fig_corr = px.line(\n",
    "    result_means,\n",
    "    x=\"sigma_b\",\n",
    "    y=\"rank_corr\",\n",
    "    color=\"estimator\",\n",
    "    line_dash=\"p\",\n",
    "    line_dash_map=dash_map,\n",
    "    markers=True,\n",
    "    title=\"Rank Correlation vs. σ_b by Estimator\",\n",
    "    labels={\"sigma_b\": \"σ_b\", \"rank_corr\": \"Rank Correlation\"},\n",
    ")\n",
    "\n",
    "# keep legend showing only estimator\n",
    "fig_corr.update_layout(legend_title_text=\"Estimator\")\n",
    "fig_corr.show()"
   ]
  }
 ],
 "metadata": {
  "kernelspec": {
   "display_name": "sham",
   "language": "python",
   "name": "python3"
  },
  "language_info": {
   "codemirror_mode": {
    "name": "ipython",
    "version": 3
   },
   "file_extension": ".py",
   "mimetype": "text/x-python",
   "name": "python",
   "nbconvert_exporter": "python",
   "pygments_lexer": "ipython3",
   "version": "3.13.2"
  }
 },
 "nbformat": 4,
 "nbformat_minor": 2
}
